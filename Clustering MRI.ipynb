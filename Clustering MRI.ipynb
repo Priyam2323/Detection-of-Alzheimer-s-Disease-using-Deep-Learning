{
 "cells": [
  {
   "cell_type": "code",
   "execution_count": 1,
   "id": "abc6a296",
   "metadata": {},
   "outputs": [],
   "source": [
    "#clustering of Brain images\n",
    "import cv2\n",
    "import numpy as np\n",
    "import matplotlib.pyplot as plt\n",
    "import os"
   ]
  },
  {
   "cell_type": "code",
   "execution_count": null,
   "id": "97783702",
   "metadata": {},
   "outputs": [],
   "source": [
    "def load_data(dir_list):\n",
    "    j=1\n",
    "    for directory in dir_list:\n",
    "        for filename in os.listdir(directory):\n",
    "            # load the image\n",
    "            aimage=cv2.imread(directory + '//' +filename)\n",
    "            #convert the image into an image of channel 3\n",
    "            aimage = cv2.cvtColor(aimage, cv2.COLOR_BGR2RGB)\n",
    "            pixel_values = aimage.reshape((-1, 3))\n",
    "            pixel_vals = np.float32(pixel_values)\n",
    "            #stopping criteria\n",
    "            criteria = ( cv2.TERM_CRITERIA_EPS + cv2.TERM_CRITERIA_MAX_ITER, 100,1.0)\n",
    "            k=8\n",
    "            retval, labels, centers = cv2.kmeans(pixel_vals, k, None, criteria,3, cv2.KMEANS_RANDOM_CENTERS)\n",
    "            centers = np.uint8(centers) \n",
    "            segmented_data = centers[labels.flatten()] \n",
    "            segmented_image = segmented_data.reshape((aimage.shape))\n",
    "            #save the clustered image\n",
    "            path=\"F:\\\\adni jpg\\\\MCI_clus\"\n",
    "            filename1=str(j)+'.jpg'\n",
    "            cv2.imwrite(os. path. join(path , filename1), aimage)\n",
    "            j=j+1\n",
    "    \n",
    "X= load_data(['MCI1 1.5T raw'])"
   ]
  }
 ],
 "metadata": {
  "kernelspec": {
   "display_name": "Python 3",
   "language": "python",
   "name": "python3"
  },
  "language_info": {
   "codemirror_mode": {
    "name": "ipython",
    "version": 3
   },
   "file_extension": ".py",
   "mimetype": "text/x-python",
   "name": "python",
   "nbconvert_exporter": "python",
   "pygments_lexer": "ipython3",
   "version": "3.8.8"
  }
 },
 "nbformat": 4,
 "nbformat_minor": 5
}
