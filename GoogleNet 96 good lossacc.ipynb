{
 "cells": [
  {
   "cell_type": "code",
   "execution_count": 1,
   "metadata": {
    "executionInfo": {
     "elapsed": 3500,
     "status": "ok",
     "timestamp": 1626252737157,
     "user": {
      "displayName": "Priyam Pandey",
      "photoUrl": "https://lh3.googleusercontent.com/a-/AOh14GjTJi5elTyhTMGu6Y4LrcNUlSOxugpt7J0xwKjX6w=s64",
      "userId": "14279260669392728533"
     },
     "user_tz": -330
    },
    "id": "ou8qnKl_SbKW"
   },
   "outputs": [],
   "source": [
    "import tensorflow as tf\n",
    "from tensorflow.keras.layers import Conv2D, Input, ZeroPadding2D, BatchNormalization, Activation, MaxPooling2D, Flatten, Dense\n",
    "from tensorflow.keras.models import Model, load_model\n",
    "from tensorflow.keras.callbacks import TensorBoard, ModelCheckpoint\n",
    "from sklearn.model_selection import train_test_split\n",
    "from sklearn.metrics import f1_score\n",
    "from sklearn.utils import shuffle\n",
    "import cv2\n",
    "import imutils\n",
    "import numpy as np\n",
    "import matplotlib.pyplot as plt\n",
    "import time\n",
    "from os import listdir\n",
    "from pathlib import Path \n",
    "\n",
    "%matplotlib inline\n"
   ]
  },
  {
   "cell_type": "code",
   "execution_count": 4,
   "metadata": {
    "executionInfo": {
     "elapsed": 417,
     "status": "ok",
     "timestamp": 1626253082543,
     "user": {
      "displayName": "Priyam Pandey",
      "photoUrl": "https://lh3.googleusercontent.com/a-/AOh14GjTJi5elTyhTMGu6Y4LrcNUlSOxugpt7J0xwKjX6w=s64",
      "userId": "14279260669392728533"
     },
     "user_tz": -330
    },
    "id": "h6IwoH5ITBS5"
   },
   "outputs": [],
   "source": [
    "import os\n",
    "os.chdir(\"/content/gdrive/My Drive/dataset_adni/augmented_data\")"
   ]
  },
  {
   "cell_type": "code",
   "execution_count": 2,
   "metadata": {
    "executionInfo": {
     "elapsed": 402,
     "status": "ok",
     "timestamp": 1626253095354,
     "user": {
      "displayName": "Priyam Pandey",
      "photoUrl": "https://lh3.googleusercontent.com/a-/AOh14GjTJi5elTyhTMGu6Y4LrcNUlSOxugpt7J0xwKjX6w=s64",
      "userId": "14279260669392728533"
     },
     "user_tz": -330
    },
    "id": "hUJAl6RKSbKn"
   },
   "outputs": [],
   "source": [
    "def load_data(dir_list):\n",
    "    \"\"\"\n",
    "    Read images, resize and normalize them. \n",
    "    \"\"\"\n",
    "    # load all images in a directory\n",
    "    X = []\n",
    "    y = []\n",
    "    #image_width, image_height = image_size\n",
    "    \n",
    "    for directory in dir_list:\n",
    "        for filename in listdir(directory): \n",
    "            # load the image\n",
    "            image = cv2.imread(directory+'//'+filename)\n",
    "            image = image / 255.\n",
    "            # convert image to numpy array and append it to X\n",
    "            X.append(image)\n",
    "            if directory[-7:] == 'AD_crop':#directory[-6:]\n",
    "                y.append([2])\n",
    "            elif directory[-7:] =='MI_crop':\n",
    "                y.append([1])\n",
    "            else:\n",
    "                y.append([3])\n",
    "                \n",
    "    X = np.array(X)\n",
    "    y = np.array(y)\n",
    "    X, y = shuffle(X, y)\n",
    "    \n",
    "    print(f'Number of examples is: {len(X)}')\n",
    "    print(f'X shape is: {X.shape}')\n",
    "    print(f'y shape is: {y.shape}')\n",
    "    \n",
    "    return X, y\n"
   ]
  },
  {
   "cell_type": "code",
   "execution_count": 3,
   "metadata": {
    "colab": {
     "base_uri": "https://localhost:8080/"
    },
    "executionInfo": {
     "elapsed": 823447,
     "status": "ok",
     "timestamp": 1626253925975,
     "user": {
      "displayName": "Priyam Pandey",
      "photoUrl": "https://lh3.googleusercontent.com/a-/AOh14GjTJi5elTyhTMGu6Y4LrcNUlSOxugpt7J0xwKjX6w=s64",
      "userId": "14279260669392728533"
     },
     "user_tz": -330
    },
    "id": "5XR2KnulSbKo",
    "outputId": "66a8c35f-2aec-42de-e18b-faab90605e05"
   },
   "outputs": [
    {
     "name": "stdout",
     "output_type": "stream",
     "text": [
      "Number of examples is: 2934\n",
      "X shape is: (2934, 224, 224, 3)\n",
      "y shape is: (2934, 1)\n"
     ]
    }
   ],
   "source": [
    "X, y = load_data(['MI_crop','CN_crop','AD_crop'])\n"
   ]
  },
  {
   "cell_type": "code",
   "execution_count": 4,
   "metadata": {
    "id": "l9Jod9hDUYM6"
   },
   "outputs": [],
   "source": [
    "import os\n",
    "import numpy as np\n",
    "import tensorflow as tf\n",
    "import matplotlib.pyplot as plt\n",
    "from tensorflow.keras import regularizers\n",
    "from tensorflow.keras.models import Sequential, Model\n",
    "from tensorflow.keras.layers import Input, Flatten, Dense, Dropout, BatchNormalization\n",
    "from tensorflow.keras.layers import Conv2D, MaxPooling2D, AveragePooling2D, ZeroPadding2D\n",
    "from tensorflow.keras.layers import Concatenate\n",
    "from tensorflow.keras.preprocessing.image import ImageDataGenerator\n",
    "from tensorflow.keras.optimizers import Adam, SGD"
   ]
  },
  {
   "cell_type": "code",
   "execution_count": 5,
   "metadata": {
    "id": "P8PMNJnDSbKq"
   },
   "outputs": [],
   "source": [
    "def split_data(X, y, test_size=0.2):\n",
    "       \n",
    "    \"\"\"\n",
    "    Splits data into training, development and test sets.\n",
    "    Arguments:\n",
    "        X: A numpy array with shape = (#_examples, image_width, image_height, #_channels)\n",
    "        y: A numpy array with shape = (#_examples, 1)\n",
    "    Returns:\n",
    "        X_train: A numpy array with shape = (#_train_examples, image_width, image_height, #_channels)\n",
    "        y_train: A numpy array with shape = (#_train_examples, 1)\n",
    "        X_val: A numpy array with shape = (#_val_examples, image_width, image_height, #_channels)\n",
    "        y_val: A numpy array with shape = (#_val_examples, 1)\n",
    "        X_test: A numpy array with shape = (#_test_examples, image_width, image_height, #_channels)\n",
    "        y_test: A numpy array with shape = (#_test_examples, 1)\n",
    "    \"\"\"\n",
    "    \n",
    "    X_train, X_test_val, y_train, y_test_val = train_test_split(X, y, test_size=test_size)\n",
    "    X_test, X_val, y_test, y_val = train_test_split(X_test_val, y_test_val, test_size=0.5)\n",
    "    \n",
    "    return X_train, y_train, X_val, y_val, X_test, y_test\n"
   ]
  },
  {
   "cell_type": "code",
   "execution_count": 6,
   "metadata": {
    "id": "0c6z6lOpSbKr"
   },
   "outputs": [],
   "source": [
    "X_train, y_train, X_val, y_val, X_test, y_test = split_data(X, y, test_size=0.3)"
   ]
  },
  {
   "cell_type": "code",
   "execution_count": 7,
   "metadata": {
    "id": "oB8j8ZFTSbKs",
    "outputId": "9693ce01-0467-4b22-dd20-e394c8583dca"
   },
   "outputs": [
    {
     "name": "stdout",
     "output_type": "stream",
     "text": [
      "number of training examples = 2053\n",
      "number of development examples = 441\n",
      "number of test examples = 440\n",
      "X_train shape: (2053, 224, 224, 3)\n",
      "Y_train shape: (2053, 1)\n",
      "X_val (dev) shape: (441, 224, 224, 3)\n",
      "Y_val (dev) shape: (441, 1)\n",
      "X_test shape: (440, 224, 224, 3)\n",
      "Y_test shape: (440, 1)\n"
     ]
    }
   ],
   "source": [
    "print (\"number of training examples = \" + str(X_train.shape[0]))\n",
    "print (\"number of development examples = \" + str(X_val.shape[0]))\n",
    "print (\"number of test examples = \" + str(X_test.shape[0]))\n",
    "print (\"X_train shape: \" + str(X_train.shape))\n",
    "print (\"Y_train shape: \" + str(y_train.shape))\n",
    "print (\"X_val (dev) shape: \" + str(X_val.shape))\n",
    "print (\"Y_val (dev) shape: \" + str(y_val.shape))\n",
    "print (\"X_test shape: \" + str(X_test.shape))\n",
    "print (\"Y_test shape: \" + str(y_test.shape))\n"
   ]
  },
  {
   "cell_type": "code",
   "execution_count": 8,
   "metadata": {
    "id": "Pp4SvHGZSbKs"
   },
   "outputs": [],
   "source": [
    "def hms_string(sec_elapsed):\n",
    "    h = int(sec_elapsed / (60 * 60))\n",
    "    m = int((sec_elapsed % (60 * 60)) / 60)\n",
    "    s = sec_elapsed % 60\n",
    "    return f\"{h}:{m}:{round(s,1)}\"\n",
    "\n"
   ]
  },
  {
   "cell_type": "code",
   "execution_count": 9,
   "metadata": {
    "id": "x7Q4FAxlSbKt"
   },
   "outputs": [],
   "source": [
    "def compute_f1_score(y_true, prob):\n",
    "    # convert the vector of probabilities to a target vector\n",
    "    y_pred = np.where(prob > 0.5, 1, 0)\n",
    "    \n",
    "    score = f1_score(y_true, y_pred)\n",
    "    \n",
    "    \n",
    "    return score\n"
   ]
  },
  {
   "cell_type": "code",
   "execution_count": 10,
   "metadata": {},
   "outputs": [],
   "source": [
    "IMAGE_SHAPE = (224, 224, 3)\n",
    "def inception(x, filters):\n",
    "    # 1x1\n",
    "    path1 = Conv2D(filters=filters[0], kernel_size=(1,1), strides=1, padding='same', activation='relu')(x)\n",
    "\n",
    "    # 1x1->3x3\n",
    "    path2 = Conv2D(filters=filters[1][0], kernel_size=(1,1), strides=1, padding='same', activation='relu')(x)\n",
    "    path2 = Conv2D(filters=filters[1][1], kernel_size=(3,3), strides=1, padding='same', activation='relu')(path2)\n",
    "    \n",
    "    # 1x1->5x5\n",
    "    path3 = Conv2D(filters=filters[2][0], kernel_size=(1,1), strides=1, padding='same', activation='relu')(x)\n",
    "    path3 = Conv2D(filters=filters[2][1], kernel_size=(5,5), strides=1, padding='same', activation='relu')(path3)\n",
    "\n",
    "    # 3x3->1x1\n",
    "    path4 = MaxPooling2D(pool_size=(3,3), strides=1, padding='same')(x)\n",
    "    path4 = Conv2D(filters=filters[3], kernel_size=(1,1), strides=1, padding='same', activation='relu')(path4)\n",
    "\n",
    "    return Concatenate(axis=-1)([path1,path2,path3,path4])\n",
    "\n",
    "\n",
    "def auxiliary(x, name=None):\n",
    "    layer = AveragePooling2D(pool_size=(5,5), strides=3, padding='valid')(x)\n",
    "    layer = Conv2D(filters=128, kernel_size=(1,1), strides=1, padding='same', activation='relu')(layer)\n",
    "    layer = Flatten()(layer)\n",
    "    layer = Dense(units=256, activation='relu')(layer)\n",
    "    layer = Dropout(0.4)(layer)\n",
    "    layer = Dense(units=4, activation='softmax', name=name)(layer)\n",
    "    return layer\n",
    "\n",
    "\n",
    "def googlenet():\n",
    "    layer_in = Input(shape=IMAGE_SHAPE)\n",
    "    \n",
    "    # stage-1\n",
    "    layer = Conv2D(filters=64, kernel_size=(7,7), strides=2, padding='same', activation='relu')(layer_in)\n",
    "    layer = MaxPooling2D(pool_size=(3,3), strides=2, padding='same')(layer)\n",
    "    layer = BatchNormalization()(layer)\n",
    "\n",
    "    # stage-2\n",
    "    layer = Conv2D(filters=64, kernel_size=(1,1), strides=1, padding='same', activation='relu')(layer)\n",
    "    layer = Conv2D(filters=192, kernel_size=(3,3), strides=1, padding='same', activation='relu')(layer)\n",
    "    layer = BatchNormalization()(layer)\n",
    "    layer = MaxPooling2D(pool_size=(3,3), strides=2, padding='same')(layer)\n",
    "\n",
    "    # stage-3\n",
    "    layer = inception(layer, [ 64,  (96,128), (16,32), 32]) #3a\n",
    "    layer = inception(layer, [128, (128,192), (32,96), 64]) #3b\n",
    "    layer = MaxPooling2D(pool_size=(3,3), strides=2, padding='same')(layer)\n",
    "    \n",
    "    # stage-4\n",
    "    layer = inception(layer, [192,  (96,208),  (16,48),  64]) #4a\n",
    "    aux1  = auxiliary(layer, name='aux1')\n",
    "    layer = inception(layer, [160, (112,224),  (24,64),  64]) #4b\n",
    "    layer = inception(layer, [128, (128,256),  (24,64),  64]) #4c\n",
    "    layer = inception(layer, [112, (144,288),  (32,64),  64]) #4d\n",
    "    aux2  = auxiliary(layer, name='aux2')\n",
    "    layer = inception(layer, [256, (160,320), (32,128), 128]) #4e\n",
    "    layer = MaxPooling2D(pool_size=(3,3), strides=2, padding='same')(layer)\n",
    "    \n",
    "    # stage-5\n",
    "    layer = inception(layer, [256, (160,320), (32,128), 128]) #5a\n",
    "    layer = inception(layer, [384, (192,384), (48,128), 128]) #5b\n",
    "    layer = AveragePooling2D(pool_size=(7,7), strides=1, padding='valid')(layer)\n",
    "    \n",
    "    # stage-6\n",
    "    layer = Flatten()(layer)\n",
    "    layer = Dropout(0.4)(layer)\n",
    "    layer = Dense(units=256, activation='linear')(layer)\n",
    "    main = Dense(units=4, activation='softmax', name='main')(layer)\n",
    "    \n",
    "    model = Model(inputs=layer_in, outputs=[main, aux1, aux2])\n",
    "    \n",
    "    return model\n",
    "\n",
    "\n",
    "# train model\n"
   ]
  },
  {
   "cell_type": "code",
   "execution_count": 11,
   "metadata": {
    "id": "i01KJSu7SbKw"
   },
   "outputs": [
    {
     "name": "stdout",
     "output_type": "stream",
     "text": [
      "Model: \"model\"\n",
      "__________________________________________________________________________________________________\n",
      "Layer (type)                    Output Shape         Param #     Connected to                     \n",
      "==================================================================================================\n",
      "input_1 (InputLayer)            [(None, 224, 224, 3) 0                                            \n",
      "__________________________________________________________________________________________________\n",
      "conv2d (Conv2D)                 (None, 112, 112, 64) 9472        input_1[0][0]                    \n",
      "__________________________________________________________________________________________________\n",
      "max_pooling2d (MaxPooling2D)    (None, 56, 56, 64)   0           conv2d[0][0]                     \n",
      "__________________________________________________________________________________________________\n",
      "batch_normalization (BatchNorma (None, 56, 56, 64)   256         max_pooling2d[0][0]              \n",
      "__________________________________________________________________________________________________\n",
      "conv2d_1 (Conv2D)               (None, 56, 56, 64)   4160        batch_normalization[0][0]        \n",
      "__________________________________________________________________________________________________\n",
      "conv2d_2 (Conv2D)               (None, 56, 56, 192)  110784      conv2d_1[0][0]                   \n",
      "__________________________________________________________________________________________________\n",
      "batch_normalization_1 (BatchNor (None, 56, 56, 192)  768         conv2d_2[0][0]                   \n",
      "__________________________________________________________________________________________________\n",
      "max_pooling2d_1 (MaxPooling2D)  (None, 28, 28, 192)  0           batch_normalization_1[0][0]      \n",
      "__________________________________________________________________________________________________\n",
      "conv2d_4 (Conv2D)               (None, 28, 28, 96)   18528       max_pooling2d_1[0][0]            \n",
      "__________________________________________________________________________________________________\n",
      "conv2d_6 (Conv2D)               (None, 28, 28, 16)   3088        max_pooling2d_1[0][0]            \n",
      "__________________________________________________________________________________________________\n",
      "max_pooling2d_2 (MaxPooling2D)  (None, 28, 28, 192)  0           max_pooling2d_1[0][0]            \n",
      "__________________________________________________________________________________________________\n",
      "conv2d_3 (Conv2D)               (None, 28, 28, 64)   12352       max_pooling2d_1[0][0]            \n",
      "__________________________________________________________________________________________________\n",
      "conv2d_5 (Conv2D)               (None, 28, 28, 128)  110720      conv2d_4[0][0]                   \n",
      "__________________________________________________________________________________________________\n",
      "conv2d_7 (Conv2D)               (None, 28, 28, 32)   12832       conv2d_6[0][0]                   \n",
      "__________________________________________________________________________________________________\n",
      "conv2d_8 (Conv2D)               (None, 28, 28, 32)   6176        max_pooling2d_2[0][0]            \n",
      "__________________________________________________________________________________________________\n",
      "concatenate (Concatenate)       (None, 28, 28, 256)  0           conv2d_3[0][0]                   \n",
      "                                                                 conv2d_5[0][0]                   \n",
      "                                                                 conv2d_7[0][0]                   \n",
      "                                                                 conv2d_8[0][0]                   \n",
      "__________________________________________________________________________________________________\n",
      "conv2d_10 (Conv2D)              (None, 28, 28, 128)  32896       concatenate[0][0]                \n",
      "__________________________________________________________________________________________________\n",
      "conv2d_12 (Conv2D)              (None, 28, 28, 32)   8224        concatenate[0][0]                \n",
      "__________________________________________________________________________________________________\n",
      "max_pooling2d_3 (MaxPooling2D)  (None, 28, 28, 256)  0           concatenate[0][0]                \n",
      "__________________________________________________________________________________________________\n",
      "conv2d_9 (Conv2D)               (None, 28, 28, 128)  32896       concatenate[0][0]                \n",
      "__________________________________________________________________________________________________\n",
      "conv2d_11 (Conv2D)              (None, 28, 28, 192)  221376      conv2d_10[0][0]                  \n",
      "__________________________________________________________________________________________________\n",
      "conv2d_13 (Conv2D)              (None, 28, 28, 96)   76896       conv2d_12[0][0]                  \n",
      "__________________________________________________________________________________________________\n",
      "conv2d_14 (Conv2D)              (None, 28, 28, 64)   16448       max_pooling2d_3[0][0]            \n",
      "__________________________________________________________________________________________________\n",
      "concatenate_1 (Concatenate)     (None, 28, 28, 480)  0           conv2d_9[0][0]                   \n",
      "                                                                 conv2d_11[0][0]                  \n",
      "                                                                 conv2d_13[0][0]                  \n",
      "                                                                 conv2d_14[0][0]                  \n",
      "__________________________________________________________________________________________________\n",
      "max_pooling2d_4 (MaxPooling2D)  (None, 14, 14, 480)  0           concatenate_1[0][0]              \n",
      "__________________________________________________________________________________________________\n",
      "conv2d_16 (Conv2D)              (None, 14, 14, 96)   46176       max_pooling2d_4[0][0]            \n",
      "__________________________________________________________________________________________________\n",
      "conv2d_18 (Conv2D)              (None, 14, 14, 16)   7696        max_pooling2d_4[0][0]            \n",
      "__________________________________________________________________________________________________\n",
      "max_pooling2d_5 (MaxPooling2D)  (None, 14, 14, 480)  0           max_pooling2d_4[0][0]            \n",
      "__________________________________________________________________________________________________\n",
      "conv2d_15 (Conv2D)              (None, 14, 14, 192)  92352       max_pooling2d_4[0][0]            \n",
      "__________________________________________________________________________________________________\n",
      "conv2d_17 (Conv2D)              (None, 14, 14, 208)  179920      conv2d_16[0][0]                  \n",
      "__________________________________________________________________________________________________\n",
      "conv2d_19 (Conv2D)              (None, 14, 14, 48)   19248       conv2d_18[0][0]                  \n",
      "__________________________________________________________________________________________________\n",
      "conv2d_20 (Conv2D)              (None, 14, 14, 64)   30784       max_pooling2d_5[0][0]            \n",
      "__________________________________________________________________________________________________\n",
      "concatenate_2 (Concatenate)     (None, 14, 14, 512)  0           conv2d_15[0][0]                  \n",
      "                                                                 conv2d_17[0][0]                  \n",
      "                                                                 conv2d_19[0][0]                  \n",
      "                                                                 conv2d_20[0][0]                  \n",
      "__________________________________________________________________________________________________\n",
      "conv2d_23 (Conv2D)              (None, 14, 14, 112)  57456       concatenate_2[0][0]              \n",
      "__________________________________________________________________________________________________\n",
      "conv2d_25 (Conv2D)              (None, 14, 14, 24)   12312       concatenate_2[0][0]              \n",
      "__________________________________________________________________________________________________\n",
      "max_pooling2d_6 (MaxPooling2D)  (None, 14, 14, 512)  0           concatenate_2[0][0]              \n",
      "__________________________________________________________________________________________________\n",
      "conv2d_22 (Conv2D)              (None, 14, 14, 160)  82080       concatenate_2[0][0]              \n",
      "__________________________________________________________________________________________________\n",
      "conv2d_24 (Conv2D)              (None, 14, 14, 224)  226016      conv2d_23[0][0]                  \n",
      "__________________________________________________________________________________________________\n",
      "conv2d_26 (Conv2D)              (None, 14, 14, 64)   38464       conv2d_25[0][0]                  \n",
      "__________________________________________________________________________________________________\n",
      "conv2d_27 (Conv2D)              (None, 14, 14, 64)   32832       max_pooling2d_6[0][0]            \n",
      "__________________________________________________________________________________________________\n",
      "concatenate_3 (Concatenate)     (None, 14, 14, 512)  0           conv2d_22[0][0]                  \n",
      "                                                                 conv2d_24[0][0]                  \n",
      "                                                                 conv2d_26[0][0]                  \n",
      "                                                                 conv2d_27[0][0]                  \n",
      "__________________________________________________________________________________________________\n",
      "conv2d_29 (Conv2D)              (None, 14, 14, 128)  65664       concatenate_3[0][0]              \n",
      "__________________________________________________________________________________________________\n",
      "conv2d_31 (Conv2D)              (None, 14, 14, 24)   12312       concatenate_3[0][0]              \n",
      "__________________________________________________________________________________________________\n",
      "max_pooling2d_7 (MaxPooling2D)  (None, 14, 14, 512)  0           concatenate_3[0][0]              \n",
      "__________________________________________________________________________________________________\n",
      "conv2d_28 (Conv2D)              (None, 14, 14, 128)  65664       concatenate_3[0][0]              \n",
      "__________________________________________________________________________________________________\n",
      "conv2d_30 (Conv2D)              (None, 14, 14, 256)  295168      conv2d_29[0][0]                  \n",
      "__________________________________________________________________________________________________\n",
      "conv2d_32 (Conv2D)              (None, 14, 14, 64)   38464       conv2d_31[0][0]                  \n",
      "__________________________________________________________________________________________________\n",
      "conv2d_33 (Conv2D)              (None, 14, 14, 64)   32832       max_pooling2d_7[0][0]            \n",
      "__________________________________________________________________________________________________\n",
      "concatenate_4 (Concatenate)     (None, 14, 14, 512)  0           conv2d_28[0][0]                  \n",
      "                                                                 conv2d_30[0][0]                  \n",
      "                                                                 conv2d_32[0][0]                  \n",
      "                                                                 conv2d_33[0][0]                  \n",
      "__________________________________________________________________________________________________\n",
      "conv2d_35 (Conv2D)              (None, 14, 14, 144)  73872       concatenate_4[0][0]              \n",
      "__________________________________________________________________________________________________\n",
      "conv2d_37 (Conv2D)              (None, 14, 14, 32)   16416       concatenate_4[0][0]              \n",
      "__________________________________________________________________________________________________\n",
      "max_pooling2d_8 (MaxPooling2D)  (None, 14, 14, 512)  0           concatenate_4[0][0]              \n",
      "__________________________________________________________________________________________________\n",
      "conv2d_34 (Conv2D)              (None, 14, 14, 112)  57456       concatenate_4[0][0]              \n",
      "__________________________________________________________________________________________________\n",
      "conv2d_36 (Conv2D)              (None, 14, 14, 288)  373536      conv2d_35[0][0]                  \n",
      "__________________________________________________________________________________________________\n",
      "conv2d_38 (Conv2D)              (None, 14, 14, 64)   51264       conv2d_37[0][0]                  \n",
      "__________________________________________________________________________________________________\n",
      "conv2d_39 (Conv2D)              (None, 14, 14, 64)   32832       max_pooling2d_8[0][0]            \n",
      "__________________________________________________________________________________________________\n",
      "concatenate_5 (Concatenate)     (None, 14, 14, 528)  0           conv2d_34[0][0]                  \n",
      "                                                                 conv2d_36[0][0]                  \n",
      "                                                                 conv2d_38[0][0]                  \n",
      "                                                                 conv2d_39[0][0]                  \n",
      "__________________________________________________________________________________________________\n",
      "conv2d_42 (Conv2D)              (None, 14, 14, 160)  84640       concatenate_5[0][0]              \n",
      "__________________________________________________________________________________________________\n",
      "conv2d_44 (Conv2D)              (None, 14, 14, 32)   16928       concatenate_5[0][0]              \n",
      "__________________________________________________________________________________________________\n",
      "max_pooling2d_9 (MaxPooling2D)  (None, 14, 14, 528)  0           concatenate_5[0][0]              \n",
      "__________________________________________________________________________________________________\n",
      "conv2d_41 (Conv2D)              (None, 14, 14, 256)  135424      concatenate_5[0][0]              \n",
      "__________________________________________________________________________________________________\n",
      "conv2d_43 (Conv2D)              (None, 14, 14, 320)  461120      conv2d_42[0][0]                  \n",
      "__________________________________________________________________________________________________\n",
      "conv2d_45 (Conv2D)              (None, 14, 14, 128)  102528      conv2d_44[0][0]                  \n",
      "__________________________________________________________________________________________________\n",
      "conv2d_46 (Conv2D)              (None, 14, 14, 128)  67712       max_pooling2d_9[0][0]            \n",
      "__________________________________________________________________________________________________\n",
      "concatenate_6 (Concatenate)     (None, 14, 14, 832)  0           conv2d_41[0][0]                  \n",
      "                                                                 conv2d_43[0][0]                  \n",
      "                                                                 conv2d_45[0][0]                  \n",
      "                                                                 conv2d_46[0][0]                  \n",
      "__________________________________________________________________________________________________\n",
      "max_pooling2d_10 (MaxPooling2D) (None, 7, 7, 832)    0           concatenate_6[0][0]              \n",
      "__________________________________________________________________________________________________\n",
      "conv2d_48 (Conv2D)              (None, 7, 7, 160)    133280      max_pooling2d_10[0][0]           \n",
      "__________________________________________________________________________________________________\n",
      "conv2d_50 (Conv2D)              (None, 7, 7, 32)     26656       max_pooling2d_10[0][0]           \n",
      "__________________________________________________________________________________________________\n",
      "max_pooling2d_11 (MaxPooling2D) (None, 7, 7, 832)    0           max_pooling2d_10[0][0]           \n",
      "__________________________________________________________________________________________________\n",
      "conv2d_47 (Conv2D)              (None, 7, 7, 256)    213248      max_pooling2d_10[0][0]           \n",
      "__________________________________________________________________________________________________\n",
      "conv2d_49 (Conv2D)              (None, 7, 7, 320)    461120      conv2d_48[0][0]                  \n",
      "__________________________________________________________________________________________________\n",
      "conv2d_51 (Conv2D)              (None, 7, 7, 128)    102528      conv2d_50[0][0]                  \n",
      "__________________________________________________________________________________________________\n",
      "conv2d_52 (Conv2D)              (None, 7, 7, 128)    106624      max_pooling2d_11[0][0]           \n",
      "__________________________________________________________________________________________________\n",
      "concatenate_7 (Concatenate)     (None, 7, 7, 832)    0           conv2d_47[0][0]                  \n",
      "                                                                 conv2d_49[0][0]                  \n",
      "                                                                 conv2d_51[0][0]                  \n",
      "                                                                 conv2d_52[0][0]                  \n",
      "__________________________________________________________________________________________________\n",
      "conv2d_54 (Conv2D)              (None, 7, 7, 192)    159936      concatenate_7[0][0]              \n",
      "__________________________________________________________________________________________________\n",
      "conv2d_56 (Conv2D)              (None, 7, 7, 48)     39984       concatenate_7[0][0]              \n",
      "__________________________________________________________________________________________________\n",
      "max_pooling2d_12 (MaxPooling2D) (None, 7, 7, 832)    0           concatenate_7[0][0]              \n",
      "__________________________________________________________________________________________________\n",
      "conv2d_53 (Conv2D)              (None, 7, 7, 384)    319872      concatenate_7[0][0]              \n",
      "__________________________________________________________________________________________________\n",
      "conv2d_55 (Conv2D)              (None, 7, 7, 384)    663936      conv2d_54[0][0]                  \n",
      "__________________________________________________________________________________________________\n",
      "conv2d_57 (Conv2D)              (None, 7, 7, 128)    153728      conv2d_56[0][0]                  \n",
      "__________________________________________________________________________________________________\n",
      "conv2d_58 (Conv2D)              (None, 7, 7, 128)    106624      max_pooling2d_12[0][0]           \n",
      "__________________________________________________________________________________________________\n",
      "concatenate_8 (Concatenate)     (None, 7, 7, 1024)   0           conv2d_53[0][0]                  \n",
      "                                                                 conv2d_55[0][0]                  \n",
      "                                                                 conv2d_57[0][0]                  \n",
      "                                                                 conv2d_58[0][0]                  \n",
      "__________________________________________________________________________________________________\n",
      "average_pooling2d (AveragePooli (None, 4, 4, 512)    0           concatenate_2[0][0]              \n",
      "__________________________________________________________________________________________________\n",
      "average_pooling2d_1 (AveragePoo (None, 4, 4, 528)    0           concatenate_5[0][0]              \n",
      "__________________________________________________________________________________________________\n",
      "average_pooling2d_2 (AveragePoo (None, 1, 1, 1024)   0           concatenate_8[0][0]              \n",
      "__________________________________________________________________________________________________\n",
      "conv2d_21 (Conv2D)              (None, 4, 4, 128)    65664       average_pooling2d[0][0]          \n",
      "__________________________________________________________________________________________________\n",
      "conv2d_40 (Conv2D)              (None, 4, 4, 128)    67712       average_pooling2d_1[0][0]        \n",
      "__________________________________________________________________________________________________\n",
      "flatten_2 (Flatten)             (None, 1024)         0           average_pooling2d_2[0][0]        \n",
      "__________________________________________________________________________________________________\n",
      "flatten (Flatten)               (None, 2048)         0           conv2d_21[0][0]                  \n",
      "__________________________________________________________________________________________________\n",
      "flatten_1 (Flatten)             (None, 2048)         0           conv2d_40[0][0]                  \n",
      "__________________________________________________________________________________________________\n",
      "dropout_2 (Dropout)             (None, 1024)         0           flatten_2[0][0]                  \n",
      "__________________________________________________________________________________________________\n",
      "dense (Dense)                   (None, 256)          524544      flatten[0][0]                    \n",
      "__________________________________________________________________________________________________\n",
      "dense_1 (Dense)                 (None, 256)          524544      flatten_1[0][0]                  \n",
      "__________________________________________________________________________________________________\n",
      "dense_2 (Dense)                 (None, 256)          262400      dropout_2[0][0]                  \n",
      "__________________________________________________________________________________________________\n",
      "dropout (Dropout)               (None, 256)          0           dense[0][0]                      \n",
      "__________________________________________________________________________________________________\n",
      "dropout_1 (Dropout)             (None, 256)          0           dense_1[0][0]                    \n",
      "__________________________________________________________________________________________________\n",
      "main (Dense)                    (None, 4)            1028        dense_2[0][0]                    \n",
      "__________________________________________________________________________________________________\n",
      "aux1 (Dense)                    (None, 4)            1028        dropout[0][0]                    \n",
      "__________________________________________________________________________________________________\n",
      "aux2 (Dense)                    (None, 4)            1028        dropout_1[0][0]                  \n",
      "==================================================================================================\n",
      "Total params: 7,422,524\n",
      "Trainable params: 7,422,012\n",
      "Non-trainable params: 512\n",
      "__________________________________________________________________________________________________\n"
     ]
    }
   ],
   "source": [
    "model = googlenet()\n",
    "model.summary()"
   ]
  },
  {
   "cell_type": "code",
   "execution_count": 13,
   "metadata": {
    "id": "pNuUAa0aSbKx"
   },
   "outputs": [],
   "source": [
    "\n",
    "model.compile(optimizer='adam', loss=tf.keras.losses.SparseCategoricalCrossentropy(),loss_weights={'main': 1.0, 'aux1': 0.3, 'aux2': 0.3}, metrics=['accuracy'])\n",
    "\n",
    "\n",
    "\n",
    "\n"
   ]
  },
  {
   "cell_type": "code",
   "execution_count": 13,
   "metadata": {
    "id": "k8NoPqzUSbKy"
   },
   "outputs": [],
   "source": [
    "log_file_name = f'alzheimer_detection_cnn_{int(time.time())}'\n",
    "tensorboard = TensorBoard(log_dir=f'logs/{log_file_name}')\n"
   ]
  },
  {
   "cell_type": "code",
   "execution_count": 14,
   "metadata": {
    "id": "4s4LeFwlSbKy"
   },
   "outputs": [],
   "source": [
    "i=1\n",
    "filepath=\"cnn-parameters-improvement{i}\"\n",
    "i=i+1\n",
    "# save the model with the best validation (development) accuracy till now\n",
    "checkpoint = ModelCheckpoint(\"models/{}.model\".format(filepath, monitor='val_acc', verbose=1, save_best_only=True, mode='max'))\n"
   ]
  },
  {
   "cell_type": "code",
   "execution_count": 14,
   "metadata": {
    "id": "L5l16xuiSbKz",
    "outputId": "4212797f-322b-48a6-d213-dd0acb5c063b",
    "scrolled": true
   },
   "outputs": [
    {
     "name": "stdout",
     "output_type": "stream",
     "text": [
      "Epoch 1/100\n",
      "129/129 [==============================] - 280s 2s/step - loss: 1.7243 - main_loss: 1.1330 - aux1_loss: 0.9656 - aux2_loss: 1.0053 - main_accuracy: 0.3931 - aux1_accuracy: 0.5373 - aux2_accuracy: 0.4623 - val_loss: 3.2730 - val_main_loss: 2.2475 - val_aux1_loss: 1.0508 - val_aux2_loss: 2.3674 - val_main_accuracy: 0.3129 - val_aux1_accuracy: 0.4376 - val_aux2_accuracy: 0.3129\n",
      "Epoch 2/100\n",
      "129/129 [==============================] - 247s 2s/step - loss: 0.9106 - main_loss: 0.6327 - aux1_loss: 0.4394 - aux2_loss: 0.4872 - main_accuracy: 0.6659 - aux1_accuracy: 0.8052 - aux2_accuracy: 0.7832 - val_loss: 1.4501 - val_main_loss: 0.9850 - val_aux1_loss: 0.7238 - val_aux2_loss: 0.8264 - val_main_accuracy: 0.6100 - val_aux1_accuracy: 0.7120 - val_aux2_accuracy: 0.6531\n",
      "Epoch 3/100\n",
      "129/129 [==============================] - 247s 2s/step - loss: 0.6789 - main_loss: 0.4877 - aux1_loss: 0.2968 - aux2_loss: 0.3407 - main_accuracy: 0.7832 - aux1_accuracy: 0.8860 - aux2_accuracy: 0.8758 - val_loss: 0.5554 - val_main_loss: 0.3831 - val_aux1_loss: 0.3051 - val_aux2_loss: 0.2692 - val_main_accuracy: 0.8957 - val_aux1_accuracy: 0.9116 - val_aux2_accuracy: 0.9161\n",
      "Epoch 4/100\n",
      "129/129 [==============================] - 247s 2s/step - loss: 0.3996 - main_loss: 0.2757 - aux1_loss: 0.2011 - aux2_loss: 0.2120 - main_accuracy: 0.9026 - aux1_accuracy: 0.9313 - aux2_accuracy: 0.9274 - val_loss: 0.8506 - val_main_loss: 0.6502 - val_aux1_loss: 0.2677 - val_aux2_loss: 0.4003 - val_main_accuracy: 0.7891 - val_aux1_accuracy: 0.9002 - val_aux2_accuracy: 0.8390\n",
      "Epoch 5/100\n",
      "129/129 [==============================] - 248s 2s/step - loss: 0.3494 - main_loss: 0.2397 - aux1_loss: 0.1762 - aux2_loss: 0.1893 - main_accuracy: 0.9260 - aux1_accuracy: 0.9420 - aux2_accuracy: 0.9401 - val_loss: 0.4823 - val_main_loss: 0.3179 - val_aux1_loss: 0.2336 - val_aux2_loss: 0.3143 - val_main_accuracy: 0.9070 - val_aux1_accuracy: 0.9252 - val_aux2_accuracy: 0.8776\n",
      "Epoch 6/100\n",
      "129/129 [==============================] - 247s 2s/step - loss: 0.2527 - main_loss: 0.1654 - aux1_loss: 0.1462 - aux2_loss: 0.1450 - main_accuracy: 0.9469 - aux1_accuracy: 0.9532 - aux2_accuracy: 0.9557 - val_loss: 0.2884 - val_main_loss: 0.1914 - val_aux1_loss: 0.1468 - val_aux2_loss: 0.1764 - val_main_accuracy: 0.9456 - val_aux1_accuracy: 0.9433 - val_aux2_accuracy: 0.9456\n",
      "Epoch 7/100\n",
      "129/129 [==============================] - 247s 2s/step - loss: 0.2019 - main_loss: 0.1285 - aux1_loss: 0.1171 - aux2_loss: 0.1273 - main_accuracy: 0.9630 - aux1_accuracy: 0.9630 - aux2_accuracy: 0.9644 - val_loss: 0.3227 - val_main_loss: 0.2112 - val_aux1_loss: 0.1940 - val_aux2_loss: 0.1778 - val_main_accuracy: 0.9297 - val_aux1_accuracy: 0.9274 - val_aux2_accuracy: 0.9320\n",
      "Epoch 8/100\n",
      "129/129 [==============================] - 247s 2s/step - loss: 0.1732 - main_loss: 0.1157 - aux1_loss: 0.0967 - aux2_loss: 0.0949 - main_accuracy: 0.9679 - aux1_accuracy: 0.9679 - aux2_accuracy: 0.9683 - val_loss: 0.3496 - val_main_loss: 0.2202 - val_aux1_loss: 0.2130 - val_aux2_loss: 0.2182 - val_main_accuracy: 0.9365 - val_aux1_accuracy: 0.9070 - val_aux2_accuracy: 0.9184\n",
      "Epoch 9/100\n",
      "129/129 [==============================] - 247s 2s/step - loss: 0.1936 - main_loss: 0.1272 - aux1_loss: 0.1086 - aux2_loss: 0.1127 - main_accuracy: 0.9586 - aux1_accuracy: 0.9640 - aux2_accuracy: 0.9649 - val_loss: 0.5870 - val_main_loss: 0.3709 - val_aux1_loss: 0.2994 - val_aux2_loss: 0.4208 - val_main_accuracy: 0.8345 - val_aux1_accuracy: 0.8753 - val_aux2_accuracy: 0.8254\n",
      "Epoch 10/100\n",
      "129/129 [==============================] - 247s 2s/step - loss: 0.1309 - main_loss: 0.0827 - aux1_loss: 0.0814 - aux2_loss: 0.0795 - main_accuracy: 0.9781 - aux1_accuracy: 0.9771 - aux2_accuracy: 0.9766 - val_loss: 0.4115 - val_main_loss: 0.2766 - val_aux1_loss: 0.2069 - val_aux2_loss: 0.2427 - val_main_accuracy: 0.9161 - val_aux1_accuracy: 0.9342 - val_aux2_accuracy: 0.9274\n",
      "Epoch 11/100\n",
      "129/129 [==============================] - 247s 2s/step - loss: 0.1698 - main_loss: 0.1126 - aux1_loss: 0.0938 - aux2_loss: 0.0967 - main_accuracy: 0.9644 - aux1_accuracy: 0.9659 - aux2_accuracy: 0.9654 - val_loss: 0.6083 - val_main_loss: 0.4211 - val_aux1_loss: 0.3205 - val_aux2_loss: 0.3034 - val_main_accuracy: 0.8277 - val_aux1_accuracy: 0.8594 - val_aux2_accuracy: 0.8821\n",
      "Epoch 12/100\n",
      "129/129 [==============================] - 247s 2s/step - loss: 0.1104 - main_loss: 0.0718 - aux1_loss: 0.0634 - aux2_loss: 0.0654 - main_accuracy: 0.9771 - aux1_accuracy: 0.9805 - aux2_accuracy: 0.9781 - val_loss: 0.2781 - val_main_loss: 0.1670 - val_aux1_loss: 0.1997 - val_aux2_loss: 0.1705 - val_main_accuracy: 0.9433 - val_aux1_accuracy: 0.9410 - val_aux2_accuracy: 0.9433\n",
      "Epoch 13/100\n",
      "129/129 [==============================] - 247s 2s/step - loss: 0.1073 - main_loss: 0.0671 - aux1_loss: 0.0716 - aux2_loss: 0.0625 - main_accuracy: 0.9810 - aux1_accuracy: 0.9737 - aux2_accuracy: 0.9810 - val_loss: 0.3787 - val_main_loss: 0.2549 - val_aux1_loss: 0.2000 - val_aux2_loss: 0.2126 - val_main_accuracy: 0.9342 - val_aux1_accuracy: 0.9365 - val_aux2_accuracy: 0.9320\n",
      "Epoch 14/100\n",
      "129/129 [==============================] - 248s 2s/step - loss: 0.0628 - main_loss: 0.0387 - aux1_loss: 0.0407 - aux2_loss: 0.0397 - main_accuracy: 0.9903 - aux1_accuracy: 0.9868 - aux2_accuracy: 0.9912 - val_loss: 0.5595 - val_main_loss: 0.3887 - val_aux1_loss: 0.2664 - val_aux2_loss: 0.3030 - val_main_accuracy: 0.9184 - val_aux1_accuracy: 0.9184 - val_aux2_accuracy: 0.9206\n",
      "Epoch 15/100\n",
      "129/129 [==============================] - 247s 2s/step - loss: 0.1456 - main_loss: 0.0928 - aux1_loss: 0.0830 - aux2_loss: 0.0930 - main_accuracy: 0.9742 - aux1_accuracy: 0.9703 - aux2_accuracy: 0.9732 - val_loss: 0.4004 - val_main_loss: 0.2609 - val_aux1_loss: 0.2483 - val_aux2_loss: 0.2166 - val_main_accuracy: 0.9206 - val_aux1_accuracy: 0.9252 - val_aux2_accuracy: 0.9342\n",
      "Epoch 16/100\n",
      "129/129 [==============================] - 247s 2s/step - loss: 0.0993 - main_loss: 0.0673 - aux1_loss: 0.0520 - aux2_loss: 0.0546 - main_accuracy: 0.9776 - aux1_accuracy: 0.9820 - aux2_accuracy: 0.9805 - val_loss: 0.3219 - val_main_loss: 0.2110 - val_aux1_loss: 0.1644 - val_aux2_loss: 0.2054 - val_main_accuracy: 0.9388 - val_aux1_accuracy: 0.9456 - val_aux2_accuracy: 0.9456\n",
      "Epoch 17/100\n",
      "129/129 [==============================] - 247s 2s/step - loss: 0.1142 - main_loss: 0.0842 - aux1_loss: 0.0451 - aux2_loss: 0.0548 - main_accuracy: 0.9752 - aux1_accuracy: 0.9830 - aux2_accuracy: 0.9810 - val_loss: 0.3267 - val_main_loss: 0.2171 - val_aux1_loss: 0.1833 - val_aux2_loss: 0.1819 - val_main_accuracy: 0.9501 - val_aux1_accuracy: 0.9456 - val_aux2_accuracy: 0.9501\n",
      "Epoch 18/100\n",
      "129/129 [==============================] - 247s 2s/step - loss: 0.0708 - main_loss: 0.0450 - aux1_loss: 0.0390 - aux2_loss: 0.0471 - main_accuracy: 0.9868 - aux1_accuracy: 0.9893 - aux2_accuracy: 0.9893 - val_loss: 0.3189 - val_main_loss: 0.2143 - val_aux1_loss: 0.1621 - val_aux2_loss: 0.1867 - val_main_accuracy: 0.9433 - val_aux1_accuracy: 0.9546 - val_aux2_accuracy: 0.9388\n",
      "Epoch 19/100\n",
      "129/129 [==============================] - 246s 2s/step - loss: 0.0878 - main_loss: 0.0609 - aux1_loss: 0.0414 - aux2_loss: 0.0484 - main_accuracy: 0.9830 - aux1_accuracy: 0.9893 - aux2_accuracy: 0.9844 - val_loss: 0.3126 - val_main_loss: 0.2115 - val_aux1_loss: 0.1468 - val_aux2_loss: 0.1902 - val_main_accuracy: 0.9478 - val_aux1_accuracy: 0.9637 - val_aux2_accuracy: 0.9546\n",
      "Epoch 20/100\n",
      "129/129 [==============================] - 246s 2s/step - loss: 0.0490 - main_loss: 0.0312 - aux1_loss: 0.0318 - aux2_loss: 0.0273 - main_accuracy: 0.9932 - aux1_accuracy: 0.9927 - aux2_accuracy: 0.9951 - val_loss: 0.4182 - val_main_loss: 0.2664 - val_aux1_loss: 0.2430 - val_aux2_loss: 0.2631 - val_main_accuracy: 0.9433 - val_aux1_accuracy: 0.9297 - val_aux2_accuracy: 0.9433\n",
      "Epoch 21/100\n",
      "129/129 [==============================] - 247s 2s/step - loss: 0.0919 - main_loss: 0.0603 - aux1_loss: 0.0477 - aux2_loss: 0.0576 - main_accuracy: 0.9815 - aux1_accuracy: 0.9859 - aux2_accuracy: 0.9820 - val_loss: 0.3637 - val_main_loss: 0.2383 - val_aux1_loss: 0.1812 - val_aux2_loss: 0.2366 - val_main_accuracy: 0.9456 - val_aux1_accuracy: 0.9410 - val_aux2_accuracy: 0.9433\n"
     ]
    },
    {
     "name": "stdout",
     "output_type": "stream",
     "text": [
      "Epoch 22/100\n",
      "129/129 [==============================] - 247s 2s/step - loss: 0.0540 - main_loss: 0.0370 - aux1_loss: 0.0275 - aux2_loss: 0.0293 - main_accuracy: 0.9854 - aux1_accuracy: 0.9903 - aux2_accuracy: 0.9878 - val_loss: 0.3282 - val_main_loss: 0.2137 - val_aux1_loss: 0.1802 - val_aux2_loss: 0.2014 - val_main_accuracy: 0.9592 - val_aux1_accuracy: 0.9569 - val_aux2_accuracy: 0.9569\n",
      "Epoch 23/100\n",
      "129/129 [==============================] - 247s 2s/step - loss: 0.0556 - main_loss: 0.0370 - aux1_loss: 0.0294 - aux2_loss: 0.0328 - main_accuracy: 0.9883 - aux1_accuracy: 0.9888 - aux2_accuracy: 0.9888 - val_loss: 0.2842 - val_main_loss: 0.1857 - val_aux1_loss: 0.1423 - val_aux2_loss: 0.1862 - val_main_accuracy: 0.9546 - val_aux1_accuracy: 0.9524 - val_aux2_accuracy: 0.9478\n",
      "Epoch 24/100\n",
      "129/129 [==============================] - 247s 2s/step - loss: 0.0111 - main_loss: 0.0071 - aux1_loss: 0.0056 - aux2_loss: 0.0077 - main_accuracy: 0.9990 - aux1_accuracy: 0.9990 - aux2_accuracy: 0.9985 - val_loss: 0.3523 - val_main_loss: 0.2311 - val_aux1_loss: 0.2008 - val_aux2_loss: 0.2032 - val_main_accuracy: 0.9592 - val_aux1_accuracy: 0.9569 - val_aux2_accuracy: 0.9569\n",
      "Epoch 25/100\n",
      "129/129 [==============================] - 246s 2s/step - loss: 0.0210 - main_loss: 0.0149 - aux1_loss: 0.0108 - aux2_loss: 0.0097 - main_accuracy: 0.9956 - aux1_accuracy: 0.9956 - aux2_accuracy: 0.9961 - val_loss: 3.6537 - val_main_loss: 2.8787 - val_aux1_loss: 0.6454 - val_aux2_loss: 1.9380 - val_main_accuracy: 0.6304 - val_aux1_accuracy: 0.7211 - val_aux2_accuracy: 0.6485\n",
      "Epoch 26/100\n",
      "129/129 [==============================] - 247s 2s/step - loss: 0.1359 - main_loss: 0.0839 - aux1_loss: 0.0929 - aux2_loss: 0.0804 - main_accuracy: 0.9761 - aux1_accuracy: 0.9698 - aux2_accuracy: 0.9761 - val_loss: 0.7160 - val_main_loss: 0.4889 - val_aux1_loss: 0.2072 - val_aux2_loss: 0.5496 - val_main_accuracy: 0.8526 - val_aux1_accuracy: 0.9229 - val_aux2_accuracy: 0.8685\n",
      "Epoch 27/100\n",
      "129/129 [==============================] - 247s 2s/step - loss: 0.0848 - main_loss: 0.0559 - aux1_loss: 0.0501 - aux2_loss: 0.0461 - main_accuracy: 0.9844 - aux1_accuracy: 0.9815 - aux2_accuracy: 0.9859 - val_loss: 0.3912 - val_main_loss: 0.2469 - val_aux1_loss: 0.2524 - val_aux2_loss: 0.2286 - val_main_accuracy: 0.9229 - val_aux1_accuracy: 0.9229 - val_aux2_accuracy: 0.9161\n",
      "Epoch 28/100\n",
      "129/129 [==============================] - 247s 2s/step - loss: 0.0797 - main_loss: 0.0519 - aux1_loss: 0.0526 - aux2_loss: 0.0402 - main_accuracy: 0.9883 - aux1_accuracy: 0.9834 - aux2_accuracy: 0.9883 - val_loss: 0.3903 - val_main_loss: 0.2589 - val_aux1_loss: 0.1675 - val_aux2_loss: 0.2704 - val_main_accuracy: 0.9433 - val_aux1_accuracy: 0.9569 - val_aux2_accuracy: 0.9478\n",
      "Epoch 29/100\n",
      "129/129 [==============================] - 246s 2s/step - loss: 0.0297 - main_loss: 0.0211 - aux1_loss: 0.0141 - aux2_loss: 0.0146 - main_accuracy: 0.9946 - aux1_accuracy: 0.9942 - aux2_accuracy: 0.9961 - val_loss: 0.6980 - val_main_loss: 0.4987 - val_aux1_loss: 0.2700 - val_aux2_loss: 0.3943 - val_main_accuracy: 0.9297 - val_aux1_accuracy: 0.9433 - val_aux2_accuracy: 0.9297\n",
      "Epoch 30/100\n",
      "129/129 [==============================] - 246s 2s/step - loss: 0.0872 - main_loss: 0.0551 - aux1_loss: 0.0539 - aux2_loss: 0.0532 - main_accuracy: 0.9849 - aux1_accuracy: 0.9844 - aux2_accuracy: 0.9834 - val_loss: 0.8206 - val_main_loss: 0.5591 - val_aux1_loss: 0.3087 - val_aux2_loss: 0.5630 - val_main_accuracy: 0.9002 - val_aux1_accuracy: 0.9229 - val_aux2_accuracy: 0.8889\n",
      "Epoch 31/100\n",
      "129/129 [==============================] - 248s 2s/step - loss: 0.0804 - main_loss: 0.0530 - aux1_loss: 0.0345 - aux2_loss: 0.0566 - main_accuracy: 0.9873 - aux1_accuracy: 0.9888 - aux2_accuracy: 0.9859 - val_loss: 0.3476 - val_main_loss: 0.2228 - val_aux1_loss: 0.1769 - val_aux2_loss: 0.2392 - val_main_accuracy: 0.9297 - val_aux1_accuracy: 0.9569 - val_aux2_accuracy: 0.9252\n",
      "Epoch 32/100\n",
      "129/129 [==============================] - 247s 2s/step - loss: 0.0538 - main_loss: 0.0377 - aux1_loss: 0.0251 - aux2_loss: 0.0286 - main_accuracy: 0.9917 - aux1_accuracy: 0.9903 - aux2_accuracy: 0.9903 - val_loss: 0.3295 - val_main_loss: 0.2237 - val_aux1_loss: 0.1434 - val_aux2_loss: 0.2094 - val_main_accuracy: 0.9524 - val_aux1_accuracy: 0.9615 - val_aux2_accuracy: 0.9524\n",
      "Epoch 33/100\n",
      "129/129 [==============================] - 248s 2s/step - loss: 0.2428 - main_loss: 0.1746 - aux1_loss: 0.0903 - aux2_loss: 0.1372 - main_accuracy: 0.9601 - aux1_accuracy: 0.9756 - aux2_accuracy: 0.9659 - val_loss: 0.6032 - val_main_loss: 0.4323 - val_aux1_loss: 0.2085 - val_aux2_loss: 0.3613 - val_main_accuracy: 0.8571 - val_aux1_accuracy: 0.9184 - val_aux2_accuracy: 0.8662\n",
      "Epoch 34/100\n",
      "129/129 [==============================] - 247s 2s/step - loss: 0.1812 - main_loss: 0.1198 - aux1_loss: 0.1010 - aux2_loss: 0.1036 - main_accuracy: 0.9635 - aux1_accuracy: 0.9679 - aux2_accuracy: 0.9674 - val_loss: 0.3734 - val_main_loss: 0.2533 - val_aux1_loss: 0.1513 - val_aux2_loss: 0.2492 - val_main_accuracy: 0.9365 - val_aux1_accuracy: 0.9592 - val_aux2_accuracy: 0.9274\n",
      "Epoch 35/100\n",
      "129/129 [==============================] - 247s 2s/step - loss: 0.0549 - main_loss: 0.0349 - aux1_loss: 0.0320 - aux2_loss: 0.0345 - main_accuracy: 0.9903 - aux1_accuracy: 0.9903 - aux2_accuracy: 0.9898 - val_loss: 0.3550 - val_main_loss: 0.2405 - val_aux1_loss: 0.1891 - val_aux2_loss: 0.1926 - val_main_accuracy: 0.9274 - val_aux1_accuracy: 0.9320 - val_aux2_accuracy: 0.9320\n",
      "Epoch 36/100\n",
      "129/129 [==============================] - 247s 2s/step - loss: 0.0283 - main_loss: 0.0170 - aux1_loss: 0.0201 - aux2_loss: 0.0175 - main_accuracy: 0.9956 - aux1_accuracy: 0.9937 - aux2_accuracy: 0.9946 - val_loss: 0.4412 - val_main_loss: 0.2922 - val_aux1_loss: 0.2470 - val_aux2_loss: 0.2496 - val_main_accuracy: 0.9410 - val_aux1_accuracy: 0.9342 - val_aux2_accuracy: 0.9433\n",
      "Epoch 37/100\n",
      "129/129 [==============================] - 246s 2s/step - loss: 0.0365 - main_loss: 0.0239 - aux1_loss: 0.0212 - aux2_loss: 0.0210 - main_accuracy: 0.9946 - aux1_accuracy: 0.9937 - aux2_accuracy: 0.9946 - val_loss: 0.4354 - val_main_loss: 0.2886 - val_aux1_loss: 0.2418 - val_aux2_loss: 0.2475 - val_main_accuracy: 0.9206 - val_aux1_accuracy: 0.9342 - val_aux2_accuracy: 0.9297\n",
      "Epoch 38/100\n",
      "129/129 [==============================] - 247s 2s/step - loss: 0.0478 - main_loss: 0.0326 - aux1_loss: 0.0208 - aux2_loss: 0.0299 - main_accuracy: 0.9912 - aux1_accuracy: 0.9942 - aux2_accuracy: 0.9932 - val_loss: 0.3875 - val_main_loss: 0.2630 - val_aux1_loss: 0.2160 - val_aux2_loss: 0.1987 - val_main_accuracy: 0.9478 - val_aux1_accuracy: 0.9524 - val_aux2_accuracy: 0.9478\n",
      "Epoch 39/100\n",
      "129/129 [==============================] - 246s 2s/step - loss: 0.0135 - main_loss: 0.0102 - aux1_loss: 0.0045 - aux2_loss: 0.0067 - main_accuracy: 0.9981 - aux1_accuracy: 0.9981 - aux2_accuracy: 0.9981 - val_loss: 0.3393 - val_main_loss: 0.2302 - val_aux1_loss: 0.1679 - val_aux2_loss: 0.1956 - val_main_accuracy: 0.9615 - val_aux1_accuracy: 0.9637 - val_aux2_accuracy: 0.9637\n",
      "Epoch 40/100\n",
      "129/129 [==============================] - 247s 2s/step - loss: 0.0080 - main_loss: 0.0056 - aux1_loss: 0.0029 - aux2_loss: 0.0051 - main_accuracy: 0.9981 - aux1_accuracy: 0.9990 - aux2_accuracy: 0.9981 - val_loss: 0.3862 - val_main_loss: 0.2754 - val_aux1_loss: 0.1936 - val_aux2_loss: 0.1759 - val_main_accuracy: 0.9660 - val_aux1_accuracy: 0.9660 - val_aux2_accuracy: 0.9637\n",
      "Epoch 41/100\n",
      "129/129 [==============================] - 246s 2s/step - loss: 0.0215 - main_loss: 0.0155 - aux1_loss: 0.0086 - aux2_loss: 0.0115 - main_accuracy: 0.9956 - aux1_accuracy: 0.9976 - aux2_accuracy: 0.9971 - val_loss: 0.2511 - val_main_loss: 0.1658 - val_aux1_loss: 0.1317 - val_aux2_loss: 0.1526 - val_main_accuracy: 0.9546 - val_aux1_accuracy: 0.9569 - val_aux2_accuracy: 0.9592\n",
      "Epoch 42/100\n",
      "129/129 [==============================] - 247s 2s/step - loss: 0.1817 - main_loss: 0.1117 - aux1_loss: 0.1149 - aux2_loss: 0.1183 - main_accuracy: 0.9703 - aux1_accuracy: 0.9679 - aux2_accuracy: 0.9732 - val_loss: 0.3707 - val_main_loss: 0.2515 - val_aux1_loss: 0.1598 - val_aux2_loss: 0.2375 - val_main_accuracy: 0.9206 - val_aux1_accuracy: 0.9501 - val_aux2_accuracy: 0.9229\n"
     ]
    },
    {
     "name": "stdout",
     "output_type": "stream",
     "text": [
      "Epoch 43/100\n",
      "129/129 [==============================] - 246s 2s/step - loss: 0.1686 - main_loss: 0.1205 - aux1_loss: 0.0718 - aux2_loss: 0.0883 - main_accuracy: 0.9781 - aux1_accuracy: 0.9786 - aux2_accuracy: 0.9795 - val_loss: 0.3259 - val_main_loss: 0.2169 - val_aux1_loss: 0.1793 - val_aux2_loss: 0.1838 - val_main_accuracy: 0.9388 - val_aux1_accuracy: 0.9410 - val_aux2_accuracy: 0.9433\n",
      "Epoch 44/100\n",
      "129/129 [==============================] - 247s 2s/step - loss: 0.0420 - main_loss: 0.0274 - aux1_loss: 0.0252 - aux2_loss: 0.0234 - main_accuracy: 0.9917 - aux1_accuracy: 0.9912 - aux2_accuracy: 0.9912 - val_loss: 0.3376 - val_main_loss: 0.2324 - val_aux1_loss: 0.1581 - val_aux2_loss: 0.1924 - val_main_accuracy: 0.9592 - val_aux1_accuracy: 0.9615 - val_aux2_accuracy: 0.9546\n",
      "Epoch 45/100\n",
      "129/129 [==============================] - 247s 2s/step - loss: 0.0490 - main_loss: 0.0321 - aux1_loss: 0.0304 - aux2_loss: 0.0261 - main_accuracy: 0.9907 - aux1_accuracy: 0.9912 - aux2_accuracy: 0.9927 - val_loss: 0.2250 - val_main_loss: 0.1558 - val_aux1_loss: 0.0937 - val_aux2_loss: 0.1370 - val_main_accuracy: 0.9637 - val_aux1_accuracy: 0.9683 - val_aux2_accuracy: 0.9660\n",
      "Epoch 46/100\n",
      "129/129 [==============================] - 247s 2s/step - loss: 0.0252 - main_loss: 0.0162 - aux1_loss: 0.0164 - aux2_loss: 0.0137 - main_accuracy: 0.9971 - aux1_accuracy: 0.9946 - aux2_accuracy: 0.9956 - val_loss: 0.3049 - val_main_loss: 0.1923 - val_aux1_loss: 0.1846 - val_aux2_loss: 0.1909 - val_main_accuracy: 0.9569 - val_aux1_accuracy: 0.9592 - val_aux2_accuracy: 0.9592\n",
      "Epoch 47/100\n",
      "129/129 [==============================] - 247s 2s/step - loss: 0.0091 - main_loss: 0.0051 - aux1_loss: 0.0055 - aux2_loss: 0.0076 - main_accuracy: 0.9985 - aux1_accuracy: 0.9985 - aux2_accuracy: 0.9981 - val_loss: 0.3104 - val_main_loss: 0.2162 - val_aux1_loss: 0.1555 - val_aux2_loss: 0.1586 - val_main_accuracy: 0.9524 - val_aux1_accuracy: 0.9615 - val_aux2_accuracy: 0.9569\n",
      "Epoch 48/100\n",
      "129/129 [==============================] - 246s 2s/step - loss: 0.0059 - main_loss: 0.0047 - aux1_loss: 0.0019 - aux2_loss: 0.0021 - main_accuracy: 0.9995 - aux1_accuracy: 0.9995 - aux2_accuracy: 0.9995 - val_loss: 0.3235 - val_main_loss: 0.2208 - val_aux1_loss: 0.1847 - val_aux2_loss: 0.1575 - val_main_accuracy: 0.9615 - val_aux1_accuracy: 0.9569 - val_aux2_accuracy: 0.9615\n",
      "Epoch 49/100\n",
      "129/129 [==============================] - 246s 2s/step - loss: 0.0036 - main_loss: 0.0025 - aux1_loss: 0.0013 - aux2_loss: 0.0023 - main_accuracy: 0.9995 - aux1_accuracy: 0.9995 - aux2_accuracy: 0.9995 - val_loss: 0.3469 - val_main_loss: 0.2365 - val_aux1_loss: 0.2044 - val_aux2_loss: 0.1637 - val_main_accuracy: 0.9569 - val_aux1_accuracy: 0.9478 - val_aux2_accuracy: 0.9524\n",
      "Epoch 50/100\n",
      "129/129 [==============================] - 247s 2s/step - loss: 0.0038 - main_loss: 0.0026 - aux1_loss: 0.0012 - aux2_loss: 0.0026 - main_accuracy: 0.9995 - aux1_accuracy: 0.9995 - aux2_accuracy: 0.9990 - val_loss: 0.3477 - val_main_loss: 0.2428 - val_aux1_loss: 0.1980 - val_aux2_loss: 0.1516 - val_main_accuracy: 0.9615 - val_aux1_accuracy: 0.9546 - val_aux2_accuracy: 0.9637\n",
      "Epoch 51/100\n",
      "129/129 [==============================] - 246s 2s/step - loss: 0.0020 - main_loss: 0.0015 - aux1_loss: 6.6678e-04 - aux2_loss: 0.0011 - main_accuracy: 0.9995 - aux1_accuracy: 1.0000 - aux2_accuracy: 0.9995 - val_loss: 0.3662 - val_main_loss: 0.2471 - val_aux1_loss: 0.2344 - val_aux2_loss: 0.1627 - val_main_accuracy: 0.9592 - val_aux1_accuracy: 0.9546 - val_aux2_accuracy: 0.9615\n",
      "Epoch 52/100\n",
      "129/129 [==============================] - 247s 2s/step - loss: 0.0018 - main_loss: 0.0012 - aux1_loss: 9.7843e-04 - aux2_loss: 0.0010 - main_accuracy: 0.9995 - aux1_accuracy: 0.9990 - aux2_accuracy: 0.9990 - val_loss: 0.3709 - val_main_loss: 0.2498 - val_aux1_loss: 0.2345 - val_aux2_loss: 0.1690 - val_main_accuracy: 0.9592 - val_aux1_accuracy: 0.9524 - val_aux2_accuracy: 0.9637\n",
      "Epoch 53/100\n",
      "129/129 [==============================] - 247s 2s/step - loss: 0.0013 - main_loss: 7.7479e-04 - aux1_loss: 9.1425e-04 - aux2_loss: 7.7716e-04 - main_accuracy: 0.9995 - aux1_accuracy: 0.9995 - aux2_accuracy: 0.9995 - val_loss: 0.3857 - val_main_loss: 0.2626 - val_aux1_loss: 0.2362 - val_aux2_loss: 0.1741 - val_main_accuracy: 0.9637 - val_aux1_accuracy: 0.9592 - val_aux2_accuracy: 0.9637\n",
      "Epoch 54/100\n",
      "129/129 [==============================] - 247s 2s/step - loss: 0.0015 - main_loss: 8.7196e-04 - aux1_loss: 0.0015 - aux2_loss: 5.3186e-04 - main_accuracy: 0.9995 - aux1_accuracy: 0.9995 - aux2_accuracy: 1.0000 - val_loss: 0.3860 - val_main_loss: 0.2661 - val_aux1_loss: 0.2199 - val_aux2_loss: 0.1796 - val_main_accuracy: 0.9637 - val_aux1_accuracy: 0.9569 - val_aux2_accuracy: 0.9660\n",
      "Epoch 55/100\n",
      "129/129 [==============================] - 247s 2s/step - loss: 0.0014 - main_loss: 6.6806e-04 - aux1_loss: 6.5259e-04 - aux2_loss: 0.0019 - main_accuracy: 0.9995 - aux1_accuracy: 0.9995 - aux2_accuracy: 0.9990 - val_loss: 0.4102 - val_main_loss: 0.2865 - val_aux1_loss: 0.2325 - val_aux2_loss: 0.1797 - val_main_accuracy: 0.9660 - val_aux1_accuracy: 0.9569 - val_aux2_accuracy: 0.9637\n",
      "Epoch 56/100\n",
      "129/129 [==============================] - 246s 2s/step - loss: 0.0020 - main_loss: 0.0014 - aux1_loss: 5.9707e-04 - aux2_loss: 0.0013 - main_accuracy: 0.9995 - aux1_accuracy: 1.0000 - aux2_accuracy: 0.9990 - val_loss: 0.3864 - val_main_loss: 0.2619 - val_aux1_loss: 0.2328 - val_aux2_loss: 0.1819 - val_main_accuracy: 0.9615 - val_aux1_accuracy: 0.9546 - val_aux2_accuracy: 0.9592\n",
      "Epoch 57/100\n",
      "129/129 [==============================] - 247s 2s/step - loss: 0.0024 - main_loss: 0.0020 - aux1_loss: 6.4568e-04 - aux2_loss: 9.6430e-04 - main_accuracy: 0.9990 - aux1_accuracy: 0.9995 - aux2_accuracy: 0.9995 - val_loss: 0.3975 - val_main_loss: 0.2747 - val_aux1_loss: 0.2305 - val_aux2_loss: 0.1790 - val_main_accuracy: 0.9637 - val_aux1_accuracy: 0.9569 - val_aux2_accuracy: 0.9569\n",
      "Epoch 58/100\n",
      "129/129 [==============================] - 246s 2s/step - loss: 0.0029 - main_loss: 0.0023 - aux1_loss: 0.0014 - aux2_loss: 5.6673e-04 - main_accuracy: 0.9990 - aux1_accuracy: 0.9990 - aux2_accuracy: 1.0000 - val_loss: 0.3727 - val_main_loss: 0.2518 - val_aux1_loss: 0.2198 - val_aux2_loss: 0.1833 - val_main_accuracy: 0.9592 - val_aux1_accuracy: 0.9569 - val_aux2_accuracy: 0.9569\n",
      "Epoch 59/100\n",
      "129/129 [==============================] - 246s 2s/step - loss: 0.0019 - main_loss: 0.0013 - aux1_loss: 8.0312e-04 - aux2_loss: 0.0012 - main_accuracy: 0.9995 - aux1_accuracy: 0.9995 - aux2_accuracy: 0.9990 - val_loss: 0.3945 - val_main_loss: 0.2670 - val_aux1_loss: 0.2388 - val_aux2_loss: 0.1860 - val_main_accuracy: 0.9615 - val_aux1_accuracy: 0.9524 - val_aux2_accuracy: 0.9592\n",
      "Epoch 60/100\n",
      "129/129 [==============================] - 246s 2s/step - loss: 0.0019 - main_loss: 0.0013 - aux1_loss: 7.0646e-04 - aux2_loss: 0.0011 - main_accuracy: 0.9995 - aux1_accuracy: 0.9995 - aux2_accuracy: 0.9990 - val_loss: 0.4003 - val_main_loss: 0.2722 - val_aux1_loss: 0.2429 - val_aux2_loss: 0.1841 - val_main_accuracy: 0.9592 - val_aux1_accuracy: 0.9569 - val_aux2_accuracy: 0.9592\n",
      "Epoch 61/100\n",
      "129/129 [==============================] - 246s 2s/step - loss: 0.0019 - main_loss: 8.9728e-04 - aux1_loss: 0.0024 - aux2_loss: 9.3939e-04 - main_accuracy: 0.9995 - aux1_accuracy: 0.9990 - aux2_accuracy: 0.9995 - val_loss: 0.4229 - val_main_loss: 0.2979 - val_aux1_loss: 0.2240 - val_aux2_loss: 0.1926 - val_main_accuracy: 0.9637 - val_aux1_accuracy: 0.9569 - val_aux2_accuracy: 0.9592\n",
      "Epoch 62/100\n",
      "129/129 [==============================] - 246s 2s/step - loss: 0.0015 - main_loss: 8.7187e-04 - aux1_loss: 0.0011 - aux2_loss: 0.0011 - main_accuracy: 0.9990 - aux1_accuracy: 0.9990 - aux2_accuracy: 0.9990 - val_loss: 0.4231 - val_main_loss: 0.3049 - val_aux1_loss: 0.2017 - val_aux2_loss: 0.1924 - val_main_accuracy: 0.9615 - val_aux1_accuracy: 0.9569 - val_aux2_accuracy: 0.9592\n",
      "Epoch 63/100\n",
      "129/129 [==============================] - 245s 2s/step - loss: 0.0013 - main_loss: 8.6171e-04 - aux1_loss: 8.4324e-04 - aux2_loss: 6.4378e-04 - main_accuracy: 0.9990 - aux1_accuracy: 0.9995 - aux2_accuracy: 0.9995 - val_loss: 0.4394 - val_main_loss: 0.3132 - val_aux1_loss: 0.2190 - val_aux2_loss: 0.2018 - val_main_accuracy: 0.9637 - val_aux1_accuracy: 0.9569 - val_aux2_accuracy: 0.9592\n"
     ]
    },
    {
     "name": "stdout",
     "output_type": "stream",
     "text": [
      "Epoch 64/100\n",
      "129/129 [==============================] - 245s 2s/step - loss: 0.0014 - main_loss: 7.7672e-04 - aux1_loss: 0.0013 - aux2_loss: 8.4133e-04 - main_accuracy: 0.9995 - aux1_accuracy: 0.9990 - aux2_accuracy: 0.9995 - val_loss: 0.4845 - val_main_loss: 0.3573 - val_aux1_loss: 0.2163 - val_aux2_loss: 0.2074 - val_main_accuracy: 0.9637 - val_aux1_accuracy: 0.9637 - val_aux2_accuracy: 0.9660\n",
      "Epoch 65/100\n",
      "129/129 [==============================] - 245s 2s/step - loss: 0.0017 - main_loss: 0.0011 - aux1_loss: 9.1961e-04 - aux2_loss: 0.0010 - main_accuracy: 0.9995 - aux1_accuracy: 0.9990 - aux2_accuracy: 0.9995 - val_loss: 0.4632 - val_main_loss: 0.3344 - val_aux1_loss: 0.2221 - val_aux2_loss: 0.2073 - val_main_accuracy: 0.9615 - val_aux1_accuracy: 0.9569 - val_aux2_accuracy: 0.9592\n",
      "Epoch 66/100\n",
      "129/129 [==============================] - 247s 2s/step - loss: 0.0017 - main_loss: 0.0013 - aux1_loss: 9.1984e-04 - aux2_loss: 5.6551e-04 - main_accuracy: 0.9990 - aux1_accuracy: 0.9995 - aux2_accuracy: 1.0000 - val_loss: 0.6100 - val_main_loss: 0.4816 - val_aux1_loss: 0.2217 - val_aux2_loss: 0.2066 - val_main_accuracy: 0.9683 - val_aux1_accuracy: 0.9546 - val_aux2_accuracy: 0.9615\n",
      "Epoch 67/100\n",
      "129/129 [==============================] - 247s 2s/step - loss: 0.0053 - main_loss: 0.0043 - aux1_loss: 0.0013 - aux2_loss: 0.0019 - main_accuracy: 0.9995 - aux1_accuracy: 0.9990 - aux2_accuracy: 0.9990 - val_loss: 0.6154 - val_main_loss: 0.4492 - val_aux1_loss: 0.2709 - val_aux2_loss: 0.2833 - val_main_accuracy: 0.9592 - val_aux1_accuracy: 0.9569 - val_aux2_accuracy: 0.9569\n",
      "Epoch 68/100\n",
      "129/129 [==============================] - 248s 2s/step - loss: 0.4691 - main_loss: 0.3637 - aux1_loss: 0.1557 - aux2_loss: 0.1957 - main_accuracy: 0.9396 - aux1_accuracy: 0.9571 - aux2_accuracy: 0.9489 - val_loss: 2.4441 - val_main_loss: 1.5229 - val_aux1_loss: 0.7300 - val_aux2_loss: 2.3407 - val_main_accuracy: 0.4966 - val_aux1_accuracy: 0.6485 - val_aux2_accuracy: 0.5374\n",
      "Epoch 69/100\n",
      "129/129 [==============================] - 247s 2s/step - loss: 0.4141 - main_loss: 0.2940 - aux1_loss: 0.1775 - aux2_loss: 0.2227 - main_accuracy: 0.9172 - aux1_accuracy: 0.9342 - aux2_accuracy: 0.9299 - val_loss: 0.5413 - val_main_loss: 0.3937 - val_aux1_loss: 0.2108 - val_aux2_loss: 0.2810 - val_main_accuracy: 0.8685 - val_aux1_accuracy: 0.9297 - val_aux2_accuracy: 0.8934\n",
      "Epoch 70/100\n",
      "129/129 [==============================] - 247s 2s/step - loss: 0.1243 - main_loss: 0.0847 - aux1_loss: 0.0538 - aux2_loss: 0.0783 - main_accuracy: 0.9761 - aux1_accuracy: 0.9844 - aux2_accuracy: 0.9742 - val_loss: 0.5960 - val_main_loss: 0.4581 - val_aux1_loss: 0.1759 - val_aux2_loss: 0.2839 - val_main_accuracy: 0.9433 - val_aux1_accuracy: 0.9456 - val_aux2_accuracy: 0.9456\n",
      "Epoch 71/100\n",
      "129/129 [==============================] - 247s 2s/step - loss: 0.1935 - main_loss: 0.1392 - aux1_loss: 0.0842 - aux2_loss: 0.0969 - main_accuracy: 0.9727 - aux1_accuracy: 0.9737 - aux2_accuracy: 0.9766 - val_loss: 0.4458 - val_main_loss: 0.2583 - val_aux1_loss: 0.3839 - val_aux2_loss: 0.2413 - val_main_accuracy: 0.9229 - val_aux1_accuracy: 0.8980 - val_aux2_accuracy: 0.9297\n",
      "Epoch 72/100\n",
      "129/129 [==============================] - 247s 2s/step - loss: 0.0749 - main_loss: 0.0498 - aux1_loss: 0.0417 - aux2_loss: 0.0419 - main_accuracy: 0.9883 - aux1_accuracy: 0.9873 - aux2_accuracy: 0.9868 - val_loss: 0.4747 - val_main_loss: 0.3270 - val_aux1_loss: 0.2288 - val_aux2_loss: 0.2636 - val_main_accuracy: 0.9433 - val_aux1_accuracy: 0.9365 - val_aux2_accuracy: 0.9478\n",
      "Epoch 73/100\n",
      "129/129 [==============================] - 247s 2s/step - loss: 0.0263 - main_loss: 0.0181 - aux1_loss: 0.0114 - aux2_loss: 0.0162 - main_accuracy: 0.9951 - aux1_accuracy: 0.9971 - aux2_accuracy: 0.9971 - val_loss: 0.3005 - val_main_loss: 0.2043 - val_aux1_loss: 0.1533 - val_aux2_loss: 0.1673 - val_main_accuracy: 0.9569 - val_aux1_accuracy: 0.9592 - val_aux2_accuracy: 0.9546\n",
      "Epoch 74/100\n",
      "129/129 [==============================] - 247s 2s/step - loss: 0.0114 - main_loss: 0.0071 - aux1_loss: 0.0077 - aux2_loss: 0.0066 - main_accuracy: 0.9976 - aux1_accuracy: 0.9981 - aux2_accuracy: 0.9981 - val_loss: 0.3651 - val_main_loss: 0.2564 - val_aux1_loss: 0.1757 - val_aux2_loss: 0.1867 - val_main_accuracy: 0.9660 - val_aux1_accuracy: 0.9592 - val_aux2_accuracy: 0.9637\n",
      "Epoch 75/100\n",
      "129/129 [==============================] - 247s 2s/step - loss: 0.0056 - main_loss: 0.0033 - aux1_loss: 0.0031 - aux2_loss: 0.0046 - main_accuracy: 0.9995 - aux1_accuracy: 0.9990 - aux2_accuracy: 0.9990 - val_loss: 0.3575 - val_main_loss: 0.2441 - val_aux1_loss: 0.1942 - val_aux2_loss: 0.1837 - val_main_accuracy: 0.9660 - val_aux1_accuracy: 0.9569 - val_aux2_accuracy: 0.9637\n",
      "Epoch 76/100\n",
      "129/129 [==============================] - 247s 2s/step - loss: 0.0034 - main_loss: 0.0021 - aux1_loss: 0.0015 - aux2_loss: 0.0028 - main_accuracy: 0.9990 - aux1_accuracy: 0.9995 - aux2_accuracy: 0.9990 - val_loss: 0.9893 - val_main_loss: 0.8465 - val_aux1_loss: 0.2047 - val_aux2_loss: 0.2716 - val_main_accuracy: 0.9683 - val_aux1_accuracy: 0.9592 - val_aux2_accuracy: 0.9637\n",
      "Epoch 77/100\n",
      "129/129 [==============================] - 247s 2s/step - loss: 0.0033 - main_loss: 0.0020 - aux1_loss: 0.0023 - aux2_loss: 0.0022 - main_accuracy: 0.9990 - aux1_accuracy: 0.9990 - aux2_accuracy: 0.9990 - val_loss: 0.5880 - val_main_loss: 0.4253 - val_aux1_loss: 0.2391 - val_aux2_loss: 0.3030 - val_main_accuracy: 0.9592 - val_aux1_accuracy: 0.9546 - val_aux2_accuracy: 0.9615\n",
      "Epoch 78/100\n",
      "129/129 [==============================] - 246s 2s/step - loss: 0.0021 - main_loss: 0.0012 - aux1_loss: 0.0011 - aux2_loss: 0.0017 - main_accuracy: 0.9995 - aux1_accuracy: 0.9995 - aux2_accuracy: 0.9995 - val_loss: 0.6975 - val_main_loss: 0.5187 - val_aux1_loss: 0.2439 - val_aux2_loss: 0.3522 - val_main_accuracy: 0.9592 - val_aux1_accuracy: 0.9569 - val_aux2_accuracy: 0.9592\n",
      "Epoch 79/100\n",
      "129/129 [==============================] - 248s 2s/step - loss: 0.0016 - main_loss: 8.6932e-04 - aux1_loss: 9.1671e-04 - aux2_loss: 0.0014 - main_accuracy: 0.9995 - aux1_accuracy: 0.9995 - aux2_accuracy: 0.9995 - val_loss: 0.5249 - val_main_loss: 0.3776 - val_aux1_loss: 0.2532 - val_aux2_loss: 0.2379 - val_main_accuracy: 0.9569 - val_aux1_accuracy: 0.9615 - val_aux2_accuracy: 0.9592\n",
      "Epoch 80/100\n",
      "129/129 [==============================] - 247s 2s/step - loss: 0.0136 - main_loss: 0.0103 - aux1_loss: 0.0082 - aux2_loss: 0.0027 - main_accuracy: 0.9985 - aux1_accuracy: 0.9985 - aux2_accuracy: 0.9995 - val_loss: 3.0573 - val_main_loss: 2.3589 - val_aux1_loss: 1.0540 - val_aux2_loss: 1.2738 - val_main_accuracy: 0.7800 - val_aux1_accuracy: 0.7732 - val_aux2_accuracy: 0.7551\n",
      "Epoch 81/100\n",
      "129/129 [==============================] - 248s 2s/step - loss: 0.2101 - main_loss: 0.1296 - aux1_loss: 0.1194 - aux2_loss: 0.1491 - main_accuracy: 0.9693 - aux1_accuracy: 0.9635 - aux2_accuracy: 0.9596 - val_loss: 0.2550 - val_main_loss: 0.1675 - val_aux1_loss: 0.1378 - val_aux2_loss: 0.1539 - val_main_accuracy: 0.9456 - val_aux1_accuracy: 0.9501 - val_aux2_accuracy: 0.9501\n",
      "Epoch 82/100\n",
      "129/129 [==============================] - 248s 2s/step - loss: 0.0571 - main_loss: 0.0361 - aux1_loss: 0.0318 - aux2_loss: 0.0380 - main_accuracy: 0.9912 - aux1_accuracy: 0.9917 - aux2_accuracy: 0.9893 - val_loss: 0.5325 - val_main_loss: 0.4133 - val_aux1_loss: 0.1997 - val_aux2_loss: 0.1975 - val_main_accuracy: 0.9501 - val_aux1_accuracy: 0.9524 - val_aux2_accuracy: 0.9546\n",
      "Epoch 83/100\n",
      "129/129 [==============================] - 247s 2s/step - loss: 0.2680 - main_loss: 0.2069 - aux1_loss: 0.1021 - aux2_loss: 0.1014 - main_accuracy: 0.9640 - aux1_accuracy: 0.9674 - aux2_accuracy: 0.9640 - val_loss: 0.4604 - val_main_loss: 0.3189 - val_aux1_loss: 0.2363 - val_aux2_loss: 0.2353 - val_main_accuracy: 0.9297 - val_aux1_accuracy: 0.9297 - val_aux2_accuracy: 0.9297\n",
      "Epoch 84/100\n",
      "129/129 [==============================] - 248s 2s/step - loss: 0.1129 - main_loss: 0.0785 - aux1_loss: 0.0561 - aux2_loss: 0.0588 - main_accuracy: 0.9839 - aux1_accuracy: 0.9815 - aux2_accuracy: 0.9868 - val_loss: 0.3760 - val_main_loss: 0.2645 - val_aux1_loss: 0.1888 - val_aux2_loss: 0.1828 - val_main_accuracy: 0.9388 - val_aux1_accuracy: 0.9456 - val_aux2_accuracy: 0.9478\n"
     ]
    },
    {
     "name": "stdout",
     "output_type": "stream",
     "text": [
      "Epoch 85/100\n",
      "129/129 [==============================] - 247s 2s/step - loss: 0.0422 - main_loss: 0.0273 - aux1_loss: 0.0200 - aux2_loss: 0.0296 - main_accuracy: 0.9917 - aux1_accuracy: 0.9951 - aux2_accuracy: 0.9927 - val_loss: 0.5149 - val_main_loss: 0.3470 - val_aux1_loss: 0.2862 - val_aux2_loss: 0.2736 - val_main_accuracy: 0.9433 - val_aux1_accuracy: 0.9478 - val_aux2_accuracy: 0.9433\n",
      "Epoch 86/100\n",
      "129/129 [==============================] - 247s 2s/step - loss: 0.0529 - main_loss: 0.0335 - aux1_loss: 0.0322 - aux2_loss: 0.0324 - main_accuracy: 0.9922 - aux1_accuracy: 0.9893 - aux2_accuracy: 0.9927 - val_loss: 0.3444 - val_main_loss: 0.2179 - val_aux1_loss: 0.2370 - val_aux2_loss: 0.1845 - val_main_accuracy: 0.9569 - val_aux1_accuracy: 0.9592 - val_aux2_accuracy: 0.9524\n",
      "Epoch 87/100\n",
      "129/129 [==============================] - 247s 2s/step - loss: 0.0213 - main_loss: 0.0147 - aux1_loss: 0.0123 - aux2_loss: 0.0098 - main_accuracy: 0.9966 - aux1_accuracy: 0.9976 - aux2_accuracy: 0.9976 - val_loss: 0.2966 - val_main_loss: 0.2053 - val_aux1_loss: 0.1372 - val_aux2_loss: 0.1669 - val_main_accuracy: 0.9524 - val_aux1_accuracy: 0.9615 - val_aux2_accuracy: 0.9569\n",
      "Epoch 88/100\n",
      "129/129 [==============================] - 247s 2s/step - loss: 0.0315 - main_loss: 0.0209 - aux1_loss: 0.0174 - aux2_loss: 0.0181 - main_accuracy: 0.9942 - aux1_accuracy: 0.9942 - aux2_accuracy: 0.9946 - val_loss: 0.3128 - val_main_loss: 0.2136 - val_aux1_loss: 0.1538 - val_aux2_loss: 0.1769 - val_main_accuracy: 0.9592 - val_aux1_accuracy: 0.9615 - val_aux2_accuracy: 0.9637\n",
      "Epoch 89/100\n",
      "129/129 [==============================] - 247s 2s/step - loss: 0.0076 - main_loss: 0.0051 - aux1_loss: 0.0031 - aux2_loss: 0.0052 - main_accuracy: 0.9981 - aux1_accuracy: 0.9995 - aux2_accuracy: 0.9985 - val_loss: 0.3760 - val_main_loss: 0.2613 - val_aux1_loss: 0.1816 - val_aux2_loss: 0.2007 - val_main_accuracy: 0.9592 - val_aux1_accuracy: 0.9569 - val_aux2_accuracy: 0.9569\n",
      "Epoch 90/100\n",
      "129/129 [==============================] - 247s 2s/step - loss: 0.0062 - main_loss: 0.0041 - aux1_loss: 0.0021 - aux2_loss: 0.0048 - main_accuracy: 0.9990 - aux1_accuracy: 0.9985 - aux2_accuracy: 0.9990 - val_loss: 0.4182 - val_main_loss: 0.2931 - val_aux1_loss: 0.2069 - val_aux2_loss: 0.2101 - val_main_accuracy: 0.9592 - val_aux1_accuracy: 0.9569 - val_aux2_accuracy: 0.9569\n",
      "Epoch 91/100\n",
      "129/129 [==============================] - 247s 2s/step - loss: 0.0082 - main_loss: 0.0057 - aux1_loss: 0.0034 - aux2_loss: 0.0047 - main_accuracy: 0.9981 - aux1_accuracy: 0.9990 - aux2_accuracy: 0.9990 - val_loss: 0.4318 - val_main_loss: 0.3318 - val_aux1_loss: 0.1611 - val_aux2_loss: 0.1724 - val_main_accuracy: 0.9569 - val_aux1_accuracy: 0.9660 - val_aux2_accuracy: 0.9569\n",
      "Epoch 92/100\n",
      "129/129 [==============================] - 247s 2s/step - loss: 0.0079 - main_loss: 0.0053 - aux1_loss: 0.0026 - aux2_loss: 0.0058 - main_accuracy: 0.9985 - aux1_accuracy: 0.9995 - aux2_accuracy: 0.9985 - val_loss: 0.2946 - val_main_loss: 0.2099 - val_aux1_loss: 0.1450 - val_aux2_loss: 0.1375 - val_main_accuracy: 0.9683 - val_aux1_accuracy: 0.9683 - val_aux2_accuracy: 0.9683\n",
      "Epoch 93/100\n",
      "129/129 [==============================] - 246s 2s/step - loss: 0.0018 - main_loss: 0.0012 - aux1_loss: 0.0010 - aux2_loss: 0.0013 - main_accuracy: 0.9995 - aux1_accuracy: 0.9995 - aux2_accuracy: 0.9995 - val_loss: 0.3447 - val_main_loss: 0.2439 - val_aux1_loss: 0.1614 - val_aux2_loss: 0.1746 - val_main_accuracy: 0.9660 - val_aux1_accuracy: 0.9683 - val_aux2_accuracy: 0.9660\n",
      "Epoch 94/100\n",
      "129/129 [==============================] - 246s 2s/step - loss: 0.0034 - main_loss: 0.0023 - aux1_loss: 0.0010 - aux2_loss: 0.0027 - main_accuracy: 0.9990 - aux1_accuracy: 0.9995 - aux2_accuracy: 0.9990 - val_loss: 0.4037 - val_main_loss: 0.2862 - val_aux1_loss: 0.1855 - val_aux2_loss: 0.2063 - val_main_accuracy: 0.9637 - val_aux1_accuracy: 0.9660 - val_aux2_accuracy: 0.9637\n",
      "Epoch 95/100\n",
      "129/129 [==============================] - 246s 2s/step - loss: 0.0019 - main_loss: 0.0013 - aux1_loss: 7.6812e-04 - aux2_loss: 0.0012 - main_accuracy: 0.9990 - aux1_accuracy: 0.9995 - aux2_accuracy: 0.9990 - val_loss: 0.4945 - val_main_loss: 0.3599 - val_aux1_loss: 0.1937 - val_aux2_loss: 0.2549 - val_main_accuracy: 0.9637 - val_aux1_accuracy: 0.9683 - val_aux2_accuracy: 0.9615\n",
      "Epoch 96/100\n",
      "129/129 [==============================] - 247s 2s/step - loss: 0.1114 - main_loss: 0.0848 - aux1_loss: 0.0435 - aux2_loss: 0.0452 - main_accuracy: 0.9868 - aux1_accuracy: 0.9878 - aux2_accuracy: 0.9888 - val_loss: 0.5919 - val_main_loss: 0.3489 - val_aux1_loss: 0.4820 - val_aux2_loss: 0.3280 - val_main_accuracy: 0.8730 - val_aux1_accuracy: 0.8277 - val_aux2_accuracy: 0.8526\n",
      "Epoch 97/100\n",
      "129/129 [==============================] - 247s 2s/step - loss: 0.1036 - main_loss: 0.0645 - aux1_loss: 0.0677 - aux2_loss: 0.0624 - main_accuracy: 0.9810 - aux1_accuracy: 0.9756 - aux2_accuracy: 0.9791 - val_loss: 0.3207 - val_main_loss: 0.2168 - val_aux1_loss: 0.1865 - val_aux2_loss: 0.1598 - val_main_accuracy: 0.9615 - val_aux1_accuracy: 0.9592 - val_aux2_accuracy: 0.9660\n",
      "Epoch 98/100\n",
      "129/129 [==============================] - 247s 2s/step - loss: 0.0106 - main_loss: 0.0068 - aux1_loss: 0.0082 - aux2_loss: 0.0046 - main_accuracy: 0.9976 - aux1_accuracy: 0.9981 - aux2_accuracy: 0.9985 - val_loss: 0.3904 - val_main_loss: 0.2697 - val_aux1_loss: 0.2083 - val_aux2_loss: 0.1939 - val_main_accuracy: 0.9615 - val_aux1_accuracy: 0.9660 - val_aux2_accuracy: 0.9592\n",
      "Epoch 99/100\n",
      "129/129 [==============================] - 246s 2s/step - loss: 0.0035 - main_loss: 0.0025 - aux1_loss: 0.0021 - aux2_loss: 0.0013 - main_accuracy: 0.9981 - aux1_accuracy: 0.9995 - aux2_accuracy: 1.0000 - val_loss: 0.4578 - val_main_loss: 0.3097 - val_aux1_loss: 0.2512 - val_aux2_loss: 0.2427 - val_main_accuracy: 0.9569 - val_aux1_accuracy: 0.9546 - val_aux2_accuracy: 0.9592\n",
      "Epoch 100/100\n",
      "129/129 [==============================] - 247s 2s/step - loss: 0.0452 - main_loss: 0.0315 - aux1_loss: 0.0194 - aux2_loss: 0.0265 - main_accuracy: 0.9932 - aux1_accuracy: 0.9956 - aux2_accuracy: 0.9937 - val_loss: 0.3086 - val_main_loss: 0.1881 - val_aux1_loss: 0.2113 - val_aux2_loss: 0.1907 - val_main_accuracy: 0.9501 - val_aux1_accuracy: 0.9546 - val_aux2_accuracy: 0.9501\n",
      "Elapsed time: 6:52:51.6\n"
     ]
    }
   ],
   "source": [
    "start_time = time.time()\n",
    "\n",
    "model.fit(x=X_train, y=y_train, batch_size=16, epochs=100, validation_data=(X_val, y_val))\n",
    "\n",
    "end_time = time.time()\n",
    "execution_time = (end_time - start_time)\n",
    "print(f\"Elapsed time: {hms_string(execution_time)}\")\n"
   ]
  },
  {
   "cell_type": "code",
   "execution_count": 15,
   "metadata": {
    "id": "8pbmQ1_kSbK5"
   },
   "outputs": [],
   "source": [
    "history = model.history.history"
   ]
  },
  {
   "cell_type": "code",
   "execution_count": 16,
   "metadata": {
    "id": "xUDk5950SbK5",
    "outputId": "a0481d8b-5803-4d64-b868-1a12b231136c"
   },
   "outputs": [
    {
     "name": "stdout",
     "output_type": "stream",
     "text": [
      "loss\n",
      "main_loss\n",
      "aux1_loss\n",
      "aux2_loss\n",
      "main_accuracy\n",
      "aux1_accuracy\n",
      "aux2_accuracy\n",
      "val_loss\n",
      "val_main_loss\n",
      "val_aux1_loss\n",
      "val_aux2_loss\n",
      "val_main_accuracy\n",
      "val_aux1_accuracy\n",
      "val_aux2_accuracy\n"
     ]
    }
   ],
   "source": [
    "for key in history.keys():\n",
    "    print(key)"
   ]
  },
  {
   "cell_type": "code",
   "execution_count": 17,
   "metadata": {
    "id": "7zQGlzFjSbK6"
   },
   "outputs": [
    {
     "data": {
      "image/png": "[encoded data removed]",
      "text/plain": [
       "<Figure size 432x288 with 1 Axes>"
      ]
     },
     "metadata": {
      "needs_background": "light"
     },
     "output_type": "display_data"
    },
    {
     "data": {
      "image/png": "[encoded data removed]",
      "text/plain": [
       "<Figure size 432x288 with 1 Axes>"
      ]
     },
     "metadata": {
      "needs_background": "light"
     },
     "output_type": "display_data"
    }
   ],
   "source": [
    "def show_train_history(history, xlabel, ylabel, train):\n",
    "    for item in train:\n",
    "        plt.plot(history[item])\n",
    "    plt.title('Train History')\n",
    "    plt.xlabel(xlabel)\n",
    "    plt.ylabel(ylabel)\n",
    "    plt.legend(train, loc='upper left')\n",
    "    plt.show()\n",
    "\n",
    "show_train_history(history, 'Epoch', 'Accuracy', ('val_main_accuracy', 'val_aux1_accuracy', 'val_aux2_accuracy'))\n",
    "show_train_history(history, 'Epoch', 'Loss', ('main_loss', 'aux1_loss', 'aux2_loss'))\n"
   ]
  },
  {
   "cell_type": "code",
   "execution_count": 18,
   "metadata": {
    "id": "jd_Pd_thSbK7",
    "outputId": "32735d82-2bd7-40df-914d-0aa57e709abd"
   },
   "outputs": [
    {
     "data": {
      "text/plain": [
       "['loss',\n",
       " 'main_loss',\n",
       " 'aux1_loss',\n",
       " 'aux2_loss',\n",
       " 'main_accuracy',\n",
       " 'aux1_accuracy',\n",
       " 'aux2_accuracy']"
      ]
     },
     "execution_count": 18,
     "metadata": {},
     "output_type": "execute_result"
    }
   ],
   "source": [
    "model.metrics_names"
   ]
  },
  {
   "cell_type": "code",
   "execution_count": 19,
   "metadata": {
    "id": "stDYzqIuSbK8",
    "outputId": "a812f580-bcde-4f38-d958-cb813cb6896d"
   },
   "outputs": [
    {
     "name": "stdout",
     "output_type": "stream",
     "text": [
      "14/14 [==============================] - 13s 917ms/step - loss: 0.2226 - main_loss: 0.1492 - aux1_loss: 0.1154 - aux2_loss: 0.1296 - main_accuracy: 0.9682 - aux1_accuracy: 0.9614 - aux2_accuracy: 0.9682\n"
     ]
    }
   ],
   "source": [
    "loss,main_loss,aux1_loss,aux2_loss,main_accuracy,aux1_accuracy,aux2_accuracy = model.evaluate(x=X_test, y=y_test)\n"
   ]
  },
  {
   "cell_type": "code",
   "execution_count": 20,
   "metadata": {
    "id": "TrzFa6k-SbK8",
    "outputId": "d5c086b4-c107-471b-dc49-169878df8c8a"
   },
   "outputs": [
    {
     "name": "stdout",
     "output_type": "stream",
     "text": [
      "Main Loss = 14.915856719017029\n",
      "Aux1 Loss = 11.535145342350006\n",
      "Aux2 Loss = 12.957258522510529\n",
      "Main Accuracy = 96.81817889213562\n",
      "Aux1 accuracy = 96.13636136054993\n",
      "Aux2 Accuracy = 96.81817889213562\n"
     ]
    }
   ],
   "source": [
    "print (f\"Main Loss = {main_loss*100}\")\n",
    "print (f\"Aux1 Loss = {aux1_loss*100}\")\n",
    "print (f\"Aux2 Loss = {aux2_loss*100}\")\n",
    "print (f\"Main Accuracy = {main_accuracy*100}\")\n",
    "print (f\"Aux1 accuracy = {aux1_accuracy*100}\")\n",
    "print (f\"Aux2 Accuracy = {aux2_accuracy*100}\")"
   ]
  },
  {
   "cell_type": "code",
   "execution_count": 21,
   "metadata": {
    "id": "azEvFUcnSbK_"
   },
   "outputs": [
    {
     "name": "stdout",
     "output_type": "stream",
     "text": [
      "14/14 [==============================] - 13s 917ms/step - loss: 0.3086 - main_loss: 0.1881 - aux1_loss: 0.2113 - aux2_loss: 0.1907 - main_accuracy: 0.9501 - aux1_accuracy: 0.9546 - aux2_accuracy: 0.9501\n",
      "Main Loss = 18.805350363254547\n",
      "Aux1 Loss = 21.1260586977005\n",
      "Aux2 Loss = 19.067072868347168\n",
      "Main Accuracy = 95.01133561134338\n",
      "Aux1 accuracy = 95.46485543251038\n",
      "Aux2 Accuracy = 95.01133561134338\n"
     ]
    }
   ],
   "source": [
    "loss,main_loss,aux1_loss,aux2_loss,main_accuracy,aux1_accuracy,aux2_accuracy = model.evaluate(x=X_val, y=y_val)\n",
    "print (f\"Main Loss = {main_loss*100}\")\n",
    "print (f\"Aux1 Loss = {aux1_loss*100}\")\n",
    "print (f\"Aux2 Loss = {aux2_loss*100}\")\n",
    "print (f\"Main Accuracy = {main_accuracy*100}\")\n",
    "print (f\"Aux1 accuracy = {aux1_accuracy*100}\")\n",
    "print (f\"Aux2 Accuracy = {aux2_accuracy*100}\")"
   ]
  },
  {
   "cell_type": "code",
   "execution_count": null,
   "metadata": {},
   "outputs": [],
   "source": []
  }
 ],
 "metadata": {
  "colab": {
   "name": "ishsys2.ipynb",
   "provenance": []
  },
  "kernelspec": {
   "display_name": "Python 3 (ipykernel)",
   "language": "python",
   "name": "python3"
  },
  "language_info": {
   "codemirror_mode": {
    "name": "ipython",
    "version": 3
   },
   "file_extension": ".py",
   "mimetype": "text/x-python",
   "name": "python",
   "nbconvert_exporter": "python",
   "pygments_lexer": "ipython3",
   "version": "3.9.7"
  }
 },
 "nbformat": 4,
 "nbformat_minor": 1
}
