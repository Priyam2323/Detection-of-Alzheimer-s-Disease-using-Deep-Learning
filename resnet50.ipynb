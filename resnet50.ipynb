{
 "cells": [
  {
   "cell_type": "code",
   "execution_count": 1,
   "metadata": {
    "executionInfo": {
     "elapsed": 3500,
     "status": "ok",
     "timestamp": 1626252737157,
     "user": {
      "displayName": "Priyam Pandey",
      "photoUrl": "https://lh3.googleusercontent.com/a-/AOh14GjTJi5elTyhTMGu6Y4LrcNUlSOxugpt7J0xwKjX6w=s64",
      "userId": "14279260669392728533"
     },
     "user_tz": -330
    },
    "id": "ou8qnKl_SbKW"
   },
   "outputs": [],
   "source": [
    "import tensorflow as tf\n",
    "from tensorflow.keras.layers import Conv2D, Input, ZeroPadding2D, BatchNormalization, Activation, MaxPooling2D, Flatten, Dense\n",
    "from tensorflow.keras.models import Model, load_model\n",
    "from tensorflow.keras.callbacks import TensorBoard, ModelCheckpoint\n",
    "from sklearn.model_selection import train_test_split\n",
    "from sklearn.metrics import f1_score\n",
    "from sklearn.utils import shuffle\n",
    "import cv2\n",
    "import imutils\n",
    "import numpy as np\n",
    "import matplotlib.pyplot as plt\n",
    "import time\n",
    "from os import listdir\n",
    "from pathlib import Path \n",
    "\n",
    "%matplotlib inline\n"
   ]
  },
  {
   "cell_type": "code",
   "execution_count": 4,
   "metadata": {
    "executionInfo": {
     "elapsed": 417,
     "status": "ok",
     "timestamp": 1626253082543,
     "user": {
      "displayName": "Priyam Pandey",
      "photoUrl": "https://lh3.googleusercontent.com/a-/AOh14GjTJi5elTyhTMGu6Y4LrcNUlSOxugpt7J0xwKjX6w=s64",
      "userId": "14279260669392728533"
     },
     "user_tz": -330
    },
    "id": "h6IwoH5ITBS5"
   },
   "outputs": [],
   "source": [
    "import os\n",
    "os.chdir(\"/content/gdrive/My Drive/dataset_adni/augmented_data\")"
   ]
  },
  {
   "cell_type": "code",
   "execution_count": null,
   "metadata": {
    "id": "l6Ah54WpSbKh",
    "outputId": "19fc3fe8-c6a5-498c-9043-60d2e72581f0"
   },
   "outputs": [
    {
     "name": "stdout",
     "output_type": "stream",
     "text": [
      "Requirement already satisfied: tensorflow in c:\\users\\ishan\\anaconda3\\lib\\site-packages (2.4.1)\n",
      "Requirement already satisfied: keras-preprocessing~=1.1.2 in c:\\users\\ishan\\anaconda3\\lib\\site-packages (from tensorflow) (1.1.2)\n",
      "Requirement already satisfied: termcolor~=1.1.0 in c:\\users\\ishan\\anaconda3\\lib\\site-packages (from tensorflow) (1.1.0)\n",
      "Requirement already satisfied: h5py~=2.10.0 in c:\\users\\ishan\\anaconda3\\lib\\site-packages (from tensorflow) (2.10.0)\n",
      "Requirement already satisfied: protobuf>=3.9.2 in c:\\users\\ishan\\anaconda3\\lib\\site-packages (from tensorflow) (3.16.0)\n",
      "Requirement already satisfied: grpcio~=1.32.0 in c:\\users\\ishan\\anaconda3\\lib\\site-packages (from tensorflow) (1.32.0)\n",
      "Requirement already satisfied: flatbuffers~=1.12.0 in c:\\users\\ishan\\anaconda3\\lib\\site-packages (from tensorflow) (1.12)\n",
      "Requirement already satisfied: tensorboard~=2.4 in c:\\users\\ishan\\anaconda3\\lib\\site-packages (from tensorflow) (2.5.0)\n",
      "Requirement already satisfied: opt-einsum~=3.3.0 in c:\\users\\ishan\\anaconda3\\lib\\site-packages (from tensorflow) (3.3.0)\n",
      "Requirement already satisfied: typing-extensions~=3.7.4 in c:\\users\\ishan\\anaconda3\\lib\\site-packages (from tensorflow) (3.7.4.3)\n",
      "Requirement already satisfied: wheel~=0.35 in c:\\users\\ishan\\anaconda3\\lib\\site-packages (from tensorflow) (0.35.1)\n",
      "Requirement already satisfied: wrapt~=1.12.1 in c:\\users\\ishan\\anaconda3\\lib\\site-packages (from tensorflow) (1.12.1)\n",
      "Requirement already satisfied: google-pasta~=0.2 in c:\\users\\ishan\\anaconda3\\lib\\site-packages (from tensorflow) (0.2.0)\n",
      "Requirement already satisfied: gast==0.3.3 in c:\\users\\ishan\\anaconda3\\lib\\site-packages (from tensorflow) (0.3.3)\n",
      "Requirement already satisfied: absl-py~=0.10 in c:\\users\\ishan\\anaconda3\\lib\\site-packages (from tensorflow) (0.12.0)\n",
      "Requirement already satisfied: tensorflow-estimator<2.5.0,>=2.4.0 in c:\\users\\ishan\\anaconda3\\lib\\site-packages (from tensorflow) (2.4.0)\n",
      "Requirement already satisfied: six~=1.15.0 in c:\\users\\ishan\\anaconda3\\lib\\site-packages (from tensorflow) (1.15.0)\n",
      "Requirement already satisfied: astunparse~=1.6.3 in c:\\users\\ishan\\anaconda3\\lib\\site-packages (from tensorflow) (1.6.3)\n",
      "Requirement already satisfied: numpy~=1.19.2 in c:\\users\\ishan\\anaconda3\\lib\\site-packages (from tensorflow) (1.19.2)\n",
      "Requirement already satisfied: requests<3,>=2.21.0 in c:\\users\\ishan\\anaconda3\\lib\\site-packages (from tensorboard~=2.4->tensorflow) (2.24.0)\n",
      "Requirement already satisfied: google-auth<2,>=1.6.3 in c:\\users\\ishan\\anaconda3\\lib\\site-packages (from tensorboard~=2.4->tensorflow) (1.30.0)\n",
      "Requirement already satisfied: setuptools>=41.0.0 in c:\\users\\ishan\\anaconda3\\lib\\site-packages (from tensorboard~=2.4->tensorflow) (50.3.1.post20201107)\n",
      "Requirement already satisfied: werkzeug>=0.11.15 in c:\\users\\ishan\\anaconda3\\lib\\site-packages (from tensorboard~=2.4->tensorflow) (1.0.1)\n",
      "Requirement already satisfied: google-auth-oauthlib<0.5,>=0.4.1 in c:\\users\\ishan\\anaconda3\\lib\\site-packages (from tensorboard~=2.4->tensorflow) (0.4.4)\n",
      "Requirement already satisfied: tensorboard-data-server<0.7.0,>=0.6.0 in c:\\users\\ishan\\anaconda3\\lib\\site-packages (from tensorboard~=2.4->tensorflow) (0.6.1)\n",
      "Requirement already satisfied: markdown>=2.6.8 in c:\\users\\ishan\\anaconda3\\lib\\site-packages (from tensorboard~=2.4->tensorflow) (3.3.4)\n",
      "Requirement already satisfied: tensorboard-plugin-wit>=1.6.0 in c:\\users\\ishan\\anaconda3\\lib\\site-packages (from tensorboard~=2.4->tensorflow) (1.8.0)\n",
      "Requirement already satisfied: urllib3!=1.25.0,!=1.25.1,<1.26,>=1.21.1 in c:\\users\\ishan\\anaconda3\\lib\\site-packages (from requests<3,>=2.21.0->tensorboard~=2.4->tensorflow) (1.25.11)\n",
      "Requirement already satisfied: certifi>=2017.4.17 in c:\\users\\ishan\\anaconda3\\lib\\site-packages (from requests<3,>=2.21.0->tensorboard~=2.4->tensorflow) (2020.6.20)\n",
      "Requirement already satisfied: chardet<4,>=3.0.2 in c:\\users\\ishan\\anaconda3\\lib\\site-packages (from requests<3,>=2.21.0->tensorboard~=2.4->tensorflow) (3.0.4)\n",
      "Requirement already satisfied: idna<3,>=2.5 in c:\\users\\ishan\\anaconda3\\lib\\site-packages (from requests<3,>=2.21.0->tensorboard~=2.4->tensorflow) (2.10)\n",
      "Requirement already satisfied: rsa<5,>=3.1.4; python_version >= \"3.6\" in c:\\users\\ishan\\anaconda3\\lib\\site-packages (from google-auth<2,>=1.6.3->tensorboard~=2.4->tensorflow) (4.7.2)\n",
      "Requirement already satisfied: pyasn1-modules>=0.2.1 in c:\\users\\ishan\\anaconda3\\lib\\site-packages (from google-auth<2,>=1.6.3->tensorboard~=2.4->tensorflow) (0.2.8)\n",
      "Requirement already satisfied: cachetools<5.0,>=2.0.0 in c:\\users\\ishan\\anaconda3\\lib\\site-packages (from google-auth<2,>=1.6.3->tensorboard~=2.4->tensorflow) (4.2.2)\n",
      "Requirement already satisfied: requests-oauthlib>=0.7.0 in c:\\users\\ishan\\anaconda3\\lib\\site-packages (from google-auth-oauthlib<0.5,>=0.4.1->tensorboard~=2.4->tensorflow) (1.3.0)\n",
      "Requirement already satisfied: pyasn1>=0.1.3 in c:\\users\\ishan\\anaconda3\\lib\\site-packages (from rsa<5,>=3.1.4; python_version >= \"3.6\"->google-auth<2,>=1.6.3->tensorboard~=2.4->tensorflow) (0.4.8)\n",
      "Requirement already satisfied: oauthlib>=3.0.0 in c:\\users\\ishan\\anaconda3\\lib\\site-packages (from requests-oauthlib>=0.7.0->google-auth-oauthlib<0.5,>=0.4.1->tensorboard~=2.4->tensorflow) (3.1.0)\n",
      "Note: you may need to restart the kernel to use updated packages.\n"
     ]
    }
   ],
   "source": [
    "pip install tensorflow\n"
   ]
  },
  {
   "cell_type": "code",
   "execution_count": 1,
   "metadata": {
    "id": "uFCTkCL8SbKi"
   },
   "outputs": [],
   "source": [
    "import tensorflow as tf\n",
    "from tensorflow.keras.layers import Conv2D, Input, ZeroPadding2D, BatchNormalization, Activation, MaxPooling2D, Flatten, Dense\n",
    "from tensorflow.keras.models import Model, load_model\n",
    "from tensorflow.keras.callbacks import TensorBoard, ModelCheckpoint\n",
    "from sklearn.model_selection import train_test_split\n",
    "from sklearn.metrics import f1_score\n",
    "from sklearn.utils import shuffle\n",
    "import cv2\n",
    "import imutils\n",
    "import numpy as np\n",
    "import matplotlib.pyplot as plt\n",
    "import time\n",
    "from os import listdir\n",
    "from pathlib import Path \n",
    "\n",
    "%matplotlib inline\n"
   ]
  },
  {
   "cell_type": "code",
   "execution_count": 2,
   "metadata": {
    "executionInfo": {
     "elapsed": 402,
     "status": "ok",
     "timestamp": 1626253095354,
     "user": {
      "displayName": "Priyam Pandey",
      "photoUrl": "https://lh3.googleusercontent.com/a-/AOh14GjTJi5elTyhTMGu6Y4LrcNUlSOxugpt7J0xwKjX6w=s64",
      "userId": "14279260669392728533"
     },
     "user_tz": -330
    },
    "id": "hUJAl6RKSbKn"
   },
   "outputs": [],
   "source": [
    "def load_data(dir_list):\n",
    "    \"\"\"\n",
    "    Read images, resize and normalize them. \n",
    "    \"\"\"\n",
    "    # load all images in a directory\n",
    "    X = []\n",
    "    y = []\n",
    "    \n",
    "    for directory in dir_list:\n",
    "        for filename in listdir(directory): \n",
    "            # load the image\n",
    "            image = cv2.imread(directory+'//'+filename)\n",
    "            # normalize values\n",
    "            image = image / 255.\n",
    "            # convert image to numpy array and append it to X\n",
    "            X.append(image)\n",
    "            if directory[-7:] == 'AD_crop':#directory[-6:]\n",
    "                y.append([2])\n",
    "            elif directory[-7:] =='MI_crop':\n",
    "                y.append([1])\n",
    "            else:\n",
    "                y.append([3])\n",
    "                \n",
    "    X = np.array(X)\n",
    "    y = np.array(y)\n",
    "    \n",
    "    # Shuffle the data\n",
    "    X, y = shuffle(X, y)\n",
    "    \n",
    "    print(f'Number of examples is: {len(X)}')\n",
    "    print(f'X shape is: {X.shape}')\n",
    "    print(f'y shape is: {y.shape}')\n",
    "    \n",
    "    return X, y\n"
   ]
  },
  {
   "cell_type": "code",
   "execution_count": 3,
   "metadata": {
    "colab": {
     "base_uri": "https://localhost:8080/"
    },
    "executionInfo": {
     "elapsed": 823447,
     "status": "ok",
     "timestamp": 1626253925975,
     "user": {
      "displayName": "Priyam Pandey",
      "photoUrl": "https://lh3.googleusercontent.com/a-/AOh14GjTJi5elTyhTMGu6Y4LrcNUlSOxugpt7J0xwKjX6w=s64",
      "userId": "14279260669392728533"
     },
     "user_tz": -330
    },
    "id": "5XR2KnulSbKo",
    "outputId": "66a8c35f-2aec-42de-e18b-faab90605e05"
   },
   "outputs": [
    {
     "name": "stdout",
     "output_type": "stream",
     "text": [
      "Number of examples is: 2934\n",
      "X shape is: (2934, 224, 224, 3)\n",
      "y shape is: (2934, 1)\n"
     ]
    }
   ],
   "source": [
    "X, y = load_data(['MI_crop','CN_crop','AD_crop'])\n"
   ]
  },
  {
   "cell_type": "code",
   "execution_count": 4,
   "metadata": {
    "id": "l9Jod9hDUYM6"
   },
   "outputs": [],
   "source": [
    "\n",
    "import matplotlib.pyplot as plt\n",
    "from tensorflow.keras import regularizers\n",
    "from tensorflow.keras.models import Sequential, Model\n",
    "from tensorflow.keras.layers import Input, Flatten, Dense, Dropout, BatchNormalization\n",
    "from tensorflow.keras.layers import Conv2D, MaxPooling2D, AveragePooling2D, ZeroPadding2D\n",
    "from tensorflow.keras.layers import Concatenate\n",
    "\n",
    "from tensorflow.keras.optimizers import Adam, SGD"
   ]
  },
  {
   "cell_type": "code",
   "execution_count": 5,
   "metadata": {
    "id": "P8PMNJnDSbKq"
   },
   "outputs": [],
   "source": [
    "def split_data(X, y, test_size=0.2):\n",
    "       \n",
    "    \"\"\"\n",
    "    Splits data into training, validation and test sets.\n",
    "    Arguments:\n",
    "        X: A numpy array with shape = (#_examples, image_width, image_height, #_channels)\n",
    "        y: A numpy array with shape = (#_examples, 1)\n",
    "    Returns:\n",
    "        X_train: A numpy array with shape = (#_train_examples, image_width, image_height, #_channels)\n",
    "        y_train: A numpy array with shape = (#_train_examples, 1)\n",
    "        X_val: A numpy array with shape = (#_val_examples, image_width, image_height, #_channels)\n",
    "        y_val: A numpy array with shape = (#_val_examples, 1)\n",
    "        X_test: A numpy array with shape = (#_test_examples, image_width, image_height, #_channels)\n",
    "        y_test: A numpy array with shape = (#_test_examples, 1)\n",
    "    \"\"\"\n",
    "    \n",
    "    X_train, X_test_val, y_train, y_test_val = train_test_split(X, y, test_size=test_size)\n",
    "    X_test, X_val, y_test, y_val = train_test_split(X_test_val, y_test_val, test_size=0.5)\n",
    "    \n",
    "    return X_train, y_train, X_val, y_val, X_test, y_test\n"
   ]
  },
  {
   "cell_type": "code",
   "execution_count": 6,
   "metadata": {
    "id": "0c6z6lOpSbKr"
   },
   "outputs": [],
   "source": [
    "X_train, y_train, X_val, y_val, X_test, y_test = split_data(X, y, test_size=0.3)"
   ]
  },
  {
   "cell_type": "code",
   "execution_count": 7,
   "metadata": {
    "id": "oB8j8ZFTSbKs",
    "outputId": "9693ce01-0467-4b22-dd20-e394c8583dca"
   },
   "outputs": [
    {
     "name": "stdout",
     "output_type": "stream",
     "text": [
      "number of training examples = 2053\n",
      "number of development examples = 441\n",
      "number of test examples = 440\n",
      "X_train shape: (2053, 224, 224, 3)\n",
      "Y_train shape: (2053, 1)\n",
      "X_val (dev) shape: (441, 224, 224, 3)\n",
      "Y_val (dev) shape: (441, 1)\n",
      "X_test shape: (440, 224, 224, 3)\n",
      "Y_test shape: (440, 1)\n"
     ]
    }
   ],
   "source": [
    "print (\"number of training examples = \" + str(X_train.shape[0]))\n",
    "print (\"number of development examples = \" + str(X_val.shape[0]))\n",
    "print (\"number of test examples = \" + str(X_test.shape[0]))\n",
    "print (\"X_train shape: \" + str(X_train.shape))\n",
    "print (\"Y_train shape: \" + str(y_train.shape))\n",
    "print (\"X_val (dev) shape: \" + str(X_val.shape))\n",
    "print (\"Y_val (dev) shape: \" + str(y_val.shape))\n",
    "print (\"X_test shape: \" + str(X_test.shape))\n",
    "print (\"Y_test shape: \" + str(y_test.shape))\n"
   ]
  },
  {
   "cell_type": "code",
   "execution_count": 8,
   "metadata": {
    "id": "Pp4SvHGZSbKs"
   },
   "outputs": [],
   "source": [
    "def hms_string(sec_elapsed):\n",
    "    h = int(sec_elapsed / (60 * 60))\n",
    "    m = int((sec_elapsed % (60 * 60)) / 60)\n",
    "    s = sec_elapsed % 60\n",
    "    return f\"{h}:{m}:{round(s,1)}\"\n",
    "\n"
   ]
  },
  {
   "cell_type": "code",
   "execution_count": 9,
   "metadata": {},
   "outputs": [],
   "source": [
    "import cv2\n",
    "import numpy as np\n",
    "import os\n",
    "from tensorflow import keras\n",
    "from tensorflow.keras.models import Sequential, Model,load_model\n",
    "from tensorflow.keras.optimizers import SGD\n",
    "from tensorflow.keras.callbacks import EarlyStopping,ModelCheckpoint\n",
    "from tensorflow.keras.layers import Input, Add, Dense, Activation, ZeroPadding2D, BatchNormalization, Flatten, Conv2D, AveragePooling2D, MaxPooling2D, GlobalMaxPooling2D,MaxPool2D\n",
    "from tensorflow.keras.preprocessing import image\n",
    "from tensorflow.keras.initializers import glorot_uniform"
   ]
  },
  {
   "cell_type": "code",
   "execution_count": 10,
   "metadata": {},
   "outputs": [],
   "source": [
    "def identity_block(X, f, filters, stage, block):\n",
    "   \n",
    "    conv_name_base = 'res' + str(stage) + block + '_branch'\n",
    "    bn_name_base = 'bn' + str(stage) + block + '_branch'\n",
    "    F1, F2, F3 = filters\n",
    "\n",
    "    X_shortcut = X\n",
    "   \n",
    "    X = Conv2D(filters=F1, kernel_size=(1, 1), strides=(1, 1), padding='valid', name=conv_name_base + '2a', kernel_initializer=glorot_uniform(seed=0))(X)\n",
    "    X = BatchNormalization(axis=3, name=bn_name_base + '2a')(X)\n",
    "    X = Activation('relu')(X)\n",
    "\n",
    "    X = Conv2D(filters=F2, kernel_size=(f, f), strides=(1, 1), padding='same', name=conv_name_base + '2b', kernel_initializer=glorot_uniform(seed=0))(X)\n",
    "    X = BatchNormalization(axis=3, name=bn_name_base + '2b')(X)\n",
    "    X = Activation('relu')(X)\n",
    "\n",
    "    X = Conv2D(filters=F3, kernel_size=(1, 1), strides=(1, 1), padding='valid', name=conv_name_base + '2c', kernel_initializer=glorot_uniform(seed=0))(X)\n",
    "    X = BatchNormalization(axis=3, name=bn_name_base + '2c')(X)\n",
    "\n",
    "    X = Add()([X, X_shortcut])# SKIP Connection\n",
    "    X = Activation('relu')(X)\n",
    "\n",
    "    return X"
   ]
  },
  {
   "cell_type": "code",
   "execution_count": 11,
   "metadata": {},
   "outputs": [],
   "source": [
    "def convolutional_block(X, f, filters, stage, block, s=2):\n",
    "   \n",
    "    conv_name_base = 'res' + str(stage) + block + '_branch'\n",
    "    bn_name_base = 'bn' + str(stage) + block + '_branch'\n",
    "\n",
    "    F1, F2, F3 = filters\n",
    "\n",
    "    X_shortcut = X\n",
    "\n",
    "    X = Conv2D(filters=F1, kernel_size=(1, 1), strides=(s, s), padding='valid', name=conv_name_base + '2a', kernel_initializer=glorot_uniform(seed=0))(X)\n",
    "    X = BatchNormalization(axis=3, name=bn_name_base + '2a')(X)\n",
    "    X = Activation('relu')(X)\n",
    "\n",
    "    X = Conv2D(filters=F2, kernel_size=(f, f), strides=(1, 1), padding='same', name=conv_name_base + '2b', kernel_initializer=glorot_uniform(seed=0))(X)\n",
    "    X = BatchNormalization(axis=3, name=bn_name_base + '2b')(X)\n",
    "    X = Activation('relu')(X)\n",
    "\n",
    "    X = Conv2D(filters=F3, kernel_size=(1, 1), strides=(1, 1), padding='valid', name=conv_name_base + '2c', kernel_initializer=glorot_uniform(seed=0))(X)\n",
    "    X = BatchNormalization(axis=3, name=bn_name_base + '2c')(X)\n",
    "\n",
    "    X_shortcut = Conv2D(filters=F3, kernel_size=(1, 1), strides=(s, s), padding='valid', name=conv_name_base + '1', kernel_initializer=glorot_uniform(seed=0))(X_shortcut)\n",
    "    X_shortcut = BatchNormalization(axis=3, name=bn_name_base + '1')(X_shortcut)\n",
    "\n",
    "    X = Add()([X, X_shortcut])\n",
    "    X = Activation('relu')(X)\n",
    "\n",
    "    return X"
   ]
  },
  {
   "cell_type": "code",
   "execution_count": 12,
   "metadata": {},
   "outputs": [],
   "source": [
    "def ResNet50(input_shape=(224, 224, 3)):\n",
    "\n",
    "    X_input = Input(input_shape)\n",
    "\n",
    "    X = ZeroPadding2D((3, 3))(X_input)\n",
    "\n",
    "    X = Conv2D(64, (7, 7), strides=(2, 2), name='conv1', kernel_initializer=glorot_uniform(seed=0))(X)\n",
    "    X = BatchNormalization(axis=3, name='bn_conv1')(X)\n",
    "    X = Activation('relu')(X)\n",
    "    X = MaxPooling2D((3, 3), strides=(2, 2))(X)\n",
    "\n",
    "    X = convolutional_block(X, f=3, filters=[64, 64, 256], stage=2, block='a', s=1)\n",
    "    X = identity_block(X, 3, [64, 64, 256], stage=2, block='b')\n",
    "    X = identity_block(X, 3, [64, 64, 256], stage=2, block='c')\n",
    "\n",
    "\n",
    "    X = convolutional_block(X, f=3, filters=[128, 128, 512], stage=3, block='a', s=2)\n",
    "    X = identity_block(X, 3, [128, 128, 512], stage=3, block='b')\n",
    "    X = identity_block(X, 3, [128, 128, 512], stage=3, block='c')\n",
    "    X = identity_block(X, 3, [128, 128, 512], stage=3, block='d')\n",
    "\n",
    "    X = convolutional_block(X, f=3, filters=[256, 256, 1024], stage=4, block='a', s=2)\n",
    "    X = identity_block(X, 3, [256, 256, 1024], stage=4, block='b')\n",
    "    X = identity_block(X, 3, [256, 256, 1024], stage=4, block='c')\n",
    "    X = identity_block(X, 3, [256, 256, 1024], stage=4, block='d')\n",
    "    X = identity_block(X, 3, [256, 256, 1024], stage=4, block='e')\n",
    "    X = identity_block(X, 3, [256, 256, 1024], stage=4, block='f')\n",
    "\n",
    "    X = X = convolutional_block(X, f=3, filters=[512, 512, 2048], stage=5, block='a', s=2)\n",
    "    X = identity_block(X, 3, [512, 512, 2048], stage=5, block='b')\n",
    "    X = identity_block(X, 3, [512, 512, 2048], stage=5, block='c')\n",
    "\n",
    "    X = AveragePooling2D(pool_size=(2, 2), padding='same')(X)\n",
    "    \n",
    "    model = Model(inputs=X_input, outputs=X, name='ResNet50')\n",
    "\n",
    "    return model"
   ]
  },
  {
   "cell_type": "code",
   "execution_count": 13,
   "metadata": {},
   "outputs": [],
   "source": [
    "base_model = ResNet50(input_shape=(224, 224, 3))\n",
    "headModel = base_model.output\n",
    "headModel = Flatten()(headModel)\n",
    "headModel=Dense(256, activation='relu', name='fc1',kernel_initializer=glorot_uniform(seed=0))(headModel)\n",
    "headModel=Dense(128, activation='relu', name='fc2',kernel_initializer=glorot_uniform(seed=0))(headModel)\n",
    "headModel = Dense( 4,activation='sigmoid', name='fc3',kernel_initializer=glorot_uniform(seed=0))(headModel)"
   ]
  },
  {
   "cell_type": "code",
   "execution_count": 14,
   "metadata": {
    "id": "i01KJSu7SbKw"
   },
   "outputs": [
    {
     "name": "stdout",
     "output_type": "stream",
     "text": [
      "Model: \"ResNet50\"\n",
      "__________________________________________________________________________________________________\n",
      "Layer (type)                    Output Shape         Param #     Connected to                     \n",
      "==================================================================================================\n",
      "input_1 (InputLayer)            [(None, 224, 224, 3) 0                                            \n",
      "__________________________________________________________________________________________________\n",
      "zero_padding2d (ZeroPadding2D)  (None, 230, 230, 3)  0           input_1[0][0]                    \n",
      "__________________________________________________________________________________________________\n",
      "conv1 (Conv2D)                  (None, 112, 112, 64) 9472        zero_padding2d[0][0]             \n",
      "__________________________________________________________________________________________________\n",
      "bn_conv1 (BatchNormalization)   (None, 112, 112, 64) 256         conv1[0][0]                      \n",
      "__________________________________________________________________________________________________\n",
      "activation (Activation)         (None, 112, 112, 64) 0           bn_conv1[0][0]                   \n",
      "__________________________________________________________________________________________________\n",
      "max_pooling2d (MaxPooling2D)    (None, 55, 55, 64)   0           activation[0][0]                 \n",
      "__________________________________________________________________________________________________\n",
      "res2a_branch2a (Conv2D)         (None, 55, 55, 64)   4160        max_pooling2d[0][0]              \n",
      "__________________________________________________________________________________________________\n",
      "bn2a_branch2a (BatchNormalizati (None, 55, 55, 64)   256         res2a_branch2a[0][0]             \n",
      "__________________________________________________________________________________________________\n",
      "activation_1 (Activation)       (None, 55, 55, 64)   0           bn2a_branch2a[0][0]              \n",
      "__________________________________________________________________________________________________\n",
      "res2a_branch2b (Conv2D)         (None, 55, 55, 64)   36928       activation_1[0][0]               \n",
      "__________________________________________________________________________________________________\n",
      "bn2a_branch2b (BatchNormalizati (None, 55, 55, 64)   256         res2a_branch2b[0][0]             \n",
      "__________________________________________________________________________________________________\n",
      "activation_2 (Activation)       (None, 55, 55, 64)   0           bn2a_branch2b[0][0]              \n",
      "__________________________________________________________________________________________________\n",
      "res2a_branch2c (Conv2D)         (None, 55, 55, 256)  16640       activation_2[0][0]               \n",
      "__________________________________________________________________________________________________\n",
      "res2a_branch1 (Conv2D)          (None, 55, 55, 256)  16640       max_pooling2d[0][0]              \n",
      "__________________________________________________________________________________________________\n",
      "bn2a_branch2c (BatchNormalizati (None, 55, 55, 256)  1024        res2a_branch2c[0][0]             \n",
      "__________________________________________________________________________________________________\n",
      "bn2a_branch1 (BatchNormalizatio (None, 55, 55, 256)  1024        res2a_branch1[0][0]              \n",
      "__________________________________________________________________________________________________\n",
      "add (Add)                       (None, 55, 55, 256)  0           bn2a_branch2c[0][0]              \n",
      "                                                                 bn2a_branch1[0][0]               \n",
      "__________________________________________________________________________________________________\n",
      "activation_3 (Activation)       (None, 55, 55, 256)  0           add[0][0]                        \n",
      "__________________________________________________________________________________________________\n",
      "res2b_branch2a (Conv2D)         (None, 55, 55, 64)   16448       activation_3[0][0]               \n",
      "__________________________________________________________________________________________________\n",
      "bn2b_branch2a (BatchNormalizati (None, 55, 55, 64)   256         res2b_branch2a[0][0]             \n",
      "__________________________________________________________________________________________________\n",
      "activation_4 (Activation)       (None, 55, 55, 64)   0           bn2b_branch2a[0][0]              \n",
      "__________________________________________________________________________________________________\n",
      "res2b_branch2b (Conv2D)         (None, 55, 55, 64)   36928       activation_4[0][0]               \n",
      "__________________________________________________________________________________________________\n",
      "bn2b_branch2b (BatchNormalizati (None, 55, 55, 64)   256         res2b_branch2b[0][0]             \n",
      "__________________________________________________________________________________________________\n",
      "activation_5 (Activation)       (None, 55, 55, 64)   0           bn2b_branch2b[0][0]              \n",
      "__________________________________________________________________________________________________\n",
      "res2b_branch2c (Conv2D)         (None, 55, 55, 256)  16640       activation_5[0][0]               \n",
      "__________________________________________________________________________________________________\n",
      "bn2b_branch2c (BatchNormalizati (None, 55, 55, 256)  1024        res2b_branch2c[0][0]             \n",
      "__________________________________________________________________________________________________\n",
      "add_1 (Add)                     (None, 55, 55, 256)  0           bn2b_branch2c[0][0]              \n",
      "                                                                 activation_3[0][0]               \n",
      "__________________________________________________________________________________________________\n",
      "activation_6 (Activation)       (None, 55, 55, 256)  0           add_1[0][0]                      \n",
      "__________________________________________________________________________________________________\n",
      "res2c_branch2a (Conv2D)         (None, 55, 55, 64)   16448       activation_6[0][0]               \n",
      "__________________________________________________________________________________________________\n",
      "bn2c_branch2a (BatchNormalizati (None, 55, 55, 64)   256         res2c_branch2a[0][0]             \n",
      "__________________________________________________________________________________________________\n",
      "activation_7 (Activation)       (None, 55, 55, 64)   0           bn2c_branch2a[0][0]              \n",
      "__________________________________________________________________________________________________\n",
      "res2c_branch2b (Conv2D)         (None, 55, 55, 64)   36928       activation_7[0][0]               \n",
      "__________________________________________________________________________________________________\n",
      "bn2c_branch2b (BatchNormalizati (None, 55, 55, 64)   256         res2c_branch2b[0][0]             \n",
      "__________________________________________________________________________________________________\n",
      "activation_8 (Activation)       (None, 55, 55, 64)   0           bn2c_branch2b[0][0]              \n",
      "__________________________________________________________________________________________________\n",
      "res2c_branch2c (Conv2D)         (None, 55, 55, 256)  16640       activation_8[0][0]               \n",
      "__________________________________________________________________________________________________\n",
      "bn2c_branch2c (BatchNormalizati (None, 55, 55, 256)  1024        res2c_branch2c[0][0]             \n",
      "__________________________________________________________________________________________________\n",
      "add_2 (Add)                     (None, 55, 55, 256)  0           bn2c_branch2c[0][0]              \n",
      "                                                                 activation_6[0][0]               \n",
      "__________________________________________________________________________________________________\n",
      "activation_9 (Activation)       (None, 55, 55, 256)  0           add_2[0][0]                      \n",
      "__________________________________________________________________________________________________\n",
      "res3a_branch2a (Conv2D)         (None, 28, 28, 128)  32896       activation_9[0][0]               \n",
      "__________________________________________________________________________________________________\n",
      "bn3a_branch2a (BatchNormalizati (None, 28, 28, 128)  512         res3a_branch2a[0][0]             \n",
      "__________________________________________________________________________________________________\n",
      "activation_10 (Activation)      (None, 28, 28, 128)  0           bn3a_branch2a[0][0]              \n",
      "__________________________________________________________________________________________________\n",
      "res3a_branch2b (Conv2D)         (None, 28, 28, 128)  147584      activation_10[0][0]              \n",
      "__________________________________________________________________________________________________\n",
      "bn3a_branch2b (BatchNormalizati (None, 28, 28, 128)  512         res3a_branch2b[0][0]             \n",
      "__________________________________________________________________________________________________\n",
      "activation_11 (Activation)      (None, 28, 28, 128)  0           bn3a_branch2b[0][0]              \n",
      "__________________________________________________________________________________________________\n",
      "res3a_branch2c (Conv2D)         (None, 28, 28, 512)  66048       activation_11[0][0]              \n",
      "__________________________________________________________________________________________________\n",
      "res3a_branch1 (Conv2D)          (None, 28, 28, 512)  131584      activation_9[0][0]               \n",
      "__________________________________________________________________________________________________\n",
      "bn3a_branch2c (BatchNormalizati (None, 28, 28, 512)  2048        res3a_branch2c[0][0]             \n",
      "__________________________________________________________________________________________________\n",
      "bn3a_branch1 (BatchNormalizatio (None, 28, 28, 512)  2048        res3a_branch1[0][0]              \n",
      "__________________________________________________________________________________________________\n",
      "add_3 (Add)                     (None, 28, 28, 512)  0           bn3a_branch2c[0][0]              \n",
      "                                                                 bn3a_branch1[0][0]               \n",
      "__________________________________________________________________________________________________\n",
      "activation_12 (Activation)      (None, 28, 28, 512)  0           add_3[0][0]                      \n",
      "__________________________________________________________________________________________________\n",
      "res3b_branch2a (Conv2D)         (None, 28, 28, 128)  65664       activation_12[0][0]              \n",
      "__________________________________________________________________________________________________\n",
      "bn3b_branch2a (BatchNormalizati (None, 28, 28, 128)  512         res3b_branch2a[0][0]             \n",
      "__________________________________________________________________________________________________\n",
      "activation_13 (Activation)      (None, 28, 28, 128)  0           bn3b_branch2a[0][0]              \n",
      "__________________________________________________________________________________________________\n",
      "res3b_branch2b (Conv2D)         (None, 28, 28, 128)  147584      activation_13[0][0]              \n",
      "__________________________________________________________________________________________________\n",
      "bn3b_branch2b (BatchNormalizati (None, 28, 28, 128)  512         res3b_branch2b[0][0]             \n",
      "__________________________________________________________________________________________________\n",
      "activation_14 (Activation)      (None, 28, 28, 128)  0           bn3b_branch2b[0][0]              \n",
      "__________________________________________________________________________________________________\n",
      "res3b_branch2c (Conv2D)         (None, 28, 28, 512)  66048       activation_14[0][0]              \n",
      "__________________________________________________________________________________________________\n",
      "bn3b_branch2c (BatchNormalizati (None, 28, 28, 512)  2048        res3b_branch2c[0][0]             \n",
      "__________________________________________________________________________________________________\n",
      "add_4 (Add)                     (None, 28, 28, 512)  0           bn3b_branch2c[0][0]              \n",
      "                                                                 activation_12[0][0]              \n",
      "__________________________________________________________________________________________________\n",
      "activation_15 (Activation)      (None, 28, 28, 512)  0           add_4[0][0]                      \n",
      "__________________________________________________________________________________________________\n",
      "res3c_branch2a (Conv2D)         (None, 28, 28, 128)  65664       activation_15[0][0]              \n",
      "__________________________________________________________________________________________________\n",
      "bn3c_branch2a (BatchNormalizati (None, 28, 28, 128)  512         res3c_branch2a[0][0]             \n",
      "__________________________________________________________________________________________________\n",
      "activation_16 (Activation)      (None, 28, 28, 128)  0           bn3c_branch2a[0][0]              \n",
      "__________________________________________________________________________________________________\n",
      "res3c_branch2b (Conv2D)         (None, 28, 28, 128)  147584      activation_16[0][0]              \n",
      "__________________________________________________________________________________________________\n",
      "bn3c_branch2b (BatchNormalizati (None, 28, 28, 128)  512         res3c_branch2b[0][0]             \n",
      "__________________________________________________________________________________________________\n",
      "activation_17 (Activation)      (None, 28, 28, 128)  0           bn3c_branch2b[0][0]              \n",
      "__________________________________________________________________________________________________\n",
      "res3c_branch2c (Conv2D)         (None, 28, 28, 512)  66048       activation_17[0][0]              \n",
      "__________________________________________________________________________________________________\n",
      "bn3c_branch2c (BatchNormalizati (None, 28, 28, 512)  2048        res3c_branch2c[0][0]             \n",
      "__________________________________________________________________________________________________\n",
      "add_5 (Add)                     (None, 28, 28, 512)  0           bn3c_branch2c[0][0]              \n",
      "                                                                 activation_15[0][0]              \n",
      "__________________________________________________________________________________________________\n",
      "activation_18 (Activation)      (None, 28, 28, 512)  0           add_5[0][0]                      \n",
      "__________________________________________________________________________________________________\n",
      "res3d_branch2a (Conv2D)         (None, 28, 28, 128)  65664       activation_18[0][0]              \n",
      "__________________________________________________________________________________________________\n",
      "bn3d_branch2a (BatchNormalizati (None, 28, 28, 128)  512         res3d_branch2a[0][0]             \n",
      "__________________________________________________________________________________________________\n",
      "activation_19 (Activation)      (None, 28, 28, 128)  0           bn3d_branch2a[0][0]              \n",
      "__________________________________________________________________________________________________\n",
      "res3d_branch2b (Conv2D)         (None, 28, 28, 128)  147584      activation_19[0][0]              \n",
      "__________________________________________________________________________________________________\n",
      "bn3d_branch2b (BatchNormalizati (None, 28, 28, 128)  512         res3d_branch2b[0][0]             \n",
      "__________________________________________________________________________________________________\n",
      "activation_20 (Activation)      (None, 28, 28, 128)  0           bn3d_branch2b[0][0]              \n",
      "__________________________________________________________________________________________________\n",
      "res3d_branch2c (Conv2D)         (None, 28, 28, 512)  66048       activation_20[0][0]              \n",
      "__________________________________________________________________________________________________\n",
      "bn3d_branch2c (BatchNormalizati (None, 28, 28, 512)  2048        res3d_branch2c[0][0]             \n",
      "__________________________________________________________________________________________________\n",
      "add_6 (Add)                     (None, 28, 28, 512)  0           bn3d_branch2c[0][0]              \n",
      "                                                                 activation_18[0][0]              \n",
      "__________________________________________________________________________________________________\n",
      "activation_21 (Activation)      (None, 28, 28, 512)  0           add_6[0][0]                      \n",
      "__________________________________________________________________________________________________\n",
      "res4a_branch2a (Conv2D)         (None, 14, 14, 256)  131328      activation_21[0][0]              \n",
      "__________________________________________________________________________________________________\n",
      "bn4a_branch2a (BatchNormalizati (None, 14, 14, 256)  1024        res4a_branch2a[0][0]             \n",
      "__________________________________________________________________________________________________\n",
      "activation_22 (Activation)      (None, 14, 14, 256)  0           bn4a_branch2a[0][0]              \n",
      "__________________________________________________________________________________________________\n",
      "res4a_branch2b (Conv2D)         (None, 14, 14, 256)  590080      activation_22[0][0]              \n",
      "__________________________________________________________________________________________________\n",
      "bn4a_branch2b (BatchNormalizati (None, 14, 14, 256)  1024        res4a_branch2b[0][0]             \n",
      "__________________________________________________________________________________________________\n",
      "activation_23 (Activation)      (None, 14, 14, 256)  0           bn4a_branch2b[0][0]              \n",
      "__________________________________________________________________________________________________\n",
      "res4a_branch2c (Conv2D)         (None, 14, 14, 1024) 263168      activation_23[0][0]              \n",
      "__________________________________________________________________________________________________\n",
      "res4a_branch1 (Conv2D)          (None, 14, 14, 1024) 525312      activation_21[0][0]              \n",
      "__________________________________________________________________________________________________\n",
      "bn4a_branch2c (BatchNormalizati (None, 14, 14, 1024) 4096        res4a_branch2c[0][0]             \n",
      "__________________________________________________________________________________________________\n",
      "bn4a_branch1 (BatchNormalizatio (None, 14, 14, 1024) 4096        res4a_branch1[0][0]              \n",
      "__________________________________________________________________________________________________\n",
      "add_7 (Add)                     (None, 14, 14, 1024) 0           bn4a_branch2c[0][0]              \n",
      "                                                                 bn4a_branch1[0][0]               \n",
      "__________________________________________________________________________________________________\n",
      "activation_24 (Activation)      (None, 14, 14, 1024) 0           add_7[0][0]                      \n",
      "__________________________________________________________________________________________________\n",
      "res4b_branch2a (Conv2D)         (None, 14, 14, 256)  262400      activation_24[0][0]              \n",
      "__________________________________________________________________________________________________\n",
      "bn4b_branch2a (BatchNormalizati (None, 14, 14, 256)  1024        res4b_branch2a[0][0]             \n",
      "__________________________________________________________________________________________________\n",
      "activation_25 (Activation)      (None, 14, 14, 256)  0           bn4b_branch2a[0][0]              \n",
      "__________________________________________________________________________________________________\n",
      "res4b_branch2b (Conv2D)         (None, 14, 14, 256)  590080      activation_25[0][0]              \n",
      "__________________________________________________________________________________________________\n",
      "bn4b_branch2b (BatchNormalizati (None, 14, 14, 256)  1024        res4b_branch2b[0][0]             \n",
      "__________________________________________________________________________________________________\n",
      "activation_26 (Activation)      (None, 14, 14, 256)  0           bn4b_branch2b[0][0]              \n",
      "__________________________________________________________________________________________________\n",
      "res4b_branch2c (Conv2D)         (None, 14, 14, 1024) 263168      activation_26[0][0]              \n",
      "__________________________________________________________________________________________________\n",
      "bn4b_branch2c (BatchNormalizati (None, 14, 14, 1024) 4096        res4b_branch2c[0][0]             \n",
      "__________________________________________________________________________________________________\n",
      "add_8 (Add)                     (None, 14, 14, 1024) 0           bn4b_branch2c[0][0]              \n",
      "                                                                 activation_24[0][0]              \n",
      "__________________________________________________________________________________________________\n",
      "activation_27 (Activation)      (None, 14, 14, 1024) 0           add_8[0][0]                      \n",
      "__________________________________________________________________________________________________\n",
      "res4c_branch2a (Conv2D)         (None, 14, 14, 256)  262400      activation_27[0][0]              \n",
      "__________________________________________________________________________________________________\n",
      "bn4c_branch2a (BatchNormalizati (None, 14, 14, 256)  1024        res4c_branch2a[0][0]             \n",
      "__________________________________________________________________________________________________\n",
      "activation_28 (Activation)      (None, 14, 14, 256)  0           bn4c_branch2a[0][0]              \n",
      "__________________________________________________________________________________________________\n",
      "res4c_branch2b (Conv2D)         (None, 14, 14, 256)  590080      activation_28[0][0]              \n",
      "__________________________________________________________________________________________________\n",
      "bn4c_branch2b (BatchNormalizati (None, 14, 14, 256)  1024        res4c_branch2b[0][0]             \n",
      "__________________________________________________________________________________________________\n",
      "activation_29 (Activation)      (None, 14, 14, 256)  0           bn4c_branch2b[0][0]              \n",
      "__________________________________________________________________________________________________\n",
      "res4c_branch2c (Conv2D)         (None, 14, 14, 1024) 263168      activation_29[0][0]              \n",
      "__________________________________________________________________________________________________\n",
      "bn4c_branch2c (BatchNormalizati (None, 14, 14, 1024) 4096        res4c_branch2c[0][0]             \n",
      "__________________________________________________________________________________________________\n",
      "add_9 (Add)                     (None, 14, 14, 1024) 0           bn4c_branch2c[0][0]              \n",
      "                                                                 activation_27[0][0]              \n",
      "__________________________________________________________________________________________________\n",
      "activation_30 (Activation)      (None, 14, 14, 1024) 0           add_9[0][0]                      \n",
      "__________________________________________________________________________________________________\n",
      "res4d_branch2a (Conv2D)         (None, 14, 14, 256)  262400      activation_30[0][0]              \n",
      "__________________________________________________________________________________________________\n",
      "bn4d_branch2a (BatchNormalizati (None, 14, 14, 256)  1024        res4d_branch2a[0][0]             \n",
      "__________________________________________________________________________________________________\n",
      "activation_31 (Activation)      (None, 14, 14, 256)  0           bn4d_branch2a[0][0]              \n",
      "__________________________________________________________________________________________________\n",
      "res4d_branch2b (Conv2D)         (None, 14, 14, 256)  590080      activation_31[0][0]              \n",
      "__________________________________________________________________________________________________\n",
      "bn4d_branch2b (BatchNormalizati (None, 14, 14, 256)  1024        res4d_branch2b[0][0]             \n",
      "__________________________________________________________________________________________________\n",
      "activation_32 (Activation)      (None, 14, 14, 256)  0           bn4d_branch2b[0][0]              \n",
      "__________________________________________________________________________________________________\n",
      "res4d_branch2c (Conv2D)         (None, 14, 14, 1024) 263168      activation_32[0][0]              \n",
      "__________________________________________________________________________________________________\n",
      "bn4d_branch2c (BatchNormalizati (None, 14, 14, 1024) 4096        res4d_branch2c[0][0]             \n",
      "__________________________________________________________________________________________________\n",
      "add_10 (Add)                    (None, 14, 14, 1024) 0           bn4d_branch2c[0][0]              \n",
      "                                                                 activation_30[0][0]              \n",
      "__________________________________________________________________________________________________\n",
      "activation_33 (Activation)      (None, 14, 14, 1024) 0           add_10[0][0]                     \n",
      "__________________________________________________________________________________________________\n",
      "res4e_branch2a (Conv2D)         (None, 14, 14, 256)  262400      activation_33[0][0]              \n",
      "__________________________________________________________________________________________________\n",
      "bn4e_branch2a (BatchNormalizati (None, 14, 14, 256)  1024        res4e_branch2a[0][0]             \n",
      "__________________________________________________________________________________________________\n",
      "activation_34 (Activation)      (None, 14, 14, 256)  0           bn4e_branch2a[0][0]              \n",
      "__________________________________________________________________________________________________\n",
      "res4e_branch2b (Conv2D)         (None, 14, 14, 256)  590080      activation_34[0][0]              \n",
      "__________________________________________________________________________________________________\n",
      "bn4e_branch2b (BatchNormalizati (None, 14, 14, 256)  1024        res4e_branch2b[0][0]             \n",
      "__________________________________________________________________________________________________\n",
      "activation_35 (Activation)      (None, 14, 14, 256)  0           bn4e_branch2b[0][0]              \n",
      "__________________________________________________________________________________________________\n",
      "res4e_branch2c (Conv2D)         (None, 14, 14, 1024) 263168      activation_35[0][0]              \n",
      "__________________________________________________________________________________________________\n",
      "bn4e_branch2c (BatchNormalizati (None, 14, 14, 1024) 4096        res4e_branch2c[0][0]             \n",
      "__________________________________________________________________________________________________\n",
      "add_11 (Add)                    (None, 14, 14, 1024) 0           bn4e_branch2c[0][0]              \n",
      "                                                                 activation_33[0][0]              \n",
      "__________________________________________________________________________________________________\n",
      "activation_36 (Activation)      (None, 14, 14, 1024) 0           add_11[0][0]                     \n",
      "__________________________________________________________________________________________________\n",
      "res4f_branch2a (Conv2D)         (None, 14, 14, 256)  262400      activation_36[0][0]              \n",
      "__________________________________________________________________________________________________\n",
      "bn4f_branch2a (BatchNormalizati (None, 14, 14, 256)  1024        res4f_branch2a[0][0]             \n",
      "__________________________________________________________________________________________________\n",
      "activation_37 (Activation)      (None, 14, 14, 256)  0           bn4f_branch2a[0][0]              \n",
      "__________________________________________________________________________________________________\n",
      "res4f_branch2b (Conv2D)         (None, 14, 14, 256)  590080      activation_37[0][0]              \n",
      "__________________________________________________________________________________________________\n",
      "bn4f_branch2b (BatchNormalizati (None, 14, 14, 256)  1024        res4f_branch2b[0][0]             \n",
      "__________________________________________________________________________________________________\n",
      "activation_38 (Activation)      (None, 14, 14, 256)  0           bn4f_branch2b[0][0]              \n",
      "__________________________________________________________________________________________________\n",
      "res4f_branch2c (Conv2D)         (None, 14, 14, 1024) 263168      activation_38[0][0]              \n",
      "__________________________________________________________________________________________________\n",
      "bn4f_branch2c (BatchNormalizati (None, 14, 14, 1024) 4096        res4f_branch2c[0][0]             \n",
      "__________________________________________________________________________________________________\n",
      "add_12 (Add)                    (None, 14, 14, 1024) 0           bn4f_branch2c[0][0]              \n",
      "                                                                 activation_36[0][0]              \n",
      "__________________________________________________________________________________________________\n",
      "activation_39 (Activation)      (None, 14, 14, 1024) 0           add_12[0][0]                     \n",
      "__________________________________________________________________________________________________\n",
      "res5a_branch2a (Conv2D)         (None, 7, 7, 512)    524800      activation_39[0][0]              \n",
      "__________________________________________________________________________________________________\n",
      "bn5a_branch2a (BatchNormalizati (None, 7, 7, 512)    2048        res5a_branch2a[0][0]             \n",
      "__________________________________________________________________________________________________\n",
      "activation_40 (Activation)      (None, 7, 7, 512)    0           bn5a_branch2a[0][0]              \n",
      "__________________________________________________________________________________________________\n",
      "res5a_branch2b (Conv2D)         (None, 7, 7, 512)    2359808     activation_40[0][0]              \n",
      "__________________________________________________________________________________________________\n",
      "bn5a_branch2b (BatchNormalizati (None, 7, 7, 512)    2048        res5a_branch2b[0][0]             \n",
      "__________________________________________________________________________________________________\n",
      "activation_41 (Activation)      (None, 7, 7, 512)    0           bn5a_branch2b[0][0]              \n",
      "__________________________________________________________________________________________________\n",
      "res5a_branch2c (Conv2D)         (None, 7, 7, 2048)   1050624     activation_41[0][0]              \n",
      "__________________________________________________________________________________________________\n",
      "res5a_branch1 (Conv2D)          (None, 7, 7, 2048)   2099200     activation_39[0][0]              \n",
      "__________________________________________________________________________________________________\n",
      "bn5a_branch2c (BatchNormalizati (None, 7, 7, 2048)   8192        res5a_branch2c[0][0]             \n",
      "__________________________________________________________________________________________________\n",
      "bn5a_branch1 (BatchNormalizatio (None, 7, 7, 2048)   8192        res5a_branch1[0][0]              \n",
      "__________________________________________________________________________________________________\n",
      "add_13 (Add)                    (None, 7, 7, 2048)   0           bn5a_branch2c[0][0]              \n",
      "                                                                 bn5a_branch1[0][0]               \n",
      "__________________________________________________________________________________________________\n",
      "activation_42 (Activation)      (None, 7, 7, 2048)   0           add_13[0][0]                     \n",
      "__________________________________________________________________________________________________\n",
      "res5b_branch2a (Conv2D)         (None, 7, 7, 512)    1049088     activation_42[0][0]              \n",
      "__________________________________________________________________________________________________\n",
      "bn5b_branch2a (BatchNormalizati (None, 7, 7, 512)    2048        res5b_branch2a[0][0]             \n",
      "__________________________________________________________________________________________________\n",
      "activation_43 (Activation)      (None, 7, 7, 512)    0           bn5b_branch2a[0][0]              \n",
      "__________________________________________________________________________________________________\n",
      "res5b_branch2b (Conv2D)         (None, 7, 7, 512)    2359808     activation_43[0][0]              \n",
      "__________________________________________________________________________________________________\n",
      "bn5b_branch2b (BatchNormalizati (None, 7, 7, 512)    2048        res5b_branch2b[0][0]             \n",
      "__________________________________________________________________________________________________\n",
      "activation_44 (Activation)      (None, 7, 7, 512)    0           bn5b_branch2b[0][0]              \n",
      "__________________________________________________________________________________________________\n",
      "res5b_branch2c (Conv2D)         (None, 7, 7, 2048)   1050624     activation_44[0][0]              \n",
      "__________________________________________________________________________________________________\n",
      "bn5b_branch2c (BatchNormalizati (None, 7, 7, 2048)   8192        res5b_branch2c[0][0]             \n",
      "__________________________________________________________________________________________________\n",
      "add_14 (Add)                    (None, 7, 7, 2048)   0           bn5b_branch2c[0][0]              \n",
      "                                                                 activation_42[0][0]              \n",
      "__________________________________________________________________________________________________\n",
      "activation_45 (Activation)      (None, 7, 7, 2048)   0           add_14[0][0]                     \n",
      "__________________________________________________________________________________________________\n",
      "res5c_branch2a (Conv2D)         (None, 7, 7, 512)    1049088     activation_45[0][0]              \n",
      "__________________________________________________________________________________________________\n",
      "bn5c_branch2a (BatchNormalizati (None, 7, 7, 512)    2048        res5c_branch2a[0][0]             \n",
      "__________________________________________________________________________________________________\n",
      "activation_46 (Activation)      (None, 7, 7, 512)    0           bn5c_branch2a[0][0]              \n",
      "__________________________________________________________________________________________________\n",
      "res5c_branch2b (Conv2D)         (None, 7, 7, 512)    2359808     activation_46[0][0]              \n",
      "__________________________________________________________________________________________________\n",
      "bn5c_branch2b (BatchNormalizati (None, 7, 7, 512)    2048        res5c_branch2b[0][0]             \n",
      "__________________________________________________________________________________________________\n",
      "activation_47 (Activation)      (None, 7, 7, 512)    0           bn5c_branch2b[0][0]              \n",
      "__________________________________________________________________________________________________\n",
      "res5c_branch2c (Conv2D)         (None, 7, 7, 2048)   1050624     activation_47[0][0]              \n",
      "__________________________________________________________________________________________________\n",
      "bn5c_branch2c (BatchNormalizati (None, 7, 7, 2048)   8192        res5c_branch2c[0][0]             \n",
      "__________________________________________________________________________________________________\n",
      "add_15 (Add)                    (None, 7, 7, 2048)   0           bn5c_branch2c[0][0]              \n",
      "                                                                 activation_45[0][0]              \n",
      "__________________________________________________________________________________________________\n",
      "activation_48 (Activation)      (None, 7, 7, 2048)   0           add_15[0][0]                     \n",
      "__________________________________________________________________________________________________\n",
      "average_pooling2d (AveragePooli (None, 4, 4, 2048)   0           activation_48[0][0]              \n",
      "==================================================================================================\n",
      "Total params: 23,587,712\n",
      "Trainable params: 23,534,592\n",
      "Non-trainable params: 53,120\n",
      "__________________________________________________________________________________________________\n"
     ]
    }
   ],
   "source": [
    "#model = build_model(IMG_SHAPE)\n",
    "model = Model(inputs=base_model.input, outputs=headModel)\n",
    "base_model.summary()"
   ]
  },
  {
   "cell_type": "code",
   "execution_count": 15,
   "metadata": {
    "id": "pNuUAa0aSbKx"
   },
   "outputs": [],
   "source": [
    "\n",
    "#model.compile(optimizer='adam', loss=tf.keras.losses.SparseCategoricalCrossentropy(), metrics=['accuracy'])\n",
    "\n",
    "model.compile(optimizer='adam', loss=tf.keras.losses.SparseCategoricalCrossentropy(), metrics=['accuracy'])\n",
    "\n",
    "\n",
    "\n",
    "\n"
   ]
  },
  {
   "cell_type": "code",
   "execution_count": 16,
   "metadata": {
    "id": "L5l16xuiSbKz",
    "outputId": "4212797f-322b-48a6-d213-dd0acb5c063b",
    "scrolled": true
   },
   "outputs": [
    {
     "name": "stdout",
     "output_type": "stream",
     "text": [
      "Epoch 1/100\n",
      "129/129 [==============================] - 721s 6s/step - loss: 9.3870 - accuracy: 0.3353 - val_loss: 1.2515 - val_accuracy: 0.3356\n",
      "Epoch 2/100\n",
      "129/129 [==============================] - 743s 6s/step - loss: 1.3065 - accuracy: 0.4278 - val_loss: 1.1186 - val_accuracy: 0.3265\n",
      "Epoch 3/100\n",
      "129/129 [==============================] - 771s 6s/step - loss: 0.5803 - accuracy: 0.7625 - val_loss: 0.4710 - val_accuracy: 0.7959\n",
      "Epoch 4/100\n",
      "129/129 [==============================] - 772s 6s/step - loss: 0.3088 - accuracy: 0.8880 - val_loss: 0.4127 - val_accuracy: 0.8526\n",
      "Epoch 5/100\n",
      "129/129 [==============================] - 771s 6s/step - loss: 0.2533 - accuracy: 0.9134 - val_loss: 0.4538 - val_accuracy: 0.8458\n",
      "Epoch 6/100\n",
      "129/129 [==============================] - 752s 6s/step - loss: 0.2337 - accuracy: 0.9105 - val_loss: 0.2971 - val_accuracy: 0.9070\n",
      "Epoch 7/100\n",
      "129/129 [==============================] - 724s 6s/step - loss: 0.2887 - accuracy: 0.8985 - val_loss: 0.3986 - val_accuracy: 0.8662\n",
      "Epoch 8/100\n",
      "129/129 [==============================] - 680s 5s/step - loss: 0.1809 - accuracy: 0.9362 - val_loss: 0.1931 - val_accuracy: 0.9274\n",
      "Epoch 9/100\n",
      "129/129 [==============================] - 698s 5s/step - loss: 0.1402 - accuracy: 0.9533 - val_loss: 0.2675 - val_accuracy: 0.9116\n",
      "Epoch 10/100\n",
      "129/129 [==============================] - 677s 5s/step - loss: 0.1532 - accuracy: 0.9414 - val_loss: 0.2471 - val_accuracy: 0.9206\n",
      "Epoch 11/100\n",
      "129/129 [==============================] - 669s 5s/step - loss: 0.1192 - accuracy: 0.9565 - val_loss: 0.2252 - val_accuracy: 0.9320\n",
      "Epoch 12/100\n",
      "129/129 [==============================] - 675s 5s/step - loss: 0.0841 - accuracy: 0.9719 - val_loss: 0.3204 - val_accuracy: 0.8798\n",
      "Epoch 13/100\n",
      "129/129 [==============================] - 720s 6s/step - loss: 0.1044 - accuracy: 0.9603 - val_loss: 0.1915 - val_accuracy: 0.9410\n",
      "Epoch 14/100\n",
      "129/129 [==============================] - 694s 5s/step - loss: 0.0586 - accuracy: 0.9825 - val_loss: 0.2929 - val_accuracy: 0.9093\n",
      "Epoch 15/100\n",
      "129/129 [==============================] - 636s 5s/step - loss: 0.0578 - accuracy: 0.9834 - val_loss: 0.2035 - val_accuracy: 0.9388\n",
      "Epoch 16/100\n",
      "129/129 [==============================] - 636s 5s/step - loss: 0.0559 - accuracy: 0.9814 - val_loss: 0.2608 - val_accuracy: 0.9116\n",
      "Epoch 17/100\n",
      "129/129 [==============================] - 739s 6s/step - loss: 0.0687 - accuracy: 0.9793 - val_loss: 0.2092 - val_accuracy: 0.9320\n",
      "Epoch 18/100\n",
      "129/129 [==============================] - 658s 5s/step - loss: 0.0807 - accuracy: 0.9739 - val_loss: 0.2158 - val_accuracy: 0.9184\n",
      "Epoch 19/100\n",
      "129/129 [==============================] - 655s 5s/step - loss: 0.0990 - accuracy: 0.9650 - val_loss: 0.1681 - val_accuracy: 0.9524\n",
      "Epoch 20/100\n",
      "129/129 [==============================] - 632s 5s/step - loss: 0.0310 - accuracy: 0.9909 - val_loss: 0.2416 - val_accuracy: 0.9342\n",
      "Epoch 21/100\n",
      "129/129 [==============================] - 639s 5s/step - loss: 0.0311 - accuracy: 0.9873 - val_loss: 0.4389 - val_accuracy: 0.9229\n",
      "Epoch 22/100\n",
      "129/129 [==============================] - 635s 5s/step - loss: 0.0697 - accuracy: 0.9777 - val_loss: 0.5538 - val_accuracy: 0.8163\n",
      "Epoch 23/100\n",
      "129/129 [==============================] - 636s 5s/step - loss: 0.2548 - accuracy: 0.9230 - val_loss: 0.3124 - val_accuracy: 0.9297\n",
      "Epoch 24/100\n",
      "129/129 [==============================] - 638s 5s/step - loss: 0.1140 - accuracy: 0.9634 - val_loss: 0.3407 - val_accuracy: 0.8934\n",
      "Epoch 25/100\n",
      "129/129 [==============================] - 635s 5s/step - loss: 0.0326 - accuracy: 0.9889 - val_loss: 0.1962 - val_accuracy: 0.9501\n",
      "Epoch 26/100\n",
      "129/129 [==============================] - 641s 5s/step - loss: 0.0251 - accuracy: 0.9864 - val_loss: 0.2316 - val_accuracy: 0.9592\n",
      "Epoch 27/100\n",
      "129/129 [==============================] - 676s 5s/step - loss: 0.0353 - accuracy: 0.9911 - val_loss: 0.2929 - val_accuracy: 0.9070\n",
      "Epoch 28/100\n",
      "129/129 [==============================] - 699s 5s/step - loss: 0.0280 - accuracy: 0.9934 - val_loss: 0.3126 - val_accuracy: 0.9320\n",
      "Epoch 29/100\n",
      "129/129 [==============================] - 729s 6s/step - loss: 0.0261 - accuracy: 0.9924 - val_loss: 0.2573 - val_accuracy: 0.9388\n",
      "Epoch 30/100\n",
      "129/129 [==============================] - 660s 5s/step - loss: 0.0384 - accuracy: 0.9864 - val_loss: 0.3152 - val_accuracy: 0.9252\n",
      "Epoch 31/100\n",
      "129/129 [==============================] - 634s 5s/step - loss: 0.0410 - accuracy: 0.9813 - val_loss: 0.3797 - val_accuracy: 0.9093\n",
      "Epoch 32/100\n",
      "129/129 [==============================] - 636s 5s/step - loss: 0.0322 - accuracy: 0.9911 - val_loss: 3.9904 - val_accuracy: 0.7642\n",
      "Epoch 33/100\n",
      "129/129 [==============================] - 659s 5s/step - loss: 0.0463 - accuracy: 0.9874 - val_loss: 0.3418 - val_accuracy: 0.9070\n",
      "Epoch 34/100\n",
      "129/129 [==============================] - 642s 5s/step - loss: 0.0405 - accuracy: 0.9855 - val_loss: 0.2993 - val_accuracy: 0.9388\n",
      "Epoch 35/100\n",
      "129/129 [==============================] - 674s 5s/step - loss: 0.0248 - accuracy: 0.9922 - val_loss: 0.1616 - val_accuracy: 0.9660\n",
      "Epoch 36/100\n",
      "129/129 [==============================] - 699s 5s/step - loss: 0.0143 - accuracy: 0.9955 - val_loss: 0.2029 - val_accuracy: 0.9478\n",
      "Epoch 37/100\n",
      "129/129 [==============================] - 668s 5s/step - loss: 0.0236 - accuracy: 0.9928 - val_loss: 0.8046 - val_accuracy: 0.7755\n",
      "Epoch 38/100\n",
      "129/129 [==============================] - 656s 5s/step - loss: 0.0692 - accuracy: 0.9715 - val_loss: 0.1590 - val_accuracy: 0.9524\n",
      "Epoch 39/100\n",
      "129/129 [==============================] - 676s 5s/step - loss: 0.0153 - accuracy: 0.9977 - val_loss: 0.1758 - val_accuracy: 0.9637\n",
      "Epoch 40/100\n",
      "129/129 [==============================] - 691s 5s/step - loss: 0.0180 - accuracy: 0.9935 - val_loss: 0.1812 - val_accuracy: 0.9569\n",
      "Epoch 41/100\n",
      "129/129 [==============================] - 656s 5s/step - loss: 0.0207 - accuracy: 0.9944 - val_loss: 0.3028 - val_accuracy: 0.9229\n",
      "Epoch 42/100\n",
      "129/129 [==============================] - 652s 5s/step - loss: 0.0201 - accuracy: 0.9924 - val_loss: 0.2953 - val_accuracy: 0.9184\n",
      "Epoch 43/100\n",
      "129/129 [==============================] - 655s 5s/step - loss: 0.0286 - accuracy: 0.9888 - val_loss: 1.2893 - val_accuracy: 0.7483\n",
      "Epoch 44/100\n",
      "129/129 [==============================] - 653s 5s/step - loss: 0.0210 - accuracy: 0.9929 - val_loss: 0.2458 - val_accuracy: 0.9433\n",
      "Epoch 45/100\n",
      "129/129 [==============================] - 652s 5s/step - loss: 0.0143 - accuracy: 0.9985 - val_loss: 0.3930 - val_accuracy: 0.9229\n",
      "Epoch 46/100\n",
      "129/129 [==============================] - 656s 5s/step - loss: 0.0689 - accuracy: 0.9750 - val_loss: 0.2022 - val_accuracy: 0.9569\n",
      "Epoch 47/100\n",
      "129/129 [==============================] - 653s 5s/step - loss: 0.0163 - accuracy: 0.9946 - val_loss: 0.2537 - val_accuracy: 0.9546\n",
      "Epoch 48/100\n",
      "129/129 [==============================] - 653s 5s/step - loss: 0.0066 - accuracy: 0.9977 - val_loss: 0.2094 - val_accuracy: 0.9592\n",
      "Epoch 49/100\n",
      "129/129 [==============================] - 654s 5s/step - loss: 0.0101 - accuracy: 0.9974 - val_loss: 0.3689 - val_accuracy: 0.9320\n",
      "Epoch 50/100\n",
      "129/129 [==============================] - 655s 5s/step - loss: 0.0245 - accuracy: 0.9897 - val_loss: 0.4774 - val_accuracy: 0.8367\n",
      "Epoch 51/100\n",
      "129/129 [==============================] - 652s 5s/step - loss: 0.0569 - accuracy: 0.9871 - val_loss: 0.3209 - val_accuracy: 0.9388\n",
      "Epoch 52/100\n",
      "129/129 [==============================] - 655s 5s/step - loss: 0.0398 - accuracy: 0.9886 - val_loss: 0.2957 - val_accuracy: 0.9297\n",
      "Epoch 53/100\n",
      "129/129 [==============================] - 650s 5s/step - loss: 0.0543 - accuracy: 0.9893 - val_loss: 0.2221 - val_accuracy: 0.9456\n",
      "Epoch 54/100\n",
      "129/129 [==============================] - 634s 5s/step - loss: 0.0452 - accuracy: 0.9819 - val_loss: 0.2514 - val_accuracy: 0.9456\n",
      "Epoch 55/100\n",
      "129/129 [==============================] - 650s 5s/step - loss: 0.0040 - accuracy: 0.9987 - val_loss: 0.3482 - val_accuracy: 0.9456\n",
      "Epoch 56/100\n",
      "129/129 [==============================] - 651s 5s/step - loss: 0.0300 - accuracy: 0.9887 - val_loss: 0.2193 - val_accuracy: 0.9546\n",
      "Epoch 57/100\n",
      "129/129 [==============================] - 646s 5s/step - loss: 0.0289 - accuracy: 0.9877 - val_loss: 0.2991 - val_accuracy: 0.9410\n",
      "Epoch 58/100\n",
      "129/129 [==============================] - 635s 5s/step - loss: 0.0342 - accuracy: 0.9914 - val_loss: 0.2184 - val_accuracy: 0.9456\n",
      "Epoch 59/100\n",
      "129/129 [==============================] - 634s 5s/step - loss: 0.0011 - accuracy: 1.0000 - val_loss: 0.2241 - val_accuracy: 0.9569\n",
      "Epoch 60/100\n",
      "129/129 [==============================] - 637s 5s/step - loss: 1.0429e-04 - accuracy: 1.0000 - val_loss: 0.2399 - val_accuracy: 0.9592\n",
      "Epoch 61/100\n",
      "129/129 [==============================] - 646s 5s/step - loss: 3.7345e-05 - accuracy: 1.0000 - val_loss: 0.2460 - val_accuracy: 0.9615\n",
      "Epoch 62/100\n",
      "129/129 [==============================] - 644s 5s/step - loss: 2.7868e-05 - accuracy: 1.0000 - val_loss: 0.2527 - val_accuracy: 0.9615\n",
      "Epoch 63/100\n",
      "129/129 [==============================] - 642s 5s/step - loss: 2.5841e-05 - accuracy: 1.0000 - val_loss: 0.2614 - val_accuracy: 0.9569\n",
      "Epoch 64/100\n",
      "129/129 [==============================] - 651s 5s/step - loss: 2.7114e-05 - accuracy: 1.0000 - val_loss: 0.2659 - val_accuracy: 0.9569\n",
      "Epoch 65/100\n",
      "129/129 [==============================] - 698s 5s/step - loss: 2.2982e-05 - accuracy: 1.0000 - val_loss: 0.2684 - val_accuracy: 0.9569\n",
      "Epoch 66/100\n",
      "129/129 [==============================] - 695s 5s/step - loss: 1.5023e-05 - accuracy: 1.0000 - val_loss: 0.2743 - val_accuracy: 0.9569\n",
      "Epoch 67/100\n",
      "129/129 [==============================] - 668s 5s/step - loss: 1.3982e-05 - accuracy: 1.0000 - val_loss: 0.2763 - val_accuracy: 0.9569\n",
      "Epoch 68/100\n",
      "129/129 [==============================] - 689s 5s/step - loss: 8.1078e-06 - accuracy: 1.0000 - val_loss: 0.2791 - val_accuracy: 0.9569\n",
      "Epoch 69/100\n",
      "129/129 [==============================] - 685s 5s/step - loss: 1.0789e-05 - accuracy: 1.0000 - val_loss: 0.2808 - val_accuracy: 0.9569\n",
      "Epoch 70/100\n",
      "129/129 [==============================] - 640s 5s/step - loss: 7.3412e-06 - accuracy: 1.0000 - val_loss: 0.2843 - val_accuracy: 0.9569\n",
      "Epoch 71/100\n",
      "129/129 [==============================] - 635s 5s/step - loss: 4.6476e-06 - accuracy: 1.0000 - val_loss: 0.2870 - val_accuracy: 0.9569\n",
      "Epoch 72/100\n",
      "129/129 [==============================] - 644s 5s/step - loss: 1.1917e-05 - accuracy: 1.0000 - val_loss: 0.2853 - val_accuracy: 0.9592\n",
      "Epoch 73/100\n",
      "129/129 [==============================] - 644s 5s/step - loss: 8.5579e-06 - accuracy: 1.0000 - val_loss: 0.2896 - val_accuracy: 0.9615\n",
      "Epoch 74/100\n",
      "129/129 [==============================] - 670s 5s/step - loss: 5.4827e-06 - accuracy: 1.0000 - val_loss: 0.2934 - val_accuracy: 0.9592\n",
      "Epoch 75/100\n",
      "129/129 [==============================] - 649s 5s/step - loss: 7.2526e-06 - accuracy: 1.0000 - val_loss: 0.2956 - val_accuracy: 0.9592\n",
      "Epoch 76/100\n",
      "129/129 [==============================] - 641s 5s/step - loss: 4.5602e-06 - accuracy: 1.0000 - val_loss: 0.2995 - val_accuracy: 0.9592\n",
      "Epoch 77/100\n",
      "129/129 [==============================] - 640s 5s/step - loss: 3.5649e-06 - accuracy: 1.0000 - val_loss: 0.3020 - val_accuracy: 0.9592\n",
      "Epoch 78/100\n",
      "129/129 [==============================] - 644s 5s/step - loss: 4.0604e-06 - accuracy: 1.0000 - val_loss: 0.3030 - val_accuracy: 0.9592\n",
      "Epoch 79/100\n",
      "129/129 [==============================] - 648s 5s/step - loss: 3.6487e-06 - accuracy: 1.0000 - val_loss: 0.3055 - val_accuracy: 0.9592\n",
      "Epoch 80/100\n",
      "129/129 [==============================] - 658s 5s/step - loss: 2.2197e-06 - accuracy: 1.0000 - val_loss: 0.3076 - val_accuracy: 0.9592\n",
      "Epoch 81/100\n",
      "129/129 [==============================] - 639s 5s/step - loss: 2.6993e-06 - accuracy: 1.0000 - val_loss: 0.3088 - val_accuracy: 0.9592\n",
      "Epoch 82/100\n",
      "129/129 [==============================] - 646s 5s/step - loss: 1.8142e-06 - accuracy: 1.0000 - val_loss: 0.3113 - val_accuracy: 0.9592\n",
      "Epoch 83/100\n",
      "129/129 [==============================] - 647s 5s/step - loss: 1.7682e-06 - accuracy: 1.0000 - val_loss: 0.3123 - val_accuracy: 0.9592\n",
      "Epoch 84/100\n",
      "129/129 [==============================] - 686s 5s/step - loss: 1.5410e-06 - accuracy: 1.0000 - val_loss: 0.3137 - val_accuracy: 0.9592\n",
      "Epoch 85/100\n",
      "129/129 [==============================] - 686s 5s/step - loss: 2.7574e-06 - accuracy: 1.0000 - val_loss: 0.3162 - val_accuracy: 0.9592\n",
      "Epoch 86/100\n",
      "129/129 [==============================] - 659s 5s/step - loss: 1.1091e-06 - accuracy: 1.0000 - val_loss: 0.3189 - val_accuracy: 0.9592\n",
      "Epoch 87/100\n",
      "129/129 [==============================] - 655s 5s/step - loss: 1.3736e-06 - accuracy: 1.0000 - val_loss: 0.3213 - val_accuracy: 0.9569\n",
      "Epoch 88/100\n",
      "129/129 [==============================] - 654s 5s/step - loss: 3.0017e-06 - accuracy: 1.0000 - val_loss: 0.3243 - val_accuracy: 0.9592\n",
      "Epoch 89/100\n",
      "129/129 [==============================] - 653s 5s/step - loss: 7.5333e-07 - accuracy: 1.0000 - val_loss: 0.3271 - val_accuracy: 0.9592\n",
      "Epoch 90/100\n",
      "129/129 [==============================] - 648s 5s/step - loss: 1.3451e-06 - accuracy: 1.0000 - val_loss: 0.3285 - val_accuracy: 0.9592\n",
      "Epoch 91/100\n",
      "129/129 [==============================] - 664s 5s/step - loss: 8.7498e-07 - accuracy: 1.0000 - val_loss: 0.3314 - val_accuracy: 0.9592\n",
      "Epoch 92/100\n",
      "129/129 [==============================] - 777s 6s/step - loss: 1.0526e-06 - accuracy: 1.0000 - val_loss: 0.3331 - val_accuracy: 0.9592\n",
      "Epoch 93/100\n",
      "129/129 [==============================] - 776s 6s/step - loss: 1.1610e-06 - accuracy: 1.0000 - val_loss: 0.3329 - val_accuracy: 0.9592\n",
      "Epoch 94/100\n",
      "129/129 [==============================] - 774s 6s/step - loss: 1.0290e-06 - accuracy: 1.0000 - val_loss: 0.3356 - val_accuracy: 0.9569\n",
      "Epoch 95/100\n",
      "129/129 [==============================] - 773s 6s/step - loss: 7.8397e-07 - accuracy: 1.0000 - val_loss: 0.3367 - val_accuracy: 0.9569\n",
      "Epoch 96/100\n",
      "129/129 [==============================] - 737s 6s/step - loss: 5.9124e-07 - accuracy: 1.0000 - val_loss: 0.3398 - val_accuracy: 0.9569\n",
      "Epoch 97/100\n",
      "129/129 [==============================] - 655s 5s/step - loss: 6.0451e-07 - accuracy: 1.0000 - val_loss: 0.3408 - val_accuracy: 0.9569\n",
      "Epoch 98/100\n",
      "129/129 [==============================] - 733s 6s/step - loss: 1.2843e-06 - accuracy: 1.0000 - val_loss: 0.3423 - val_accuracy: 0.9569\n",
      "Epoch 99/100\n",
      "129/129 [==============================] - 772s 6s/step - loss: 4.8959e-07 - accuracy: 1.0000 - val_loss: 0.3447 - val_accuracy: 0.9569\n",
      "Epoch 100/100\n",
      "129/129 [==============================] - 771s 6s/step - loss: 3.9064e-07 - accuracy: 1.0000 - val_loss: 0.3460 - val_accuracy: 0.9569\n",
      "Elapsed time: 18:42:46.8\n"
     ]
    }
   ],
   "source": [
    "start_time = time.time()\n",
    "\n",
    "model.fit(x=X_train, y=y_train, batch_size=16, epochs=100, validation_data=(X_val, y_val))\n",
    "\n",
    "end_time = time.time()\n",
    "execution_time = (end_time - start_time)\n",
    "print(f\"Elapsed time: {hms_string(execution_time)}\")\n"
   ]
  },
  {
   "cell_type": "code",
   "execution_count": 17,
   "metadata": {
    "id": "8pbmQ1_kSbK5"
   },
   "outputs": [],
   "source": [
    "history = model.history.history"
   ]
  },
  {
   "cell_type": "code",
   "execution_count": 18,
   "metadata": {
    "id": "xUDk5950SbK5",
    "outputId": "a0481d8b-5803-4d64-b868-1a12b231136c"
   },
   "outputs": [
    {
     "name": "stdout",
     "output_type": "stream",
     "text": [
      "loss\n",
      "accuracy\n",
      "val_loss\n",
      "val_accuracy\n"
     ]
    }
   ],
   "source": [
    "for key in history.keys():\n",
    "    print(key)"
   ]
  },
  {
   "cell_type": "code",
   "execution_count": 19,
   "metadata": {
    "id": "7zQGlzFjSbK6"
   },
   "outputs": [],
   "source": [
    "def plot_metrics(history):\n",
    "    \n",
    "    train_loss = history['loss']\n",
    "    val_loss = history['val_loss']\n",
    "    train_acc = history['accuracy']\n",
    "    val_accuracy = history['val_accuracy']\n",
    "    \n",
    "    # Loss\n",
    "    plt.figure()\n",
    "    plt.plot(train_loss, label='Training Loss')\n",
    "    plt.plot(val_loss, label='Validation Loss')\n",
    "    plt.title('Loss')\n",
    "    plt.legend()\n",
    "    plt.show()\n",
    "    \n",
    "    # Accuracy\n",
    "    plt.figure()\n",
    "    plt.plot(train_acc, label='Training Accuracy')\n",
    "    plt.plot(val_accuracy, label='Validation Accuracy')\n",
    "    plt.title('Accuracy')\n",
    "    plt.legend()\n",
    "    plt.show()\n"
   ]
  },
  {
   "cell_type": "code",
   "execution_count": 20,
   "metadata": {},
   "outputs": [
    {
     "data": {
      "image/png": "[encoded data removed]",
      "text/plain": [
       "<Figure size 432x288 with 1 Axes>"
      ]
     },
     "metadata": {
      "needs_background": "light"
     },
     "output_type": "display_data"
    },
    {
     "data": {
      "image/png": "[encoded data removed]",
      "text/plain": [
       "<Figure size 432x288 with 1 Axes>"
      ]
     },
     "metadata": {
      "needs_background": "light"
     },
     "output_type": "display_data"
    }
   ],
   "source": [
    "plot_metrics(history)"
   ]
  },
  {
   "cell_type": "code",
   "execution_count": 21,
   "metadata": {
    "id": "jd_Pd_thSbK7",
    "outputId": "32735d82-2bd7-40df-914d-0aa57e709abd"
   },
   "outputs": [
    {
     "name": "stdout",
     "output_type": "stream",
     "text": [
      "14/14 [==============================] - 22s 2s/step - loss: 0.3490 - accuracy: 0.9614\n"
     ]
    }
   ],
   "source": [
    "loss, acc = model.evaluate(x=X_test, y=y_test)"
   ]
  },
  {
   "cell_type": "code",
   "execution_count": 23,
   "metadata": {
    "id": "stDYzqIuSbK8",
    "outputId": "a812f580-bcde-4f38-d958-cb813cb6896d"
   },
   "outputs": [
    {
     "name": "stdout",
     "output_type": "stream",
     "text": [
      "Loss = 34.90159809589386\n",
      "Accuracy= 96.13636136054993\n"
     ]
    }
   ],
   "source": [
    "print (f\"Loss = {loss*100}\")\n",
    "print (f\"Accuracy= {acc*100}\")\n"
   ]
  },
  {
   "cell_type": "code",
   "execution_count": 24,
   "metadata": {
    "id": "TrzFa6k-SbK8",
    "outputId": "d5c086b4-c107-471b-dc49-169878df8c8a"
   },
   "outputs": [
    {
     "name": "stdout",
     "output_type": "stream",
     "text": [
      "14/14 [==============================] - 20s 1s/step - loss: 0.3460 - accuracy: 0.9569\n"
     ]
    }
   ],
   "source": [
    "loss, acc = model.evaluate(x=X_val, y=y_val)"
   ]
  },
  {
   "cell_type": "code",
   "execution_count": 25,
   "metadata": {
    "id": "azEvFUcnSbK_"
   },
   "outputs": [
    {
     "name": "stdout",
     "output_type": "stream",
     "text": [
      "Loss = 34.601858258247375\n",
      "Accuracy= 95.6916093826294\n"
     ]
    }
   ],
   "source": [
    "print (f\"Loss = {loss*100}\")\n",
    "print (f\"Accuracy= {acc*100}\")"
   ]
  },
  {
   "cell_type": "code",
   "execution_count": 26,
   "metadata": {},
   "outputs": [
    {
     "data": {
      "text/html": [
       "\n",
       "      <iframe id=\"tensorboard-frame-7c4e4ef58553a26\" width=\"100%\" height=\"800\" frameborder=\"0\">\n",
       "      </iframe>\n",
       "      <script>\n",
       "        (function() {\n",
       "          const frame = document.getElementById(\"tensorboard-frame-7c4e4ef58553a26\");\n",
       "          const url = new URL(\"/\", window.location);\n",
       "          const port = 6006;\n",
       "          if (port) {\n",
       "            url.port = port;\n",
       "          }\n",
       "          frame.src = url;\n",
       "        })();\n",
       "      </script>\n",
       "    "
      ],
      "text/plain": [
       "<IPython.core.display.HTML object>"
      ]
     },
     "metadata": {},
     "output_type": "display_data"
    }
   ],
   "source": [
    "# Look at training curves in tensorboard:\n",
    "%load_ext tensorboard\n",
    "%tensorboard --logdir output"
   ]
  },
  {
   "cell_type": "code",
   "execution_count": null,
   "metadata": {},
   "outputs": [],
   "source": []
  }
 ],
 "metadata": {
  "colab": {
   "name": "ishsys2.ipynb",
   "provenance": []
  },
  "kernelspec": {
   "display_name": "Python 3 (ipykernel)",
   "language": "python",
   "name": "python3"
  },
  "language_info": {
   "codemirror_mode": {
    "name": "ipython",
    "version": 3
   },
   "file_extension": ".py",
   "mimetype": "text/x-python",
   "name": "python",
   "nbconvert_exporter": "python",
   "pygments_lexer": "ipython3",
   "version": "3.9.7"
  }
 },
 "nbformat": 4,
 "nbformat_minor": 1
}
