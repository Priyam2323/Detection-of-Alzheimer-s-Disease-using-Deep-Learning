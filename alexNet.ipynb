{
 "cells": [
  {
   "cell_type": "code",
   "execution_count": 1,
   "metadata": {
    "executionInfo": {
     "elapsed": 3500,
     "status": "ok",
     "timestamp": 1626252737157,
     "user": {
      "displayName": "Priyam Pandey",
      "photoUrl": "https://lh3.googleusercontent.com/a-/AOh14GjTJi5elTyhTMGu6Y4LrcNUlSOxugpt7J0xwKjX6w=s64",
      "userId": "14279260669392728533"
     },
     "user_tz": -330
    },
    "id": "ou8qnKl_SbKW"
   },
   "outputs": [],
   "source": [
    "import tensorflow as tf\n",
    "from tensorflow.keras.layers import Conv2D, Input, ZeroPadding2D, BatchNormalization, Activation, MaxPooling2D, Flatten, Dense\n",
    "from tensorflow.keras.models import Model, load_model\n",
    "from tensorflow.keras.callbacks import TensorBoard, ModelCheckpoint\n",
    "from sklearn.model_selection import train_test_split\n",
    "from sklearn.metrics import f1_score\n",
    "from sklearn.utils import shuffle\n",
    "import cv2\n",
    "import imutils\n",
    "import numpy as np\n",
    "import matplotlib.pyplot as plt\n",
    "import time\n",
    "from os import listdir\n",
    "from pathlib import Path \n",
    "\n",
    "%matplotlib inline\n"
   ]
  },
  {
   "cell_type": "code",
   "execution_count": 4,
   "metadata": {
    "executionInfo": {
     "elapsed": 417,
     "status": "ok",
     "timestamp": 1626253082543,
     "user": {
      "displayName": "Priyam Pandey",
      "photoUrl": "https://lh3.googleusercontent.com/a-/AOh14GjTJi5elTyhTMGu6Y4LrcNUlSOxugpt7J0xwKjX6w=s64",
      "userId": "14279260669392728533"
     },
     "user_tz": -330
    },
    "id": "h6IwoH5ITBS5"
   },
   "outputs": [],
   "source": [
    "import os\n",
    "os.chdir(\"/content/gdrive/My Drive/dataset_adni/augmented_data\")"
   ]
  },
  {
   "cell_type": "code",
   "execution_count": null,
   "metadata": {
    "id": "l6Ah54WpSbKh",
    "outputId": "19fc3fe8-c6a5-498c-9043-60d2e72581f0"
   },
   "outputs": [
    {
     "name": "stdout",
     "output_type": "stream",
     "text": [
      "Requirement already satisfied: tensorflow in c:\\users\\ishan\\anaconda3\\lib\\site-packages (2.4.1)\n",
      "Requirement already satisfied: keras-preprocessing~=1.1.2 in c:\\users\\ishan\\anaconda3\\lib\\site-packages (from tensorflow) (1.1.2)\n",
      "Requirement already satisfied: termcolor~=1.1.0 in c:\\users\\ishan\\anaconda3\\lib\\site-packages (from tensorflow) (1.1.0)\n",
      "Requirement already satisfied: h5py~=2.10.0 in c:\\users\\ishan\\anaconda3\\lib\\site-packages (from tensorflow) (2.10.0)\n",
      "Requirement already satisfied: protobuf>=3.9.2 in c:\\users\\ishan\\anaconda3\\lib\\site-packages (from tensorflow) (3.16.0)\n",
      "Requirement already satisfied: grpcio~=1.32.0 in c:\\users\\ishan\\anaconda3\\lib\\site-packages (from tensorflow) (1.32.0)\n",
      "Requirement already satisfied: flatbuffers~=1.12.0 in c:\\users\\ishan\\anaconda3\\lib\\site-packages (from tensorflow) (1.12)\n",
      "Requirement already satisfied: tensorboard~=2.4 in c:\\users\\ishan\\anaconda3\\lib\\site-packages (from tensorflow) (2.5.0)\n",
      "Requirement already satisfied: opt-einsum~=3.3.0 in c:\\users\\ishan\\anaconda3\\lib\\site-packages (from tensorflow) (3.3.0)\n",
      "Requirement already satisfied: typing-extensions~=3.7.4 in c:\\users\\ishan\\anaconda3\\lib\\site-packages (from tensorflow) (3.7.4.3)\n",
      "Requirement already satisfied: wheel~=0.35 in c:\\users\\ishan\\anaconda3\\lib\\site-packages (from tensorflow) (0.35.1)\n",
      "Requirement already satisfied: wrapt~=1.12.1 in c:\\users\\ishan\\anaconda3\\lib\\site-packages (from tensorflow) (1.12.1)\n",
      "Requirement already satisfied: google-pasta~=0.2 in c:\\users\\ishan\\anaconda3\\lib\\site-packages (from tensorflow) (0.2.0)\n",
      "Requirement already satisfied: gast==0.3.3 in c:\\users\\ishan\\anaconda3\\lib\\site-packages (from tensorflow) (0.3.3)\n",
      "Requirement already satisfied: absl-py~=0.10 in c:\\users\\ishan\\anaconda3\\lib\\site-packages (from tensorflow) (0.12.0)\n",
      "Requirement already satisfied: tensorflow-estimator<2.5.0,>=2.4.0 in c:\\users\\ishan\\anaconda3\\lib\\site-packages (from tensorflow) (2.4.0)\n",
      "Requirement already satisfied: six~=1.15.0 in c:\\users\\ishan\\anaconda3\\lib\\site-packages (from tensorflow) (1.15.0)\n",
      "Requirement already satisfied: astunparse~=1.6.3 in c:\\users\\ishan\\anaconda3\\lib\\site-packages (from tensorflow) (1.6.3)\n",
      "Requirement already satisfied: numpy~=1.19.2 in c:\\users\\ishan\\anaconda3\\lib\\site-packages (from tensorflow) (1.19.2)\n",
      "Requirement already satisfied: requests<3,>=2.21.0 in c:\\users\\ishan\\anaconda3\\lib\\site-packages (from tensorboard~=2.4->tensorflow) (2.24.0)\n",
      "Requirement already satisfied: google-auth<2,>=1.6.3 in c:\\users\\ishan\\anaconda3\\lib\\site-packages (from tensorboard~=2.4->tensorflow) (1.30.0)\n",
      "Requirement already satisfied: setuptools>=41.0.0 in c:\\users\\ishan\\anaconda3\\lib\\site-packages (from tensorboard~=2.4->tensorflow) (50.3.1.post20201107)\n",
      "Requirement already satisfied: werkzeug>=0.11.15 in c:\\users\\ishan\\anaconda3\\lib\\site-packages (from tensorboard~=2.4->tensorflow) (1.0.1)\n",
      "Requirement already satisfied: google-auth-oauthlib<0.5,>=0.4.1 in c:\\users\\ishan\\anaconda3\\lib\\site-packages (from tensorboard~=2.4->tensorflow) (0.4.4)\n",
      "Requirement already satisfied: tensorboard-data-server<0.7.0,>=0.6.0 in c:\\users\\ishan\\anaconda3\\lib\\site-packages (from tensorboard~=2.4->tensorflow) (0.6.1)\n",
      "Requirement already satisfied: markdown>=2.6.8 in c:\\users\\ishan\\anaconda3\\lib\\site-packages (from tensorboard~=2.4->tensorflow) (3.3.4)\n",
      "Requirement already satisfied: tensorboard-plugin-wit>=1.6.0 in c:\\users\\ishan\\anaconda3\\lib\\site-packages (from tensorboard~=2.4->tensorflow) (1.8.0)\n",
      "Requirement already satisfied: urllib3!=1.25.0,!=1.25.1,<1.26,>=1.21.1 in c:\\users\\ishan\\anaconda3\\lib\\site-packages (from requests<3,>=2.21.0->tensorboard~=2.4->tensorflow) (1.25.11)\n",
      "Requirement already satisfied: certifi>=2017.4.17 in c:\\users\\ishan\\anaconda3\\lib\\site-packages (from requests<3,>=2.21.0->tensorboard~=2.4->tensorflow) (2020.6.20)\n",
      "Requirement already satisfied: chardet<4,>=3.0.2 in c:\\users\\ishan\\anaconda3\\lib\\site-packages (from requests<3,>=2.21.0->tensorboard~=2.4->tensorflow) (3.0.4)\n",
      "Requirement already satisfied: idna<3,>=2.5 in c:\\users\\ishan\\anaconda3\\lib\\site-packages (from requests<3,>=2.21.0->tensorboard~=2.4->tensorflow) (2.10)\n",
      "Requirement already satisfied: rsa<5,>=3.1.4; python_version >= \"3.6\" in c:\\users\\ishan\\anaconda3\\lib\\site-packages (from google-auth<2,>=1.6.3->tensorboard~=2.4->tensorflow) (4.7.2)\n",
      "Requirement already satisfied: pyasn1-modules>=0.2.1 in c:\\users\\ishan\\anaconda3\\lib\\site-packages (from google-auth<2,>=1.6.3->tensorboard~=2.4->tensorflow) (0.2.8)\n",
      "Requirement already satisfied: cachetools<5.0,>=2.0.0 in c:\\users\\ishan\\anaconda3\\lib\\site-packages (from google-auth<2,>=1.6.3->tensorboard~=2.4->tensorflow) (4.2.2)\n",
      "Requirement already satisfied: requests-oauthlib>=0.7.0 in c:\\users\\ishan\\anaconda3\\lib\\site-packages (from google-auth-oauthlib<0.5,>=0.4.1->tensorboard~=2.4->tensorflow) (1.3.0)\n",
      "Requirement already satisfied: pyasn1>=0.1.3 in c:\\users\\ishan\\anaconda3\\lib\\site-packages (from rsa<5,>=3.1.4; python_version >= \"3.6\"->google-auth<2,>=1.6.3->tensorboard~=2.4->tensorflow) (0.4.8)\n",
      "Requirement already satisfied: oauthlib>=3.0.0 in c:\\users\\ishan\\anaconda3\\lib\\site-packages (from requests-oauthlib>=0.7.0->google-auth-oauthlib<0.5,>=0.4.1->tensorboard~=2.4->tensorflow) (3.1.0)\n",
      "Note: you may need to restart the kernel to use updated packages.\n"
     ]
    }
   ],
   "source": [
    "pip install tensorflow\n"
   ]
  },
  {
   "cell_type": "code",
   "execution_count": 1,
   "metadata": {
    "id": "uFCTkCL8SbKi"
   },
   "outputs": [],
   "source": [
    "import tensorflow as tf\n",
    "from tensorflow.keras.layers import Conv2D, Input, ZeroPadding2D, BatchNormalization, Activation, MaxPooling2D, Flatten, Dense\n",
    "from tensorflow.keras.models import Model, load_model\n",
    "from tensorflow.keras.callbacks import TensorBoard, ModelCheckpoint\n",
    "from sklearn.model_selection import train_test_split\n",
    "from sklearn.metrics import f1_score\n",
    "from sklearn.utils import shuffle\n",
    "import cv2\n",
    "import imutils\n",
    "import numpy as np\n",
    "import matplotlib.pyplot as plt\n",
    "import time\n",
    "from os import listdir\n",
    "from pathlib import Path \n",
    "\n",
    "%matplotlib inline\n"
   ]
  },
  {
   "cell_type": "code",
   "execution_count": 11,
   "metadata": {
    "colab": {
     "base_uri": "https://localhost:8080/"
    },
    "executionInfo": {
     "elapsed": 7132,
     "status": "ok",
     "timestamp": 1626254559508,
     "user": {
      "displayName": "Priyam Pandey",
      "photoUrl": "https://lh3.googleusercontent.com/a-/AOh14GjTJi5elTyhTMGu6Y4LrcNUlSOxugpt7J0xwKjX6w=s64",
      "userId": "14279260669392728533"
     },
     "user_tz": -330
    },
    "id": "JQ_7yaCgSbKj",
    "outputId": "6617ef0e-b616-4c5a-8bd1-e73cb03a0bd7"
   },
   "outputs": [
    {
     "name": "stdout",
     "output_type": "stream",
     "text": [
      "Collecting keras.utils\n",
      "  Downloading https://files.pythonhosted.org/packages/31/a2/8be2aee1c8cd388e83d447556c2c84a396944c8bad93d710c5e757f8e98e/keras-utils-1.0.13.tar.gz\n",
      "Requirement already satisfied: Keras>=2.1.5 in /usr/local/lib/python3.7/dist-packages (from keras.utils) (2.4.3)\n",
      "Requirement already satisfied: numpy>=1.9.1 in /usr/local/lib/python3.7/dist-packages (from Keras>=2.1.5->keras.utils) (1.19.5)\n",
      "Requirement already satisfied: pyyaml in /usr/local/lib/python3.7/dist-packages (from Keras>=2.1.5->keras.utils) (3.13)\n",
      "Requirement already satisfied: scipy>=0.14 in /usr/local/lib/python3.7/dist-packages (from Keras>=2.1.5->keras.utils) (1.4.1)\n",
      "Requirement already satisfied: h5py in /usr/local/lib/python3.7/dist-packages (from Keras>=2.1.5->keras.utils) (3.1.0)\n",
      "Requirement already satisfied: cached-property; python_version < \"3.8\" in /usr/local/lib/python3.7/dist-packages (from h5py->Keras>=2.1.5->keras.utils) (1.5.2)\n",
      "Building wheels for collected packages: keras.utils\n",
      "  Building wheel for keras.utils (setup.py) ... \u001b[?25l\u001b[?25hdone\n",
      "  Created wheel for keras.utils: filename=keras_utils-1.0.13-cp37-none-any.whl size=2657 sha256=308963acb974e87f000101323df3739d07511d3b11145efc8f7f5d6bff4f9a37\n",
      "  Stored in directory: /root/.cache/pip/wheels/46/25/27/7707005c1cb27e1ffc8277b004ac295e34767b02b44d73d6be\n",
      "Successfully built keras.utils\n",
      "Installing collected packages: keras.utils\n",
      "Successfully installed keras.utils\n"
     ]
    }
   ],
   "source": [
    "pip install keras.utils"
   ]
  },
  {
   "cell_type": "code",
   "execution_count": 2,
   "metadata": {
    "executionInfo": {
     "elapsed": 402,
     "status": "ok",
     "timestamp": 1626253095354,
     "user": {
      "displayName": "Priyam Pandey",
      "photoUrl": "https://lh3.googleusercontent.com/a-/AOh14GjTJi5elTyhTMGu6Y4LrcNUlSOxugpt7J0xwKjX6w=s64",
      "userId": "14279260669392728533"
     },
     "user_tz": -330
    },
    "id": "hUJAl6RKSbKn"
   },
   "outputs": [],
   "source": [
    "def load_data(dir_list):\n",
    "    \"\"\"\n",
    "    Read images, resize and normalize them. \n",
    "    \"\"\"\n",
    "    # load all images in a directory\n",
    "    X = []\n",
    "    y = []\n",
    "    #image_width, image_height = image_size\n",
    "    \n",
    "    for directory in dir_list:\n",
    "        for filename in listdir(directory): \n",
    "            # load the image\n",
    "            image = cv2.imread(directory+'//'+filename)\n",
    "            # crop the brain and ignore the unnecessary rest part of the image\n",
    "            #image = crop_brain_contour(image, plot=False)\n",
    "            # resize image\n",
    "            #image = cv2.resize(image, dsize=(image_width, image_height), interpolation=cv2.INTER_CUBIC)\n",
    "            # normalize values\n",
    "            image = image / 255.\n",
    "            # convert image to numpy array and append it to X\n",
    "            X.append(image)\n",
    "            # append a value of 1 to the target array if the image\n",
    "            # is in the folder named 'yes', otherwise append 0.\n",
    "            if directory[-7:] == 'AD_crop':#directory[-6:]\n",
    "                y.append([2])\n",
    "            elif directory[-7:] =='MI_crop':\n",
    "                y.append([1])\n",
    "            else:\n",
    "                y.append([3])\n",
    "                \n",
    "    X = np.array(X)\n",
    "    y = np.array(y)\n",
    "    \n",
    "    # Shuffle the data\n",
    "    X, y = shuffle(X, y)\n",
    "    \n",
    "    print(f'Number of examples is: {len(X)}')\n",
    "    print(f'X shape is: {X.shape}')\n",
    "    print(f'y shape is: {y.shape}')\n",
    "    \n",
    "    return X, y\n"
   ]
  },
  {
   "cell_type": "code",
   "execution_count": 3,
   "metadata": {
    "colab": {
     "base_uri": "https://localhost:8080/"
    },
    "executionInfo": {
     "elapsed": 823447,
     "status": "ok",
     "timestamp": 1626253925975,
     "user": {
      "displayName": "Priyam Pandey",
      "photoUrl": "https://lh3.googleusercontent.com/a-/AOh14GjTJi5elTyhTMGu6Y4LrcNUlSOxugpt7J0xwKjX6w=s64",
      "userId": "14279260669392728533"
     },
     "user_tz": -330
    },
    "id": "5XR2KnulSbKo",
    "outputId": "66a8c35f-2aec-42de-e18b-faab90605e05"
   },
   "outputs": [
    {
     "name": "stdout",
     "output_type": "stream",
     "text": [
      "Number of examples is: 2934\n",
      "X shape is: (2934, 224, 224, 3)\n",
      "y shape is: (2934, 1)\n"
     ]
    }
   ],
   "source": [
    "#IMG_WIDTH, IMG_HEIGHT = (240, 240)\n",
    "\n",
    "X, y = load_data(['MI_crop','CN_crop','AD_crop'])\n"
   ]
  },
  {
   "cell_type": "code",
   "execution_count": 4,
   "metadata": {
    "id": "l9Jod9hDUYM6"
   },
   "outputs": [],
   "source": [
    "\n",
    "from tensorflow.keras import regularizers\n",
    "from tensorflow.keras.models import Sequential, Model\n",
    "from tensorflow.keras.layers import Input, Flatten, Dense, Dropout, BatchNormalization\n",
    "from tensorflow.keras.layers import Conv2D, MaxPooling2D, AveragePooling2D, ZeroPadding2D\n",
    "from tensorflow.keras.layers import Concatenate\n",
    "from tensorflow.keras.preprocessing.image import ImageDataGenerator\n",
    "from tensorflow.keras.optimizers import Adam, SGD"
   ]
  },
  {
   "cell_type": "code",
   "execution_count": 5,
   "metadata": {
    "id": "P8PMNJnDSbKq"
   },
   "outputs": [],
   "source": [
    "def split_data(X, y, test_size=0.2):\n",
    "       \n",
    "    \"\"\"\n",
    "    Splits data into training, development and test sets.\n",
    "    Arguments:\n",
    "        X: A numpy array with shape = (#_examples, image_width, image_height, #_channels)\n",
    "        y: A numpy array with shape = (#_examples, 1)\n",
    "    Returns:\n",
    "        X_train: A numpy array with shape = (#_train_examples, image_width, image_height, #_channels)\n",
    "        y_train: A numpy array with shape = (#_train_examples, 1)\n",
    "        X_val: A numpy array with shape = (#_val_examples, image_width, image_height, #_channels)\n",
    "        y_val: A numpy array with shape = (#_val_examples, 1)\n",
    "        X_test: A numpy array with shape = (#_test_examples, image_width, image_height, #_channels)\n",
    "        y_test: A numpy array with shape = (#_test_examples, 1)\n",
    "    \"\"\"\n",
    "    \n",
    "    X_train, X_test_val, y_train, y_test_val = train_test_split(X, y, test_size=test_size)\n",
    "    X_test, X_val, y_test, y_val = train_test_split(X_test_val, y_test_val, test_size=0.5)\n",
    "    \n",
    "    return X_train, y_train, X_val, y_val, X_test, y_test\n"
   ]
  },
  {
   "cell_type": "code",
   "execution_count": 6,
   "metadata": {
    "id": "0c6z6lOpSbKr"
   },
   "outputs": [],
   "source": [
    "X_train, y_train, X_val, y_val, X_test, y_test = split_data(X, y, test_size=0.3)"
   ]
  },
  {
   "cell_type": "code",
   "execution_count": 7,
   "metadata": {
    "id": "oB8j8ZFTSbKs",
    "outputId": "9693ce01-0467-4b22-dd20-e394c8583dca"
   },
   "outputs": [
    {
     "name": "stdout",
     "output_type": "stream",
     "text": [
      "number of training examples = 2053\n",
      "number of development examples = 441\n",
      "number of test examples = 440\n",
      "X_train shape: (2053, 224, 224, 3)\n",
      "Y_train shape: (2053, 1)\n",
      "X_val (dev) shape: (441, 224, 224, 3)\n",
      "Y_val (dev) shape: (441, 1)\n",
      "X_test shape: (440, 224, 224, 3)\n",
      "Y_test shape: (440, 1)\n"
     ]
    }
   ],
   "source": [
    "print (\"number of training examples = \" + str(X_train.shape[0]))\n",
    "print (\"number of development examples = \" + str(X_val.shape[0]))\n",
    "print (\"number of test examples = \" + str(X_test.shape[0]))\n",
    "print (\"X_train shape: \" + str(X_train.shape))\n",
    "print (\"Y_train shape: \" + str(y_train.shape))\n",
    "print (\"X_val (dev) shape: \" + str(X_val.shape))\n",
    "print (\"Y_val (dev) shape: \" + str(y_val.shape))\n",
    "print (\"X_test shape: \" + str(X_test.shape))\n",
    "print (\"Y_test shape: \" + str(y_test.shape))\n"
   ]
  },
  {
   "cell_type": "code",
   "execution_count": 9,
   "metadata": {},
   "outputs": [],
   "source": []
  },
  {
   "cell_type": "code",
   "execution_count": 8,
   "metadata": {
    "id": "Pp4SvHGZSbKs"
   },
   "outputs": [],
   "source": [
    "def hms_string(sec_elapsed):\n",
    "    h = int(sec_elapsed / (60 * 60))\n",
    "    m = int((sec_elapsed % (60 * 60)) / 60)\n",
    "    s = sec_elapsed % 60\n",
    "    return f\"{h}:{m}:{round(s,1)}\"\n",
    "\n"
   ]
  },
  {
   "cell_type": "code",
   "execution_count": 9,
   "metadata": {
    "id": "x7Q4FAxlSbKt"
   },
   "outputs": [],
   "source": [
    "def compute_f1_score(y_true, prob):\n",
    "    # convert the vector of probabilities to a target vector\n",
    "    y_pred = np.where(prob > 0.5, 1, 0)\n",
    "    \n",
    "    score = f1_score(y_true, y_pred)\n",
    "    \n",
    "    \n",
    "    return score\n"
   ]
  },
  {
   "cell_type": "code",
   "execution_count": 13,
   "metadata": {},
   "outputs": [
    {
     "name": "stdout",
     "output_type": "stream",
     "text": [
      "Model: \"sequential_1\"\n",
      "_________________________________________________________________\n",
      "Layer (type)                 Output Shape              Param #   \n",
      "=================================================================\n",
      "conv2d_5 (Conv2D)            (None, 54, 54, 96)        34944     \n",
      "_________________________________________________________________\n",
      "max_pooling2d_3 (MaxPooling2 (None, 26, 26, 96)        0         \n",
      "_________________________________________________________________\n",
      "batch_normalization_6 (Batch (None, 26, 26, 96)        384       \n",
      "_________________________________________________________________\n",
      "conv2d_6 (Conv2D)            (None, 22, 22, 256)       614656    \n",
      "_________________________________________________________________\n",
      "max_pooling2d_4 (MaxPooling2 (None, 10, 10, 256)       0         \n",
      "_________________________________________________________________\n",
      "batch_normalization_7 (Batch (None, 10, 10, 256)       1024      \n",
      "_________________________________________________________________\n",
      "conv2d_7 (Conv2D)            (None, 8, 8, 384)         885120    \n",
      "_________________________________________________________________\n",
      "conv2d_8 (Conv2D)            (None, 6, 6, 384)         1327488   \n",
      "_________________________________________________________________\n",
      "conv2d_9 (Conv2D)            (None, 4, 4, 256)         884992    \n",
      "_________________________________________________________________\n",
      "max_pooling2d_5 (MaxPooling2 (None, 1, 1, 256)         0         \n",
      "_________________________________________________________________\n",
      "batch_normalization_8 (Batch (None, 1, 1, 256)         1024      \n",
      "_________________________________________________________________\n",
      "flatten_1 (Flatten)          (None, 256)               0         \n",
      "_________________________________________________________________\n",
      "dense_4 (Dense)              (None, 4096)              1052672   \n",
      "_________________________________________________________________\n",
      "dropout_3 (Dropout)          (None, 4096)              0         \n",
      "_________________________________________________________________\n",
      "batch_normalization_9 (Batch (None, 4096)              16384     \n",
      "_________________________________________________________________\n",
      "dense_5 (Dense)              (None, 4096)              16781312  \n",
      "_________________________________________________________________\n",
      "dropout_4 (Dropout)          (None, 4096)              0         \n",
      "_________________________________________________________________\n",
      "batch_normalization_10 (Batc (None, 4096)              16384     \n",
      "_________________________________________________________________\n",
      "dense_6 (Dense)              (None, 1000)              4097000   \n",
      "_________________________________________________________________\n",
      "dropout_5 (Dropout)          (None, 1000)              0         \n",
      "_________________________________________________________________\n",
      "batch_normalization_11 (Batc (None, 1000)              4000      \n",
      "_________________________________________________________________\n",
      "dense_7 (Dense)              (None, 4)                 4004      \n",
      "=================================================================\n",
      "Total params: 25,721,388\n",
      "Trainable params: 25,701,788\n",
      "Non-trainable params: 19,600\n",
      "_________________________________________________________________\n"
     ]
    }
   ],
   "source": [
    "\n",
    "model=Sequential()\n",
    "\n",
    "#1 conv layer\n",
    "model.add(Conv2D(filters=96,kernel_size=(11,11),strides=(4,4),padding=\"valid\",activation=\"relu\",input_shape=(224,224,3)))\n",
    "\n",
    "#1 max pool layer\n",
    "model.add(MaxPooling2D(pool_size=(3,3),strides=(2,2)))\n",
    "\n",
    "model.add(BatchNormalization())\n",
    "\n",
    "#2 conv layer\n",
    "model.add(Conv2D(filters=256,kernel_size=(5,5),strides=(1,1),padding=\"valid\",activation=\"relu\"))\n",
    "\n",
    "#2 max pool layer\n",
    "model.add(MaxPooling2D(pool_size=(3,3),strides=(2,2)))\n",
    "\n",
    "model.add(BatchNormalization())\n",
    "\n",
    "#3 conv layer\n",
    "model.add(Conv2D(filters=384,kernel_size=(3,3),strides=(1,1),padding=\"valid\",activation=\"relu\"))\n",
    "\n",
    "#4 conv layer\n",
    "model.add(Conv2D(filters=384,kernel_size=(3,3),strides=(1,1),padding=\"valid\",activation=\"relu\"))\n",
    "\n",
    "#5 conv layer\n",
    "model.add(Conv2D(filters=256,kernel_size=(3,3),strides=(1,1),padding=\"valid\",activation=\"relu\"))\n",
    "\n",
    "#3 max pool layer\n",
    "model.add(MaxPooling2D(pool_size=(3,3),strides=(2,2)))\n",
    "\n",
    "model.add(BatchNormalization())\n",
    "\n",
    "\n",
    "model.add(Flatten())\n",
    "\n",
    "#1 dense layer\n",
    "model.add(Dense(4096,input_shape=(224,224,3),activation=\"relu\"))\n",
    "\n",
    "model.add(Dropout(0.4))\n",
    "\n",
    "model.add(BatchNormalization())\n",
    "\n",
    "#2 dense layer\n",
    "model.add(Dense(4096,activation=\"relu\"))\n",
    "\n",
    "model.add(Dropout(0.4))\n",
    "\n",
    "model.add(BatchNormalization())\n",
    "\n",
    "#3 dense layer\n",
    "model.add(Dense(1000,activation=\"relu\"))\n",
    "\n",
    "model.add(Dropout(0.4))\n",
    "\n",
    "model.add(BatchNormalization())\n",
    "\n",
    "#output layer\n",
    "model.add(Dense(4,activation=\"softmax\"))\n",
    "\n",
    "model.summary()"
   ]
  },
  {
   "cell_type": "code",
   "execution_count": 14,
   "metadata": {
    "id": "pNuUAa0aSbKx"
   },
   "outputs": [],
   "source": [
    "model.compile(optimizer='adam', loss=tf.keras.losses.SparseCategoricalCrossentropy(), metrics=['accuracy'])\n",
    "\n",
    "\n",
    "\n",
    "\n"
   ]
  },
  {
   "cell_type": "code",
   "execution_count": 13,
   "metadata": {
    "id": "k8NoPqzUSbKy"
   },
   "outputs": [],
   "source": [
    "log_file_name = f'alzheimer_detection_cnn_{int(time.time())}'\n",
    "tensorboard = TensorBoard(log_dir=f'logs/{log_file_name}')\n"
   ]
  },
  {
   "cell_type": "code",
   "execution_count": 14,
   "metadata": {
    "id": "4s4LeFwlSbKy"
   },
   "outputs": [],
   "source": [
    "#filepath=\"cnn-parameters-improvement-{epoch:02d}-{val_accuracy:.2f}\"\n",
    "i=1\n",
    "filepath=\"cnn-parameters-improvement{i}\"\n",
    "i=i+1\n",
    "# save the model with the best validation (development) accuracy till now\n",
    "checkpoint = ModelCheckpoint(\"models/{}.model\".format(filepath, monitor='val_acc', verbose=1, save_best_only=True, mode='max'))\n"
   ]
  },
  {
   "cell_type": "code",
   "execution_count": 15,
   "metadata": {
    "id": "L5l16xuiSbKz",
    "outputId": "4212797f-322b-48a6-d213-dd0acb5c063b",
    "scrolled": true
   },
   "outputs": [
    {
     "name": "stdout",
     "output_type": "stream",
     "text": [
      "Epoch 1/80\n",
      "129/129 [==============================] - 123s 733ms/step - loss: 1.4326 - accuracy: 0.5114 - val_loss: 1.7578 - val_accuracy: 0.4490\n",
      "Epoch 2/80\n",
      "129/129 [==============================] - 84s 646ms/step - loss: 0.6452 - accuracy: 0.7569 - val_loss: 0.6381 - val_accuracy: 0.6803\n",
      "Epoch 3/80\n",
      "129/129 [==============================] - 81s 630ms/step - loss: 0.4605 - accuracy: 0.8344 - val_loss: 0.8324 - val_accuracy: 0.7438\n",
      "Epoch 4/80\n",
      "129/129 [==============================] - 81s 630ms/step - loss: 0.3619 - accuracy: 0.8748 - val_loss: 0.7122 - val_accuracy: 0.7868\n",
      "Epoch 5/80\n",
      "129/129 [==============================] - 80s 618ms/step - loss: 0.3226 - accuracy: 0.8875 - val_loss: 0.1737 - val_accuracy: 0.9410\n",
      "Epoch 6/80\n",
      "129/129 [==============================] - 81s 626ms/step - loss: 0.2870 - accuracy: 0.9011 - val_loss: 0.2394 - val_accuracy: 0.9093\n",
      "Epoch 7/80\n",
      "129/129 [==============================] - 80s 622ms/step - loss: 0.2206 - accuracy: 0.9245 - val_loss: 0.1775 - val_accuracy: 0.9501\n",
      "Epoch 8/80\n",
      "129/129 [==============================] - 81s 627ms/step - loss: 0.2067 - accuracy: 0.9250 - val_loss: 0.8183 - val_accuracy: 0.8277\n",
      "Epoch 9/80\n",
      "129/129 [==============================] - 81s 628ms/step - loss: 0.1982 - accuracy: 0.9342 - val_loss: 0.4656 - val_accuracy: 0.8390\n",
      "Epoch 10/80\n",
      "129/129 [==============================] - 81s 626ms/step - loss: 0.2409 - accuracy: 0.9196 - val_loss: 0.2727 - val_accuracy: 0.9116\n",
      "Epoch 11/80\n",
      "129/129 [==============================] - 81s 629ms/step - loss: 0.2157 - accuracy: 0.9216 - val_loss: 0.1691 - val_accuracy: 0.9569\n",
      "Epoch 12/80\n",
      "129/129 [==============================] - 81s 625ms/step - loss: 0.1564 - accuracy: 0.9440 - val_loss: 0.3486 - val_accuracy: 0.8957\n",
      "Epoch 13/80\n",
      "129/129 [==============================] - 82s 635ms/step - loss: 0.3779 - accuracy: 0.8631 - val_loss: 0.3096 - val_accuracy: 0.8957\n",
      "Epoch 14/80\n",
      "129/129 [==============================] - 81s 628ms/step - loss: 0.2138 - accuracy: 0.9269 - val_loss: 0.1179 - val_accuracy: 0.9546\n",
      "Epoch 15/80\n",
      "129/129 [==============================] - 81s 627ms/step - loss: 0.2158 - accuracy: 0.9362 - val_loss: 0.3933 - val_accuracy: 0.8889\n",
      "Epoch 16/80\n",
      "129/129 [==============================] - 81s 626ms/step - loss: 0.1574 - accuracy: 0.9459 - val_loss: 0.1244 - val_accuracy: 0.9615\n",
      "Epoch 17/80\n",
      "129/129 [==============================] - 81s 628ms/step - loss: 0.1592 - accuracy: 0.9489 - val_loss: 0.2917 - val_accuracy: 0.9093\n",
      "Epoch 18/80\n",
      "129/129 [==============================] - 81s 626ms/step - loss: 0.1411 - accuracy: 0.9518 - val_loss: 0.2489 - val_accuracy: 0.8866\n",
      "Epoch 19/80\n",
      "129/129 [==============================] - 81s 625ms/step - loss: 0.1317 - accuracy: 0.9547 - val_loss: 0.0818 - val_accuracy: 0.9592\n",
      "Epoch 20/80\n",
      "129/129 [==============================] - 81s 627ms/step - loss: 0.0852 - accuracy: 0.9742 - val_loss: 0.1083 - val_accuracy: 0.9660\n",
      "Epoch 21/80\n",
      "129/129 [==============================] - 81s 628ms/step - loss: 0.1282 - accuracy: 0.9566 - val_loss: 0.0750 - val_accuracy: 0.9705\n",
      "Epoch 22/80\n",
      "129/129 [==============================] - 81s 627ms/step - loss: 0.1517 - accuracy: 0.9445 - val_loss: 0.2398 - val_accuracy: 0.9524\n",
      "Epoch 23/80\n",
      "129/129 [==============================] - 81s 627ms/step - loss: 0.0775 - accuracy: 0.9756 - val_loss: 0.0737 - val_accuracy: 0.9751\n",
      "Epoch 24/80\n",
      "129/129 [==============================] - 81s 626ms/step - loss: 0.0879 - accuracy: 0.9698 - val_loss: 0.1840 - val_accuracy: 0.9274\n",
      "Epoch 25/80\n",
      "129/129 [==============================] - 81s 627ms/step - loss: 0.0982 - accuracy: 0.9659 - val_loss: 0.1625 - val_accuracy: 0.9615\n",
      "Epoch 26/80\n",
      "129/129 [==============================] - 81s 626ms/step - loss: 0.0902 - accuracy: 0.9727 - val_loss: 0.0860 - val_accuracy: 0.9660\n",
      "Epoch 27/80\n",
      "129/129 [==============================] - 81s 626ms/step - loss: 0.1300 - accuracy: 0.9649 - val_loss: 0.0794 - val_accuracy: 0.9705\n",
      "Epoch 28/80\n",
      "129/129 [==============================] - 81s 626ms/step - loss: 0.0790 - accuracy: 0.9703 - val_loss: 0.1023 - val_accuracy: 0.9615\n",
      "Epoch 29/80\n",
      "129/129 [==============================] - 81s 626ms/step - loss: 0.0479 - accuracy: 0.9859 - val_loss: 0.0994 - val_accuracy: 0.9660\n",
      "Epoch 30/80\n",
      "129/129 [==============================] - 81s 629ms/step - loss: 0.0666 - accuracy: 0.9791 - val_loss: 0.0791 - val_accuracy: 0.9705\n",
      "Epoch 31/80\n",
      "129/129 [==============================] - 81s 625ms/step - loss: 0.0806 - accuracy: 0.9722 - val_loss: 0.1966 - val_accuracy: 0.9388\n",
      "Epoch 32/80\n",
      "129/129 [==============================] - 81s 626ms/step - loss: 0.0471 - accuracy: 0.9868 - val_loss: 0.1314 - val_accuracy: 0.9478\n",
      "Epoch 33/80\n",
      "129/129 [==============================] - 81s 626ms/step - loss: 0.0757 - accuracy: 0.9722 - val_loss: 0.2263 - val_accuracy: 0.9320\n",
      "Epoch 34/80\n",
      "129/129 [==============================] - 81s 626ms/step - loss: 0.0475 - accuracy: 0.9815 - val_loss: 0.1390 - val_accuracy: 0.9615\n",
      "Epoch 35/80\n",
      "129/129 [==============================] - 81s 628ms/step - loss: 0.0676 - accuracy: 0.9752 - val_loss: 12.8678 - val_accuracy: 0.6984\n",
      "Epoch 36/80\n",
      "129/129 [==============================] - 81s 627ms/step - loss: 0.1090 - accuracy: 0.9654 - val_loss: 0.0892 - val_accuracy: 0.9773\n",
      "Epoch 37/80\n",
      "129/129 [==============================] - 81s 630ms/step - loss: 0.0720 - accuracy: 0.9795 - val_loss: 0.1078 - val_accuracy: 0.9683\n",
      "Epoch 38/80\n",
      "129/129 [==============================] - 81s 628ms/step - loss: 0.0520 - accuracy: 0.9873 - val_loss: 0.2056 - val_accuracy: 0.9478\n",
      "Epoch 39/80\n",
      "129/129 [==============================] - 81s 627ms/step - loss: 0.0626 - accuracy: 0.9781 - val_loss: 0.3142 - val_accuracy: 0.9048\n",
      "Epoch 40/80\n",
      "129/129 [==============================] - 81s 626ms/step - loss: 0.1282 - accuracy: 0.9644 - val_loss: 0.0726 - val_accuracy: 0.9705\n",
      "Epoch 41/80\n",
      "129/129 [==============================] - 81s 628ms/step - loss: 0.0624 - accuracy: 0.9800 - val_loss: 0.0846 - val_accuracy: 0.9683\n",
      "Epoch 42/80\n",
      "129/129 [==============================] - 81s 628ms/step - loss: 0.0607 - accuracy: 0.9839 - val_loss: 0.2217 - val_accuracy: 0.9524\n",
      "Epoch 43/80\n",
      "129/129 [==============================] - 81s 627ms/step - loss: 0.1036 - accuracy: 0.9713 - val_loss: 0.1024 - val_accuracy: 0.9683\n",
      "Epoch 44/80\n",
      "129/129 [==============================] - 80s 624ms/step - loss: 0.0315 - accuracy: 0.9883 - val_loss: 0.1249 - val_accuracy: 0.9501\n",
      "Epoch 45/80\n",
      "129/129 [==============================] - 81s 624ms/step - loss: 0.0239 - accuracy: 0.9937 - val_loss: 0.1062 - val_accuracy: 0.9683\n",
      "Epoch 46/80\n",
      "129/129 [==============================] - 80s 623ms/step - loss: 0.0892 - accuracy: 0.9727 - val_loss: 0.1634 - val_accuracy: 0.9615\n",
      "Epoch 47/80\n",
      "129/129 [==============================] - 80s 622ms/step - loss: 0.0626 - accuracy: 0.9795 - val_loss: 0.0779 - val_accuracy: 0.9841\n",
      "Epoch 48/80\n",
      "129/129 [==============================] - 80s 621ms/step - loss: 0.0391 - accuracy: 0.9888 - val_loss: 0.3114 - val_accuracy: 0.9297\n",
      "Epoch 49/80\n",
      "129/129 [==============================] - 80s 621ms/step - loss: 0.1135 - accuracy: 0.9674 - val_loss: 0.2483 - val_accuracy: 0.9320\n",
      "Epoch 50/80\n",
      "129/129 [==============================] - 80s 623ms/step - loss: 0.1624 - accuracy: 0.9445 - val_loss: 0.1427 - val_accuracy: 0.9660\n",
      "Epoch 51/80\n",
      "129/129 [==============================] - 80s 622ms/step - loss: 0.0572 - accuracy: 0.9825 - val_loss: 0.0906 - val_accuracy: 0.9751\n",
      "Epoch 52/80\n",
      "129/129 [==============================] - 80s 623ms/step - loss: 0.0801 - accuracy: 0.9771 - val_loss: 0.0881 - val_accuracy: 0.9728\n",
      "Epoch 53/80\n",
      "129/129 [==============================] - 81s 625ms/step - loss: 0.0776 - accuracy: 0.9747 - val_loss: 0.1567 - val_accuracy: 0.9524\n",
      "Epoch 54/80\n",
      "129/129 [==============================] - 80s 624ms/step - loss: 0.0335 - accuracy: 0.9888 - val_loss: 0.1832 - val_accuracy: 0.9388\n",
      "Epoch 55/80\n",
      "129/129 [==============================] - 80s 622ms/step - loss: 0.0394 - accuracy: 0.9903 - val_loss: 0.1218 - val_accuracy: 0.9705\n",
      "Epoch 56/80\n",
      "129/129 [==============================] - 80s 621ms/step - loss: 0.0266 - accuracy: 0.9922 - val_loss: 0.0533 - val_accuracy: 0.9841\n",
      "Epoch 57/80\n"
     ]
    },
    {
     "name": "stdout",
     "output_type": "stream",
     "text": [
      "129/129 [==============================] - 80s 622ms/step - loss: 0.0260 - accuracy: 0.9927 - val_loss: 0.0669 - val_accuracy: 0.9728\n",
      "Epoch 58/80\n",
      "129/129 [==============================] - 81s 626ms/step - loss: 0.0165 - accuracy: 0.9946 - val_loss: 0.1073 - val_accuracy: 0.9660\n",
      "Epoch 59/80\n",
      "129/129 [==============================] - 81s 628ms/step - loss: 0.0521 - accuracy: 0.9834 - val_loss: 0.0877 - val_accuracy: 0.9796\n",
      "Epoch 60/80\n",
      "129/129 [==============================] - 80s 622ms/step - loss: 0.0297 - accuracy: 0.9922 - val_loss: 0.2783 - val_accuracy: 0.9569\n",
      "Epoch 61/80\n",
      "129/129 [==============================] - 80s 621ms/step - loss: 0.0209 - accuracy: 0.9942 - val_loss: 0.1013 - val_accuracy: 0.9751\n",
      "Epoch 62/80\n",
      "129/129 [==============================] - 80s 622ms/step - loss: 0.0207 - accuracy: 0.9951 - val_loss: 0.0878 - val_accuracy: 0.9773\n",
      "Epoch 63/80\n",
      "129/129 [==============================] - 80s 623ms/step - loss: 0.0369 - accuracy: 0.9864 - val_loss: 0.2456 - val_accuracy: 0.9546\n",
      "Epoch 64/80\n",
      "129/129 [==============================] - 81s 625ms/step - loss: 0.0256 - accuracy: 0.9951 - val_loss: 0.0787 - val_accuracy: 0.9819\n",
      "Epoch 65/80\n",
      "129/129 [==============================] - 80s 621ms/step - loss: 0.0117 - accuracy: 0.9956 - val_loss: 0.0737 - val_accuracy: 0.9819\n",
      "Epoch 66/80\n",
      "129/129 [==============================] - 80s 624ms/step - loss: 0.0974 - accuracy: 0.9727 - val_loss: 0.3220 - val_accuracy: 0.9342\n",
      "Epoch 67/80\n",
      "129/129 [==============================] - 80s 624ms/step - loss: 0.0501 - accuracy: 0.9859 - val_loss: 0.0873 - val_accuracy: 0.9705\n",
      "Epoch 68/80\n",
      "129/129 [==============================] - 80s 624ms/step - loss: 0.0304 - accuracy: 0.9951 - val_loss: 0.0688 - val_accuracy: 0.9773\n",
      "Epoch 69/80\n",
      "129/129 [==============================] - 81s 625ms/step - loss: 0.0144 - accuracy: 0.9956 - val_loss: 0.0698 - val_accuracy: 0.9819\n",
      "Epoch 70/80\n",
      "129/129 [==============================] - 81s 627ms/step - loss: 0.0836 - accuracy: 0.9761 - val_loss: 0.1384 - val_accuracy: 0.9637\n",
      "Epoch 71/80\n",
      "129/129 [==============================] - 80s 623ms/step - loss: 0.0648 - accuracy: 0.9859 - val_loss: 0.5848 - val_accuracy: 0.7166\n",
      "Epoch 72/80\n",
      "129/129 [==============================] - 81s 625ms/step - loss: 0.1717 - accuracy: 0.9445 - val_loss: 0.2040 - val_accuracy: 0.9410\n",
      "Epoch 73/80\n",
      "129/129 [==============================] - 81s 626ms/step - loss: 0.0768 - accuracy: 0.9766 - val_loss: 0.0874 - val_accuracy: 0.9773\n",
      "Epoch 74/80\n",
      "129/129 [==============================] - 81s 627ms/step - loss: 0.0294 - accuracy: 0.9907 - val_loss: 0.1031 - val_accuracy: 0.9773\n",
      "Epoch 75/80\n",
      "129/129 [==============================] - 80s 624ms/step - loss: 0.0298 - accuracy: 0.9917 - val_loss: 0.1045 - val_accuracy: 0.9615\n",
      "Epoch 76/80\n",
      "129/129 [==============================] - 80s 623ms/step - loss: 0.0123 - accuracy: 0.9961 - val_loss: 0.0681 - val_accuracy: 0.9819\n",
      "Epoch 77/80\n",
      "129/129 [==============================] - 80s 623ms/step - loss: 0.0234 - accuracy: 0.9932 - val_loss: 0.0862 - val_accuracy: 0.9728\n",
      "Epoch 78/80\n",
      "129/129 [==============================] - 80s 624ms/step - loss: 0.0093 - accuracy: 0.9976 - val_loss: 0.0985 - val_accuracy: 0.9683\n",
      "Epoch 79/80\n",
      "129/129 [==============================] - 81s 625ms/step - loss: 0.0020 - accuracy: 0.9995 - val_loss: 0.0524 - val_accuracy: 0.9841\n",
      "Epoch 80/80\n",
      "129/129 [==============================] - 80s 623ms/step - loss: 0.0015 - accuracy: 1.0000 - val_loss: 0.2133 - val_accuracy: 0.9546\n",
      "Elapsed time: 1:48:24.5\n"
     ]
    }
   ],
   "source": [
    "start_time = time.time()\n",
    "\n",
    "model.fit(x=X_train, y=y_train, batch_size=16, epochs=80, validation_data=(X_val, y_val))\n",
    "\n",
    "end_time = time.time()\n",
    "execution_time = (end_time - start_time)\n",
    "print(f\"Elapsed time: {hms_string(execution_time)}\")\n"
   ]
  },
  {
   "cell_type": "code",
   "execution_count": 16,
   "metadata": {
    "id": "8pbmQ1_kSbK5"
   },
   "outputs": [],
   "source": [
    "history = model.history.history"
   ]
  },
  {
   "cell_type": "code",
   "execution_count": 17,
   "metadata": {
    "id": "xUDk5950SbK5",
    "outputId": "a0481d8b-5803-4d64-b868-1a12b231136c"
   },
   "outputs": [
    {
     "name": "stdout",
     "output_type": "stream",
     "text": [
      "loss\n",
      "accuracy\n",
      "val_loss\n",
      "val_accuracy\n"
     ]
    }
   ],
   "source": [
    "for key in history.keys():\n",
    "    print(key)"
   ]
  },
  {
   "cell_type": "code",
   "execution_count": 18,
   "metadata": {
    "id": "7zQGlzFjSbK6"
   },
   "outputs": [],
   "source": [
    "def plot_metrics(history):\n",
    "    \n",
    "    train_loss = history['loss']\n",
    "    val_loss = history['val_loss']\n",
    "    train_acc = history['accuracy']\n",
    "    val_accuracy = history['val_accuracy']\n",
    "    \n",
    "    # Loss\n",
    "    plt.figure()\n",
    "    plt.plot(train_loss, label='Training Loss')\n",
    "    plt.plot(val_loss, label='Validation Loss')\n",
    "    plt.title('Loss')\n",
    "    plt.legend()\n",
    "    plt.show()\n",
    "    \n",
    "    # Accuracy\n",
    "    plt.figure()\n",
    "    plt.plot(train_acc, label='Training Accuracy')\n",
    "    plt.plot(val_accuracy, label='Validation Accuracy')\n",
    "    plt.title('Accuracy')\n",
    "    plt.legend()\n",
    "    plt.show()\n"
   ]
  },
  {
   "cell_type": "code",
   "execution_count": 19,
   "metadata": {},
   "outputs": [
    {
     "data": {
      "image/png": "[encoded data removed]",
      "text/plain": [
       "<Figure size 432x288 with 1 Axes>"
      ]
     },
     "metadata": {
      "needs_background": "light"
     },
     "output_type": "display_data"
    },
    {
     "data": {
      "image/png": "[encoded data removed]",
      "text/plain": [
       "<Figure size 432x288 with 1 Axes>"
      ]
     },
     "metadata": {
      "needs_background": "light"
     },
     "output_type": "display_data"
    }
   ],
   "source": [
    "plot_metrics(history)"
   ]
  },
  {
   "cell_type": "code",
   "execution_count": 21,
   "metadata": {
    "id": "jd_Pd_thSbK7",
    "outputId": "32735d82-2bd7-40df-914d-0aa57e709abd"
   },
   "outputs": [
    {
     "name": "stdout",
     "output_type": "stream",
     "text": [
      "14/14 [==============================] - 4s 249ms/step - loss: 0.2762 - accuracy: 0.9659\n"
     ]
    }
   ],
   "source": [
    "loss, acc = model.evaluate(x=X_test, y=y_test)"
   ]
  },
  {
   "cell_type": "code",
   "execution_count": 23,
   "metadata": {
    "id": "stDYzqIuSbK8",
    "outputId": "a812f580-bcde-4f38-d958-cb813cb6896d"
   },
   "outputs": [
    {
     "name": "stdout",
     "output_type": "stream",
     "text": [
      "Loss = 27.617353200912476\n",
      "Accuracy= 96.59090638160706\n"
     ]
    }
   ],
   "source": [
    "print (f\"Loss = {loss*100}\")\n",
    "print (f\"Accuracy= {acc*100}\")\n",
    "\n"
   ]
  },
  {
   "cell_type": "code",
   "execution_count": 28,
   "metadata": {
    "id": "TrzFa6k-SbK8",
    "outputId": "d5c086b4-c107-471b-dc49-169878df8c8a"
   },
   "outputs": [
    {
     "name": "stdout",
     "output_type": "stream",
     "text": [
      "Main Loss = 47.96578288078308\n",
      "Aux1 Loss = 20.075584948062897\n",
      "Aux2 Loss = 29.081469774246216\n",
      "Main Accuracy = 97.27272987365723\n",
      "Aux1 accuracy = 97.50000238418579\n",
      "Aux2 Accuracy = 97.27272987365723\n"
     ]
    }
   ],
   "source": [
    "print (f\"Main Loss = {main_loss*100}\")\n",
    "print (f\"Aux1 Loss = {aux1_loss*100}\")\n",
    "print (f\"Aux2 Loss = {aux2_loss*100}\")\n",
    "print (f\"Main Accuracy = {main_accuracy*100}\")\n",
    "print (f\"Aux1 accuracy = {aux1_accuracy*100}\")\n",
    "print (f\"Aux2 Accuracy = {aux2_accuracy*100}\")"
   ]
  },
  {
   "cell_type": "code",
   "execution_count": 24,
   "metadata": {
    "id": "azEvFUcnSbK_"
   },
   "outputs": [
    {
     "name": "stdout",
     "output_type": "stream",
     "text": [
      "14/14 [==============================] - 5s 338ms/step - loss: 0.2133 - accuracy: 0.9546\n",
      "Loss = 21.334221959114075\n",
      "Accuracy = 95.46485543251038\n"
     ]
    }
   ],
   "source": [
    "loss,accuracy = model.evaluate(x=X_val, y=y_val)\n",
    "print (f\"Loss = {loss*100}\")\n",
    "\n",
    "print (f\"Accuracy = {accuracy*100}\")\n"
   ]
  },
  {
   "cell_type": "code",
   "execution_count": 14,
   "metadata": {},
   "outputs": [
    {
     "name": "stdout",
     "output_type": "stream",
     "text": [
      "Downloading data from https://storage.googleapis.com/tensorflow/keras-applications/vgg16/vgg16_weights_tf_dim_ordering_tf_kernels.h5\n",
      "553467904/553467096 [==============================] - 63s 0us/step\n"
     ]
    }
   ],
   "source": [
    "from tensorflow.keras.applications.vgg16 import VGG16\n",
    "model = VGG16()"
   ]
  },
  {
   "cell_type": "code",
   "execution_count": 15,
   "metadata": {},
   "outputs": [
    {
     "name": "stdout",
     "output_type": "stream",
     "text": [
      "Model: \"vgg16\"\n",
      "_________________________________________________________________\n",
      "Layer (type)                 Output Shape              Param #   \n",
      "=================================================================\n",
      "input_2 (InputLayer)         [(None, 224, 224, 3)]     0         \n",
      "_________________________________________________________________\n",
      "block1_conv1 (Conv2D)        (None, 224, 224, 64)      1792      \n",
      "_________________________________________________________________\n",
      "block1_conv2 (Conv2D)        (None, 224, 224, 64)      36928     \n",
      "_________________________________________________________________\n",
      "block1_pool (MaxPooling2D)   (None, 112, 112, 64)      0         \n",
      "_________________________________________________________________\n",
      "block2_conv1 (Conv2D)        (None, 112, 112, 128)     73856     \n",
      "_________________________________________________________________\n",
      "block2_conv2 (Conv2D)        (None, 112, 112, 128)     147584    \n",
      "_________________________________________________________________\n",
      "block2_pool (MaxPooling2D)   (None, 56, 56, 128)       0         \n",
      "_________________________________________________________________\n",
      "block3_conv1 (Conv2D)        (None, 56, 56, 256)       295168    \n",
      "_________________________________________________________________\n",
      "block3_conv2 (Conv2D)        (None, 56, 56, 256)       590080    \n",
      "_________________________________________________________________\n",
      "block3_conv3 (Conv2D)        (None, 56, 56, 256)       590080    \n",
      "_________________________________________________________________\n",
      "block3_pool (MaxPooling2D)   (None, 28, 28, 256)       0         \n",
      "_________________________________________________________________\n",
      "block4_conv1 (Conv2D)        (None, 28, 28, 512)       1180160   \n",
      "_________________________________________________________________\n",
      "block4_conv2 (Conv2D)        (None, 28, 28, 512)       2359808   \n",
      "_________________________________________________________________\n",
      "block4_conv3 (Conv2D)        (None, 28, 28, 512)       2359808   \n",
      "_________________________________________________________________\n",
      "block4_pool (MaxPooling2D)   (None, 14, 14, 512)       0         \n",
      "_________________________________________________________________\n",
      "block5_conv1 (Conv2D)        (None, 14, 14, 512)       2359808   \n",
      "_________________________________________________________________\n",
      "block5_conv2 (Conv2D)        (None, 14, 14, 512)       2359808   \n",
      "_________________________________________________________________\n",
      "block5_conv3 (Conv2D)        (None, 14, 14, 512)       2359808   \n",
      "_________________________________________________________________\n",
      "block5_pool (MaxPooling2D)   (None, 7, 7, 512)         0         \n",
      "_________________________________________________________________\n",
      "flatten (Flatten)            (None, 25088)             0         \n",
      "_________________________________________________________________\n",
      "fc1 (Dense)                  (None, 4096)              102764544 \n",
      "_________________________________________________________________\n",
      "fc2 (Dense)                  (None, 4096)              16781312  \n",
      "_________________________________________________________________\n",
      "predictions (Dense)          (None, 1000)              4097000   \n",
      "=================================================================\n",
      "Total params: 138,357,544\n",
      "Trainable params: 138,357,544\n",
      "Non-trainable params: 0\n",
      "_________________________________________________________________\n",
      "None\n"
     ]
    }
   ],
   "source": [
    "print(model.summary())"
   ]
  },
  {
   "cell_type": "code",
   "execution_count": 16,
   "metadata": {},
   "outputs": [],
   "source": [
    "model.compile(optimizer='adam', loss=tf.keras.losses.SparseCategoricalCrossentropy(), metrics=['accuracy'])"
   ]
  },
  {
   "cell_type": "code",
   "execution_count": 17,
   "metadata": {},
   "outputs": [
    {
     "name": "stdout",
     "output_type": "stream",
     "text": [
      "Epoch 1/80\n",
      "129/129 [==============================] - 1479s 11s/step - loss: 1.1049 - accuracy: 0.3190 - val_loss: 1.1017 - val_accuracy: 0.3243\n",
      "Epoch 2/80\n",
      "129/129 [==============================] - 1392s 11s/step - loss: 1.1017 - accuracy: 0.3298 - val_loss: 1.0992 - val_accuracy: 0.3243\n",
      "Epoch 3/80\n",
      "129/129 [==============================] - 1390s 11s/step - loss: 1.1030 - accuracy: 0.3317 - val_loss: 1.1093 - val_accuracy: 0.3243\n",
      "Epoch 4/80\n",
      "129/129 [==============================] - 1387s 11s/step - loss: 1.1030 - accuracy: 0.3210 - val_loss: 1.1031 - val_accuracy: 0.3243\n",
      "Epoch 5/80\n",
      "129/129 [==============================] - 1389s 11s/step - loss: 1.1013 - accuracy: 0.3322 - val_loss: 1.0990 - val_accuracy: 0.3379\n",
      "Epoch 6/80\n",
      "129/129 [==============================] - 1388s 11s/step - loss: 1.0999 - accuracy: 0.3415 - val_loss: 1.1063 - val_accuracy: 0.3243\n",
      "Epoch 7/80\n",
      "129/129 [==============================] - 1387s 11s/step - loss: 1.1024 - accuracy: 0.3234 - val_loss: 1.1007 - val_accuracy: 0.3243\n",
      "Epoch 8/80\n",
      "129/129 [==============================] - 1394s 11s/step - loss: 1.1009 - accuracy: 0.3332 - val_loss: 1.0988 - val_accuracy: 0.3379\n",
      "Epoch 9/80\n",
      "129/129 [==============================] - 1391s 11s/step - loss: 1.1003 - accuracy: 0.3322 - val_loss: 1.0987 - val_accuracy: 0.3379\n",
      "Epoch 10/80\n",
      "129/129 [==============================] - 1383s 11s/step - loss: 1.1007 - accuracy: 0.3419 - val_loss: 1.1019 - val_accuracy: 0.3379\n",
      "Epoch 11/80\n",
      "129/129 [==============================] - 1386s 11s/step - loss: 1.1014 - accuracy: 0.3322 - val_loss: 1.0996 - val_accuracy: 0.3379\n",
      "Epoch 12/80\n",
      "129/129 [==============================] - 1389s 11s/step - loss: 1.1003 - accuracy: 0.3273 - val_loss: 1.0985 - val_accuracy: 0.3379\n",
      "Epoch 13/80\n",
      "129/129 [==============================] - 1390s 11s/step - loss: 1.0994 - accuracy: 0.3390 - val_loss: 1.1011 - val_accuracy: 0.3379\n",
      "Epoch 14/80\n",
      "129/129 [==============================] - 1384s 11s/step - loss: 1.1003 - accuracy: 0.3361 - val_loss: 1.0986 - val_accuracy: 0.3379\n",
      "Epoch 15/80\n",
      "129/129 [==============================] - 1388s 11s/step - loss: 1.1004 - accuracy: 0.3137 - val_loss: 1.1014 - val_accuracy: 0.3243\n",
      "Epoch 16/80\n",
      "129/129 [==============================] - 1385s 11s/step - loss: 1.1012 - accuracy: 0.3156 - val_loss: 1.1002 - val_accuracy: 0.3243\n",
      "Epoch 17/80\n",
      "129/129 [==============================] - 1390s 11s/step - loss: 1.0999 - accuracy: 0.3351 - val_loss: 1.1012 - val_accuracy: 0.3243\n",
      "Epoch 18/80\n",
      "129/129 [==============================] - 1387s 11s/step - loss: 1.1000 - accuracy: 0.3361 - val_loss: 1.0991 - val_accuracy: 0.3243\n",
      "Epoch 19/80\n",
      "129/129 [==============================] - 1394s 11s/step - loss: 1.0997 - accuracy: 0.3254 - val_loss: 1.0991 - val_accuracy: 0.3379\n",
      "Epoch 20/80\n",
      "129/129 [==============================] - 1386s 11s/step - loss: 1.1009 - accuracy: 0.3186 - val_loss: 1.1003 - val_accuracy: 0.3379\n",
      "Epoch 21/80\n",
      "129/129 [==============================] - 1389s 11s/step - loss: 1.1006 - accuracy: 0.3244 - val_loss: 1.0997 - val_accuracy: 0.3379\n",
      "Epoch 22/80\n",
      "129/129 [==============================] - 1399s 11s/step - loss: 1.0999 - accuracy: 0.3405 - val_loss: 1.1003 - val_accuracy: 0.3379\n",
      "Epoch 23/80\n",
      "129/129 [==============================] - 1391s 11s/step - loss: 1.1009 - accuracy: 0.3176 - val_loss: 1.0992 - val_accuracy: 0.3379\n",
      "Epoch 24/80\n",
      "129/129 [==============================] - 1391s 11s/step - loss: 1.1000 - accuracy: 0.3317 - val_loss: 1.0992 - val_accuracy: 0.3379\n",
      "Epoch 25/80\n",
      "129/129 [==============================] - 1392s 11s/step - loss: 1.0996 - accuracy: 0.3395 - val_loss: 1.1011 - val_accuracy: 0.3243\n",
      "Epoch 26/80\n",
      "129/129 [==============================] - 1389s 11s/step - loss: 1.0995 - accuracy: 0.3337 - val_loss: 1.1023 - val_accuracy: 0.3243\n",
      "Epoch 27/80\n",
      "129/129 [==============================] - 1386s 11s/step - loss: 1.1003 - accuracy: 0.3288 - val_loss: 1.1009 - val_accuracy: 0.3379\n",
      "Epoch 28/80\n",
      "129/129 [==============================] - 1392s 11s/step - loss: 1.0999 - accuracy: 0.3293 - val_loss: 1.0987 - val_accuracy: 0.3379\n",
      "Epoch 29/80\n",
      "129/129 [==============================] - 1396s 11s/step - loss: 1.1002 - accuracy: 0.3327 - val_loss: 1.1003 - val_accuracy: 0.3243\n",
      "Epoch 30/80\n",
      "129/129 [==============================] - 1390s 11s/step - loss: 1.1006 - accuracy: 0.3210 - val_loss: 1.0988 - val_accuracy: 0.3379\n",
      "Epoch 31/80\n",
      "129/129 [==============================] - 1387s 11s/step - loss: 1.1004 - accuracy: 0.3186 - val_loss: 1.0988 - val_accuracy: 0.3243\n",
      "Epoch 32/80\n",
      "129/129 [==============================] - 1393s 11s/step - loss: 1.1008 - accuracy: 0.3390 - val_loss: 1.1005 - val_accuracy: 0.3243\n",
      "Epoch 33/80\n",
      "129/129 [==============================] - 1394s 11s/step - loss: 1.0996 - accuracy: 0.3317 - val_loss: 1.1000 - val_accuracy: 0.3243\n",
      "Epoch 34/80\n",
      "129/129 [==============================] - 1385s 11s/step - loss: 1.0999 - accuracy: 0.3259 - val_loss: 1.1001 - val_accuracy: 0.3243\n",
      "Epoch 35/80\n",
      "129/129 [==============================] - 1389s 11s/step - loss: 1.0995 - accuracy: 0.3327 - val_loss: 1.0998 - val_accuracy: 0.3243\n",
      "Epoch 36/80\n",
      "129/129 [==============================] - 1389s 11s/step - loss: 1.0996 - accuracy: 0.3366 - val_loss: 1.1000 - val_accuracy: 0.3379\n",
      "Epoch 37/80\n",
      "129/129 [==============================] - 1390s 11s/step - loss: 1.1003 - accuracy: 0.3210 - val_loss: 1.0987 - val_accuracy: 0.3379\n",
      "Epoch 38/80\n",
      "129/129 [==============================] - 1389s 11s/step - loss: 1.0999 - accuracy: 0.3278 - val_loss: 1.0996 - val_accuracy: 0.3243\n",
      "Epoch 39/80\n",
      "129/129 [==============================] - 1388s 11s/step - loss: 1.0995 - accuracy: 0.3346 - val_loss: 1.0985 - val_accuracy: 0.3379\n",
      "Epoch 40/80\n",
      "129/129 [==============================] - 1394s 11s/step - loss: 1.1000 - accuracy: 0.3293 - val_loss: 1.0987 - val_accuracy: 0.3379\n",
      "Epoch 41/80\n",
      "129/129 [==============================] - 1387s 11s/step - loss: 1.1000 - accuracy: 0.3205 - val_loss: 1.0990 - val_accuracy: 0.3379\n",
      "Epoch 42/80\n",
      "129/129 [==============================] - 1385s 11s/step - loss: 1.1008 - accuracy: 0.3225 - val_loss: 1.0992 - val_accuracy: 0.3379\n",
      "Epoch 43/80\n",
      "129/129 [==============================] - 1392s 11s/step - loss: 1.0996 - accuracy: 0.3341 - val_loss: 1.1036 - val_accuracy: 0.3243\n",
      "Epoch 44/80\n",
      "129/129 [==============================] - 1397s 11s/step - loss: 1.1009 - accuracy: 0.3273 - val_loss: 1.0986 - val_accuracy: 0.3379\n",
      "Epoch 45/80\n",
      "129/129 [==============================] - 1396s 11s/step - loss: 1.1001 - accuracy: 0.3302 - val_loss: 1.0991 - val_accuracy: 0.3379\n",
      "Epoch 46/80\n",
      "129/129 [==============================] - 1387s 11s/step - loss: 1.1001 - accuracy: 0.3405 - val_loss: 1.0998 - val_accuracy: 0.3243\n",
      "Epoch 47/80\n",
      " 16/129 [==>...........................] - ETA: 19:32 - loss: 1.0978 - accuracy: 0.3672"
     ]
    },
    {
     "ename": "KeyboardInterrupt",
     "evalue": "",
     "output_type": "error",
     "traceback": [
      "\u001b[1;31m---------------------------------------------------------------------------\u001b[0m",
      "\u001b[1;31mKeyboardInterrupt\u001b[0m                         Traceback (most recent call last)",
      "\u001b[1;32m<ipython-input-17-bda8fd3e1d93>\u001b[0m in \u001b[0;36m<module>\u001b[1;34m\u001b[0m\n\u001b[0;32m      1\u001b[0m \u001b[0mstart_time\u001b[0m \u001b[1;33m=\u001b[0m \u001b[0mtime\u001b[0m\u001b[1;33m.\u001b[0m\u001b[0mtime\u001b[0m\u001b[1;33m(\u001b[0m\u001b[1;33m)\u001b[0m\u001b[1;33m\u001b[0m\u001b[1;33m\u001b[0m\u001b[0m\n\u001b[0;32m      2\u001b[0m \u001b[1;33m\u001b[0m\u001b[0m\n\u001b[1;32m----> 3\u001b[1;33m \u001b[0mvgg16_model\u001b[0m\u001b[1;33m.\u001b[0m\u001b[0mfit\u001b[0m\u001b[1;33m(\u001b[0m\u001b[0mx\u001b[0m\u001b[1;33m=\u001b[0m\u001b[0mX_train\u001b[0m\u001b[1;33m,\u001b[0m \u001b[0my\u001b[0m\u001b[1;33m=\u001b[0m\u001b[0my_train\u001b[0m\u001b[1;33m,\u001b[0m \u001b[0mbatch_size\u001b[0m\u001b[1;33m=\u001b[0m\u001b[1;36m16\u001b[0m\u001b[1;33m,\u001b[0m \u001b[0mepochs\u001b[0m\u001b[1;33m=\u001b[0m\u001b[1;36m80\u001b[0m\u001b[1;33m,\u001b[0m \u001b[0mvalidation_data\u001b[0m\u001b[1;33m=\u001b[0m\u001b[1;33m(\u001b[0m\u001b[0mX_val\u001b[0m\u001b[1;33m,\u001b[0m \u001b[0my_val\u001b[0m\u001b[1;33m)\u001b[0m\u001b[1;33m)\u001b[0m\u001b[1;33m\u001b[0m\u001b[1;33m\u001b[0m\u001b[0m\n\u001b[0m\u001b[0;32m      4\u001b[0m \u001b[1;33m\u001b[0m\u001b[0m\n\u001b[0;32m      5\u001b[0m \u001b[0mend_time\u001b[0m \u001b[1;33m=\u001b[0m \u001b[0mtime\u001b[0m\u001b[1;33m.\u001b[0m\u001b[0mtime\u001b[0m\u001b[1;33m(\u001b[0m\u001b[1;33m)\u001b[0m\u001b[1;33m\u001b[0m\u001b[1;33m\u001b[0m\u001b[0m\n",
      "\u001b[1;32mD:\\anaconda\\lib\\site-packages\\tensorflow\\python\\keras\\engine\\training.py\u001b[0m in \u001b[0;36mfit\u001b[1;34m(self, x, y, batch_size, epochs, verbose, callbacks, validation_split, validation_data, shuffle, class_weight, sample_weight, initial_epoch, steps_per_epoch, validation_steps, validation_batch_size, validation_freq, max_queue_size, workers, use_multiprocessing)\u001b[0m\n\u001b[0;32m   1181\u001b[0m                 _r=1):\n\u001b[0;32m   1182\u001b[0m               \u001b[0mcallbacks\u001b[0m\u001b[1;33m.\u001b[0m\u001b[0mon_train_batch_begin\u001b[0m\u001b[1;33m(\u001b[0m\u001b[0mstep\u001b[0m\u001b[1;33m)\u001b[0m\u001b[1;33m\u001b[0m\u001b[1;33m\u001b[0m\u001b[0m\n\u001b[1;32m-> 1183\u001b[1;33m               \u001b[0mtmp_logs\u001b[0m \u001b[1;33m=\u001b[0m \u001b[0mself\u001b[0m\u001b[1;33m.\u001b[0m\u001b[0mtrain_function\u001b[0m\u001b[1;33m(\u001b[0m\u001b[0miterator\u001b[0m\u001b[1;33m)\u001b[0m\u001b[1;33m\u001b[0m\u001b[1;33m\u001b[0m\u001b[0m\n\u001b[0m\u001b[0;32m   1184\u001b[0m               \u001b[1;32mif\u001b[0m \u001b[0mdata_handler\u001b[0m\u001b[1;33m.\u001b[0m\u001b[0mshould_sync\u001b[0m\u001b[1;33m:\u001b[0m\u001b[1;33m\u001b[0m\u001b[1;33m\u001b[0m\u001b[0m\n\u001b[0;32m   1185\u001b[0m                 \u001b[0mcontext\u001b[0m\u001b[1;33m.\u001b[0m\u001b[0masync_wait\u001b[0m\u001b[1;33m(\u001b[0m\u001b[1;33m)\u001b[0m\u001b[1;33m\u001b[0m\u001b[1;33m\u001b[0m\u001b[0m\n",
      "\u001b[1;32mD:\\anaconda\\lib\\site-packages\\tensorflow\\python\\eager\\def_function.py\u001b[0m in \u001b[0;36m__call__\u001b[1;34m(self, *args, **kwds)\u001b[0m\n\u001b[0;32m    887\u001b[0m \u001b[1;33m\u001b[0m\u001b[0m\n\u001b[0;32m    888\u001b[0m       \u001b[1;32mwith\u001b[0m \u001b[0mOptionalXlaContext\u001b[0m\u001b[1;33m(\u001b[0m\u001b[0mself\u001b[0m\u001b[1;33m.\u001b[0m\u001b[0m_jit_compile\u001b[0m\u001b[1;33m)\u001b[0m\u001b[1;33m:\u001b[0m\u001b[1;33m\u001b[0m\u001b[1;33m\u001b[0m\u001b[0m\n\u001b[1;32m--> 889\u001b[1;33m         \u001b[0mresult\u001b[0m \u001b[1;33m=\u001b[0m \u001b[0mself\u001b[0m\u001b[1;33m.\u001b[0m\u001b[0m_call\u001b[0m\u001b[1;33m(\u001b[0m\u001b[1;33m*\u001b[0m\u001b[0margs\u001b[0m\u001b[1;33m,\u001b[0m \u001b[1;33m**\u001b[0m\u001b[0mkwds\u001b[0m\u001b[1;33m)\u001b[0m\u001b[1;33m\u001b[0m\u001b[1;33m\u001b[0m\u001b[0m\n\u001b[0m\u001b[0;32m    890\u001b[0m \u001b[1;33m\u001b[0m\u001b[0m\n\u001b[0;32m    891\u001b[0m       \u001b[0mnew_tracing_count\u001b[0m \u001b[1;33m=\u001b[0m \u001b[0mself\u001b[0m\u001b[1;33m.\u001b[0m\u001b[0mexperimental_get_tracing_count\u001b[0m\u001b[1;33m(\u001b[0m\u001b[1;33m)\u001b[0m\u001b[1;33m\u001b[0m\u001b[1;33m\u001b[0m\u001b[0m\n",
      "\u001b[1;32mD:\\anaconda\\lib\\site-packages\\tensorflow\\python\\eager\\def_function.py\u001b[0m in \u001b[0;36m_call\u001b[1;34m(self, *args, **kwds)\u001b[0m\n\u001b[0;32m    915\u001b[0m       \u001b[1;31m# In this case we have created variables on the first call, so we run the\u001b[0m\u001b[1;33m\u001b[0m\u001b[1;33m\u001b[0m\u001b[1;33m\u001b[0m\u001b[0m\n\u001b[0;32m    916\u001b[0m       \u001b[1;31m# defunned version which is guaranteed to never create variables.\u001b[0m\u001b[1;33m\u001b[0m\u001b[1;33m\u001b[0m\u001b[1;33m\u001b[0m\u001b[0m\n\u001b[1;32m--> 917\u001b[1;33m       \u001b[1;32mreturn\u001b[0m \u001b[0mself\u001b[0m\u001b[1;33m.\u001b[0m\u001b[0m_stateless_fn\u001b[0m\u001b[1;33m(\u001b[0m\u001b[1;33m*\u001b[0m\u001b[0margs\u001b[0m\u001b[1;33m,\u001b[0m \u001b[1;33m**\u001b[0m\u001b[0mkwds\u001b[0m\u001b[1;33m)\u001b[0m  \u001b[1;31m# pylint: disable=not-callable\u001b[0m\u001b[1;33m\u001b[0m\u001b[1;33m\u001b[0m\u001b[0m\n\u001b[0m\u001b[0;32m    918\u001b[0m     \u001b[1;32melif\u001b[0m \u001b[0mself\u001b[0m\u001b[1;33m.\u001b[0m\u001b[0m_stateful_fn\u001b[0m \u001b[1;32mis\u001b[0m \u001b[1;32mnot\u001b[0m \u001b[1;32mNone\u001b[0m\u001b[1;33m:\u001b[0m\u001b[1;33m\u001b[0m\u001b[1;33m\u001b[0m\u001b[0m\n\u001b[0;32m    919\u001b[0m       \u001b[1;31m# Release the lock early so that multiple threads can perform the call\u001b[0m\u001b[1;33m\u001b[0m\u001b[1;33m\u001b[0m\u001b[1;33m\u001b[0m\u001b[0m\n",
      "\u001b[1;32mD:\\anaconda\\lib\\site-packages\\tensorflow\\python\\eager\\function.py\u001b[0m in \u001b[0;36m__call__\u001b[1;34m(self, *args, **kwargs)\u001b[0m\n\u001b[0;32m   3021\u001b[0m       (graph_function,\n\u001b[0;32m   3022\u001b[0m        filtered_flat_args) = self._maybe_define_function(args, kwargs)\n\u001b[1;32m-> 3023\u001b[1;33m     return graph_function._call_flat(\n\u001b[0m\u001b[0;32m   3024\u001b[0m         filtered_flat_args, captured_inputs=graph_function.captured_inputs)  # pylint: disable=protected-access\n\u001b[0;32m   3025\u001b[0m \u001b[1;33m\u001b[0m\u001b[0m\n",
      "\u001b[1;32mD:\\anaconda\\lib\\site-packages\\tensorflow\\python\\eager\\function.py\u001b[0m in \u001b[0;36m_call_flat\u001b[1;34m(self, args, captured_inputs, cancellation_manager)\u001b[0m\n\u001b[0;32m   1958\u001b[0m         and executing_eagerly):\n\u001b[0;32m   1959\u001b[0m       \u001b[1;31m# No tape is watching; skip to running the function.\u001b[0m\u001b[1;33m\u001b[0m\u001b[1;33m\u001b[0m\u001b[1;33m\u001b[0m\u001b[0m\n\u001b[1;32m-> 1960\u001b[1;33m       return self._build_call_outputs(self._inference_function.call(\n\u001b[0m\u001b[0;32m   1961\u001b[0m           ctx, args, cancellation_manager=cancellation_manager))\n\u001b[0;32m   1962\u001b[0m     forward_backward = self._select_forward_and_backward_functions(\n",
      "\u001b[1;32mD:\\anaconda\\lib\\site-packages\\tensorflow\\python\\eager\\function.py\u001b[0m in \u001b[0;36mcall\u001b[1;34m(self, ctx, args, cancellation_manager)\u001b[0m\n\u001b[0;32m    589\u001b[0m       \u001b[1;32mwith\u001b[0m \u001b[0m_InterpolateFunctionError\u001b[0m\u001b[1;33m(\u001b[0m\u001b[0mself\u001b[0m\u001b[1;33m)\u001b[0m\u001b[1;33m:\u001b[0m\u001b[1;33m\u001b[0m\u001b[1;33m\u001b[0m\u001b[0m\n\u001b[0;32m    590\u001b[0m         \u001b[1;32mif\u001b[0m \u001b[0mcancellation_manager\u001b[0m \u001b[1;32mis\u001b[0m \u001b[1;32mNone\u001b[0m\u001b[1;33m:\u001b[0m\u001b[1;33m\u001b[0m\u001b[1;33m\u001b[0m\u001b[0m\n\u001b[1;32m--> 591\u001b[1;33m           outputs = execute.execute(\n\u001b[0m\u001b[0;32m    592\u001b[0m               \u001b[0mstr\u001b[0m\u001b[1;33m(\u001b[0m\u001b[0mself\u001b[0m\u001b[1;33m.\u001b[0m\u001b[0msignature\u001b[0m\u001b[1;33m.\u001b[0m\u001b[0mname\u001b[0m\u001b[1;33m)\u001b[0m\u001b[1;33m,\u001b[0m\u001b[1;33m\u001b[0m\u001b[1;33m\u001b[0m\u001b[0m\n\u001b[0;32m    593\u001b[0m               \u001b[0mnum_outputs\u001b[0m\u001b[1;33m=\u001b[0m\u001b[0mself\u001b[0m\u001b[1;33m.\u001b[0m\u001b[0m_num_outputs\u001b[0m\u001b[1;33m,\u001b[0m\u001b[1;33m\u001b[0m\u001b[1;33m\u001b[0m\u001b[0m\n",
      "\u001b[1;32mD:\\anaconda\\lib\\site-packages\\tensorflow\\python\\eager\\execute.py\u001b[0m in \u001b[0;36mquick_execute\u001b[1;34m(op_name, num_outputs, inputs, attrs, ctx, name)\u001b[0m\n\u001b[0;32m     57\u001b[0m   \u001b[1;32mtry\u001b[0m\u001b[1;33m:\u001b[0m\u001b[1;33m\u001b[0m\u001b[1;33m\u001b[0m\u001b[0m\n\u001b[0;32m     58\u001b[0m     \u001b[0mctx\u001b[0m\u001b[1;33m.\u001b[0m\u001b[0mensure_initialized\u001b[0m\u001b[1;33m(\u001b[0m\u001b[1;33m)\u001b[0m\u001b[1;33m\u001b[0m\u001b[1;33m\u001b[0m\u001b[0m\n\u001b[1;32m---> 59\u001b[1;33m     tensors = pywrap_tfe.TFE_Py_Execute(ctx._handle, device_name, op_name,\n\u001b[0m\u001b[0;32m     60\u001b[0m                                         inputs, attrs, num_outputs)\n\u001b[0;32m     61\u001b[0m   \u001b[1;32mexcept\u001b[0m \u001b[0mcore\u001b[0m\u001b[1;33m.\u001b[0m\u001b[0m_NotOkStatusException\u001b[0m \u001b[1;32mas\u001b[0m \u001b[0me\u001b[0m\u001b[1;33m:\u001b[0m\u001b[1;33m\u001b[0m\u001b[1;33m\u001b[0m\u001b[0m\n",
      "\u001b[1;31mKeyboardInterrupt\u001b[0m: "
     ]
    }
   ],
   "source": [
    "start_time = time.time()\n",
    "\n",
    "vgg16_model.fit(x=X_train, y=y_train, batch_size=16, epochs=80, validation_data=(X_val, y_val))\n",
    "\n",
    "end_time = time.time()\n",
    "execution_time = (end_time - start_time)\n",
    "print(f\"Elapsed time: {hms_string(execution_time)}\")"
   ]
  },
  {
   "cell_type": "code",
   "execution_count": null,
   "metadata": {},
   "outputs": [],
   "source": []
  }
 ],
 "metadata": {
  "colab": {
   "name": "ishsys2.ipynb",
   "provenance": []
  },
  "kernelspec": {
   "display_name": "Python 3",
   "language": "python",
   "name": "python3"
  },
  "language_info": {
   "codemirror_mode": {
    "name": "ipython",
    "version": 3
   },
   "file_extension": ".py",
   "mimetype": "text/x-python",
   "name": "python",
   "nbconvert_exporter": "python",
   "pygments_lexer": "ipython3",
   "version": "3.8.8"
  }
 },
 "nbformat": 4,
 "nbformat_minor": 1
}
