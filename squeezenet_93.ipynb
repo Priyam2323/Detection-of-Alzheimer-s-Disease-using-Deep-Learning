{
 "cells": [
  {
   "cell_type": "code",
   "execution_count": 1,
   "metadata": {
    "id": "uFCTkCL8SbKi"
   },
   "outputs": [],
   "source": [
    "import tensorflow as tf\n",
    "from tensorflow.keras.layers import Conv2D, Input, ZeroPadding2D, BatchNormalization, Activation, MaxPooling2D, Flatten, Dense\n",
    "from tensorflow.keras.models import Model, load_model\n",
    "from tensorflow.keras.callbacks import TensorBoard, ModelCheckpoint\n",
    "from sklearn.model_selection import train_test_split\n",
    "from sklearn.metrics import f1_score\n",
    "from sklearn.utils import shuffle\n",
    "import cv2\n",
    "import imutils\n",
    "import numpy as np\n",
    "import matplotlib.pyplot as plt\n",
    "import time\n",
    "from os import listdir\n",
    "from pathlib import Path \n",
    "\n",
    "%matplotlib inline\n"
   ]
  },
  {
   "cell_type": "code",
   "execution_count": 8,
   "metadata": {
    "executionInfo": {
     "elapsed": 402,
     "status": "ok",
     "timestamp": 1626253095354,
     "user": {
      "displayName": "Priyam Pandey",
      "photoUrl": "https://lh3.googleusercontent.com/a-/AOh14GjTJi5elTyhTMGu6Y4LrcNUlSOxugpt7J0xwKjX6w=s64",
      "userId": "14279260669392728533"
     },
     "user_tz": -330
    },
    "id": "hUJAl6RKSbKn"
   },
   "outputs": [],
   "source": [
    "def load_data(dir_list,image_size):\n",
    "    \"\"\"\n",
    "    Read images, resize and normalize them. \n",
    "    \"\"\"\n",
    "    # load all images in a directory\n",
    "    X = []\n",
    "    y = []\n",
    "    image_width, image_height = image_size\n",
    "    \n",
    "    for directory in dir_list:\n",
    "        for filename in listdir(directory): \n",
    "            # load the image\n",
    "            image = cv2.imread(directory+'//'+filename)\n",
    "            # resize image\n",
    "            image = cv2.resize(image, dsize=(image_width, image_height), interpolation=cv2.INTER_CUBIC)\n",
    "            # normalize values\n",
    "            image = image / 255.\n",
    "            # convert image to numpy array and append it to X\n",
    "            X.append(image)\n",
    "            if directory[-7:] == 'AD_crop':#directory[-6:]\n",
    "                y.append([2])\n",
    "            elif directory[-7:] =='MI_crop':\n",
    "                y.append([1])\n",
    "            else:\n",
    "                y.append([3])\n",
    "                \n",
    "    X = np.array(X)\n",
    "    y = np.array(y)\n",
    "    \n",
    "    # Shuffle the data\n",
    "    X, y = shuffle(X, y)\n",
    "    \n",
    "    print(f'Number of examples is: {len(X)}')\n",
    "    print(f'X shape is: {X.shape}')\n",
    "    print(f'y shape is: {y.shape}')\n",
    "    \n",
    "    return X, y\n"
   ]
  },
  {
   "cell_type": "code",
   "execution_count": 9,
   "metadata": {
    "colab": {
     "base_uri": "https://localhost:8080/"
    },
    "executionInfo": {
     "elapsed": 823447,
     "status": "ok",
     "timestamp": 1626253925975,
     "user": {
      "displayName": "Priyam Pandey",
      "photoUrl": "https://lh3.googleusercontent.com/a-/AOh14GjTJi5elTyhTMGu6Y4LrcNUlSOxugpt7J0xwKjX6w=s64",
      "userId": "14279260669392728533"
     },
     "user_tz": -330
    },
    "id": "5XR2KnulSbKo",
    "outputId": "66a8c35f-2aec-42de-e18b-faab90605e05"
   },
   "outputs": [
    {
     "name": "stdout",
     "output_type": "stream",
     "text": [
      "Number of examples is: 2934\n",
      "X shape is: (2934, 32, 32, 3)\n",
      "y shape is: (2934, 1)\n"
     ]
    }
   ],
   "source": [
    "IMG_WIDTH, IMG_HEIGHT = (32,32)\n",
    "\n",
    "X, y = load_data(['MI_crop','CN_crop','AD_crop'],(IMG_WIDTH, IMG_HEIGHT))\n"
   ]
  },
  {
   "cell_type": "code",
   "execution_count": 10,
   "metadata": {
    "id": "l9Jod9hDUYM6"
   },
   "outputs": [],
   "source": [
    "import os\n",
    "import numpy as np\n",
    "import tensorflow as tf\n",
    "import matplotlib.pyplot as plt\n",
    "from tensorflow.keras import regularizers\n",
    "from tensorflow.keras.models import Sequential, Model\n",
    "from tensorflow.keras.layers import Input, Flatten, Dense, Dropout, BatchNormalization\n",
    "from tensorflow.keras.layers import Conv2D, MaxPooling2D, AveragePooling2D, ZeroPadding2D\n",
    "from tensorflow.keras.layers import Concatenate\n",
    "from tensorflow.keras.optimizers import Adam, SGD"
   ]
  },
  {
   "cell_type": "code",
   "execution_count": 11,
   "metadata": {
    "id": "P8PMNJnDSbKq"
   },
   "outputs": [],
   "source": [
    "def split_data(X, y, test_size=0.2):\n",
    "       \n",
    "    \"\"\"\n",
    "    Splits data into training, development and test sets.\n",
    "    Arguments:\n",
    "        X: A numpy array with shape = (#_examples, image_width, image_height, #_channels)\n",
    "        y: A numpy array with shape = (#_examples, 1)\n",
    "    Returns:\n",
    "        X_train: A numpy array with shape = (#_train_examples, image_width, image_height, #_channels)\n",
    "        y_train: A numpy array with shape = (#_train_examples, 1)\n",
    "        X_val: A numpy array with shape = (#_val_examples, image_width, image_height, #_channels)\n",
    "        y_val: A numpy array with shape = (#_val_examples, 1)\n",
    "        X_test: A numpy array with shape = (#_test_examples, image_width, image_height, #_channels)\n",
    "        y_test: A numpy array with shape = (#_test_examples, 1)\n",
    "    \"\"\"\n",
    "    \n",
    "    X_train, X_test_val, y_train, y_test_val = train_test_split(X, y, test_size=test_size)\n",
    "    X_test, X_val, y_test, y_val = train_test_split(X_test_val, y_test_val, test_size=0.5)\n",
    "    \n",
    "    return X_train, y_train, X_val, y_val, X_test, y_test\n"
   ]
  },
  {
   "cell_type": "code",
   "execution_count": 12,
   "metadata": {
    "id": "0c6z6lOpSbKr"
   },
   "outputs": [],
   "source": [
    "X_train, y_train, X_val, y_val, X_test, y_test = split_data(X, y, test_size=0.3)"
   ]
  },
  {
   "cell_type": "code",
   "execution_count": 14,
   "metadata": {
    "id": "oB8j8ZFTSbKs",
    "outputId": "9693ce01-0467-4b22-dd20-e394c8583dca"
   },
   "outputs": [
    {
     "name": "stdout",
     "output_type": "stream",
     "text": [
      "number of training examples = 2053\n",
      "number of development examples = 441\n",
      "number of test examples = 440\n",
      "X_train shape: (2053, 32, 32, 3)\n",
      "Y_train shape: (2053, 1)\n",
      "X_val (dev) shape: (441, 32, 32, 3)\n",
      "Y_val (dev) shape: (441, 1)\n",
      "X_test shape: (440, 32, 32, 3)\n",
      "Y_test shape: (440, 1)\n"
     ]
    }
   ],
   "source": [
    "print (\"number of training examples = \" + str(X_train.shape[0]))\n",
    "print (\"number of development examples = \" + str(X_val.shape[0]))\n",
    "print (\"number of test examples = \" + str(X_test.shape[0]))\n",
    "print (\"X_train shape: \" + str(X_train.shape))\n",
    "print (\"Y_train shape: \" + str(y_train.shape))\n",
    "print (\"X_val (dev) shape: \" + str(X_val.shape))\n",
    "print (\"Y_val (dev) shape: \" + str(y_val.shape))\n",
    "print (\"X_test shape: \" + str(X_test.shape))\n",
    "print (\"Y_test shape: \" + str(y_test.shape))\n"
   ]
  },
  {
   "cell_type": "code",
   "execution_count": 15,
   "metadata": {
    "id": "Pp4SvHGZSbKs"
   },
   "outputs": [],
   "source": [
    "def hms_string(sec_elapsed):\n",
    "    h = int(sec_elapsed / (60 * 60))\n",
    "    m = int((sec_elapsed % (60 * 60)) / 60)\n",
    "    s = sec_elapsed % 60\n",
    "    return f\"{h}:{m}:{round(s,1)}\"\n",
    "\n"
   ]
  },
  {
   "cell_type": "code",
   "execution_count": 9,
   "metadata": {
    "id": "x7Q4FAxlSbKt"
   },
   "outputs": [],
   "source": [
    "def compute_f1_score(y_true, prob):\n",
    "    # convert the vector of probabilities to a target vector\n",
    "    y_pred = np.where(prob > 0.5, 1, 0)\n",
    "    \n",
    "    score = f1_score(y_true, y_pred)\n",
    "    \n",
    "    \n",
    "    return score\n"
   ]
  },
  {
   "cell_type": "code",
   "execution_count": 16,
   "metadata": {},
   "outputs": [],
   "source": [
    "from __future__ import absolute_import\n",
    "from __future__ import division\n",
    "from __future__ import print_function\n",
    "\n",
    "import tensorflow as tf\n",
    "import matplotlib\n",
    "import matplotlib.pyplot as plt\n",
    "import numpy as np\n",
    "\n",
    "layers =  tf.keras.layers\n",
    "models = tf.keras.models"
   ]
  },
  {
   "cell_type": "code",
   "execution_count": 17,
   "metadata": {},
   "outputs": [],
   "source": [
    "def fire_module(x, fire_id, squeeze=16, expand=64):\n",
    "    sq1x1 = \"squeeze1x1\"\n",
    "    exp1x1 = \"expand1x1\"\n",
    "    exp3x3 = \"expand3x3\"\n",
    "    relu = \"relu_\"\n",
    "    s_id = 'fire' + str(fire_id) + '/'\n",
    "\n",
    "    channel_axis = 3\n",
    "\n",
    "    x = layers.Convolution2D(squeeze, (1, 1), padding='valid', name=s_id + sq1x1)(x)\n",
    "    x = layers.Activation('relu', name=s_id + relu + sq1x1)(x)\n",
    "\n",
    "    left = layers.Convolution2D(expand, (1, 1), padding='valid', name=s_id + exp1x1)(x)\n",
    "    left = layers.Activation('relu', name=s_id + relu + exp1x1)(left)\n",
    "\n",
    "    right = layers.Convolution2D(expand, (3, 3), padding='same', name=s_id + exp3x3)(x)\n",
    "    right = layers.Activation('relu', name=s_id + relu + exp3x3)(right)\n",
    "\n",
    "    x = layers.concatenate([left, right], axis=channel_axis, name=s_id + 'concat')\n",
    "    return x\n",
    "\n",
    "def SqueezeNet(input_shape=(32,32,3),classes=10):\n",
    "\n",
    "    img_input = layers.Input(shape=input_shape)\n",
    "\n",
    "\n",
    "    x = layers.Convolution2D(64, (3, 3), strides=(2, 2), padding='valid', name='conv1')(img_input)\n",
    "    x = layers.Activation('relu', name='relu_conv1')(x)\n",
    "#     x = layers.MaxPooling2D(pool_size=(3, 3), strides=(2, 2), name='pool1')(x)\n",
    "\n",
    "    x = fire_module(x, fire_id=2, squeeze=16, expand=64)\n",
    "    x = fire_module(x, fire_id=3, squeeze=16, expand=64)\n",
    "    x = layers.MaxPooling2D(pool_size=(3, 3), strides=(2, 2), name='pool3')(x)\n",
    "\n",
    "    x = fire_module(x, fire_id=4, squeeze=32, expand=128)\n",
    "    x = fire_module(x, fire_id=5, squeeze=32, expand=128)\n",
    "    x = layers.Dropout(0.5, name='drop9')(x)\n",
    "\n",
    "    x = layers.Convolution2D(classes, (1, 1), padding='valid', name='conv10')(x)\n",
    "    x = layers.Activation('relu', name='relu_conv10')(x)\n",
    "    x = layers.GlobalAveragePooling2D()(x)\n",
    "    out = layers.Activation('softmax', name='loss')(x)\n",
    "\n",
    "    model = models.Model(img_input, out, name='squeezenet')\n",
    "\n",
    "    return model\n"
   ]
  },
  {
   "cell_type": "code",
   "execution_count": 18,
   "metadata": {
    "id": "i01KJSu7SbKw"
   },
   "outputs": [
    {
     "name": "stdout",
     "output_type": "stream",
     "text": [
      "Model: \"squeezenet\"\n",
      "__________________________________________________________________________________________________\n",
      "Layer (type)                    Output Shape         Param #     Connected to                     \n",
      "==================================================================================================\n",
      "input_1 (InputLayer)            [(None, 32, 32, 3)]  0                                            \n",
      "__________________________________________________________________________________________________\n",
      "conv1 (Conv2D)                  (None, 15, 15, 64)   1792        input_1[0][0]                    \n",
      "__________________________________________________________________________________________________\n",
      "relu_conv1 (Activation)         (None, 15, 15, 64)   0           conv1[0][0]                      \n",
      "__________________________________________________________________________________________________\n",
      "fire2/squeeze1x1 (Conv2D)       (None, 15, 15, 16)   1040        relu_conv1[0][0]                 \n",
      "__________________________________________________________________________________________________\n",
      "fire2/relu_squeeze1x1 (Activati (None, 15, 15, 16)   0           fire2/squeeze1x1[0][0]           \n",
      "__________________________________________________________________________________________________\n",
      "fire2/expand1x1 (Conv2D)        (None, 15, 15, 64)   1088        fire2/relu_squeeze1x1[0][0]      \n",
      "__________________________________________________________________________________________________\n",
      "fire2/expand3x3 (Conv2D)        (None, 15, 15, 64)   9280        fire2/relu_squeeze1x1[0][0]      \n",
      "__________________________________________________________________________________________________\n",
      "fire2/relu_expand1x1 (Activatio (None, 15, 15, 64)   0           fire2/expand1x1[0][0]            \n",
      "__________________________________________________________________________________________________\n",
      "fire2/relu_expand3x3 (Activatio (None, 15, 15, 64)   0           fire2/expand3x3[0][0]            \n",
      "__________________________________________________________________________________________________\n",
      "fire2/concat (Concatenate)      (None, 15, 15, 128)  0           fire2/relu_expand1x1[0][0]       \n",
      "                                                                 fire2/relu_expand3x3[0][0]       \n",
      "__________________________________________________________________________________________________\n",
      "fire3/squeeze1x1 (Conv2D)       (None, 15, 15, 16)   2064        fire2/concat[0][0]               \n",
      "__________________________________________________________________________________________________\n",
      "fire3/relu_squeeze1x1 (Activati (None, 15, 15, 16)   0           fire3/squeeze1x1[0][0]           \n",
      "__________________________________________________________________________________________________\n",
      "fire3/expand1x1 (Conv2D)        (None, 15, 15, 64)   1088        fire3/relu_squeeze1x1[0][0]      \n",
      "__________________________________________________________________________________________________\n",
      "fire3/expand3x3 (Conv2D)        (None, 15, 15, 64)   9280        fire3/relu_squeeze1x1[0][0]      \n",
      "__________________________________________________________________________________________________\n",
      "fire3/relu_expand1x1 (Activatio (None, 15, 15, 64)   0           fire3/expand1x1[0][0]            \n",
      "__________________________________________________________________________________________________\n",
      "fire3/relu_expand3x3 (Activatio (None, 15, 15, 64)   0           fire3/expand3x3[0][0]            \n",
      "__________________________________________________________________________________________________\n",
      "fire3/concat (Concatenate)      (None, 15, 15, 128)  0           fire3/relu_expand1x1[0][0]       \n",
      "                                                                 fire3/relu_expand3x3[0][0]       \n",
      "__________________________________________________________________________________________________\n",
      "pool3 (MaxPooling2D)            (None, 7, 7, 128)    0           fire3/concat[0][0]               \n",
      "__________________________________________________________________________________________________\n",
      "fire4/squeeze1x1 (Conv2D)       (None, 7, 7, 32)     4128        pool3[0][0]                      \n",
      "__________________________________________________________________________________________________\n",
      "fire4/relu_squeeze1x1 (Activati (None, 7, 7, 32)     0           fire4/squeeze1x1[0][0]           \n",
      "__________________________________________________________________________________________________\n",
      "fire4/expand1x1 (Conv2D)        (None, 7, 7, 128)    4224        fire4/relu_squeeze1x1[0][0]      \n",
      "__________________________________________________________________________________________________\n",
      "fire4/expand3x3 (Conv2D)        (None, 7, 7, 128)    36992       fire4/relu_squeeze1x1[0][0]      \n",
      "__________________________________________________________________________________________________\n",
      "fire4/relu_expand1x1 (Activatio (None, 7, 7, 128)    0           fire4/expand1x1[0][0]            \n",
      "__________________________________________________________________________________________________\n",
      "fire4/relu_expand3x3 (Activatio (None, 7, 7, 128)    0           fire4/expand3x3[0][0]            \n",
      "__________________________________________________________________________________________________\n",
      "fire4/concat (Concatenate)      (None, 7, 7, 256)    0           fire4/relu_expand1x1[0][0]       \n",
      "                                                                 fire4/relu_expand3x3[0][0]       \n",
      "__________________________________________________________________________________________________\n",
      "fire5/squeeze1x1 (Conv2D)       (None, 7, 7, 32)     8224        fire4/concat[0][0]               \n",
      "__________________________________________________________________________________________________\n",
      "fire5/relu_squeeze1x1 (Activati (None, 7, 7, 32)     0           fire5/squeeze1x1[0][0]           \n",
      "__________________________________________________________________________________________________\n",
      "fire5/expand1x1 (Conv2D)        (None, 7, 7, 128)    4224        fire5/relu_squeeze1x1[0][0]      \n",
      "__________________________________________________________________________________________________\n",
      "fire5/expand3x3 (Conv2D)        (None, 7, 7, 128)    36992       fire5/relu_squeeze1x1[0][0]      \n",
      "__________________________________________________________________________________________________\n",
      "fire5/relu_expand1x1 (Activatio (None, 7, 7, 128)    0           fire5/expand1x1[0][0]            \n",
      "__________________________________________________________________________________________________\n",
      "fire5/relu_expand3x3 (Activatio (None, 7, 7, 128)    0           fire5/expand3x3[0][0]            \n",
      "__________________________________________________________________________________________________\n",
      "fire5/concat (Concatenate)      (None, 7, 7, 256)    0           fire5/relu_expand1x1[0][0]       \n",
      "                                                                 fire5/relu_expand3x3[0][0]       \n",
      "__________________________________________________________________________________________________\n",
      "drop9 (Dropout)                 (None, 7, 7, 256)    0           fire5/concat[0][0]               \n",
      "__________________________________________________________________________________________________\n",
      "conv10 (Conv2D)                 (None, 7, 7, 10)     2570        drop9[0][0]                      \n",
      "__________________________________________________________________________________________________\n",
      "relu_conv10 (Activation)        (None, 7, 7, 10)     0           conv10[0][0]                     \n",
      "__________________________________________________________________________________________________\n",
      "global_average_pooling2d (Globa (None, 10)           0           relu_conv10[0][0]                \n",
      "__________________________________________________________________________________________________\n",
      "loss (Activation)               (None, 10)           0           global_average_pooling2d[0][0]   \n",
      "==================================================================================================\n",
      "Total params: 122,986\n",
      "Trainable params: 122,986\n",
      "Non-trainable params: 0\n",
      "__________________________________________________________________________________________________\n"
     ]
    }
   ],
   "source": [
    "#model = build_model(IMG_SHAPE)\n",
    "model =SqueezeNet()\n",
    "model.build(input_shape = (None,32,32,3))\n",
    "model.summary()"
   ]
  },
  {
   "cell_type": "code",
   "execution_count": 19,
   "metadata": {
    "id": "pNuUAa0aSbKx"
   },
   "outputs": [],
   "source": [
    "\n",
    "#model.compile(optimizer='adam', loss=tf.keras.losses.SparseCategoricalCrossentropy(), metrics=['accuracy'])\n",
    "\n",
    "model.compile(optimizer='adam', loss=tf.keras.losses.SparseCategoricalCrossentropy(), metrics=['accuracy'])\n",
    "\n",
    "\n",
    "\n",
    "\n"
   ]
  },
  {
   "cell_type": "code",
   "execution_count": 13,
   "metadata": {
    "id": "k8NoPqzUSbKy"
   },
   "outputs": [],
   "source": [
    "log_file_name = f'alzheimer_detection_cnn_{int(time.time())}'\n",
    "tensorboard = TensorBoard(log_dir=f'logs/{log_file_name}')\n"
   ]
  },
  {
   "cell_type": "code",
   "execution_count": 14,
   "metadata": {
    "id": "4s4LeFwlSbKy"
   },
   "outputs": [],
   "source": [
    "#filepath=\"cnn-parameters-improvement-{epoch:02d}-{val_accuracy:.2f}\"\n",
    "i=1\n",
    "filepath=\"cnn-parameters-improvement{i}\"\n",
    "i=i+1\n",
    "# save the model with the best validation (development) accuracy till now\n",
    "checkpoint = ModelCheckpoint(\"models/{}.model\".format(filepath, monitor='val_acc', verbose=1, save_best_only=True, mode='max'))\n"
   ]
  },
  {
   "cell_type": "code",
   "execution_count": 20,
   "metadata": {
    "id": "L5l16xuiSbKz",
    "outputId": "4212797f-322b-48a6-d213-dd0acb5c063b",
    "scrolled": true
   },
   "outputs": [
    {
     "name": "stdout",
     "output_type": "stream",
     "text": [
      "Epoch 1/100\n",
      "129/129 [==============================] - 15s 92ms/step - loss: 1.2573 - accuracy: 0.3346 - val_loss: 1.1019 - val_accuracy: 0.3447\n",
      "Epoch 2/100\n",
      "129/129 [==============================] - 11s 86ms/step - loss: 1.1313 - accuracy: 0.3478 - val_loss: 1.1288 - val_accuracy: 0.3084\n",
      "Epoch 3/100\n",
      "129/129 [==============================] - 11s 86ms/step - loss: 1.1238 - accuracy: 0.3332 - val_loss: 1.1044 - val_accuracy: 0.3469\n",
      "Epoch 4/100\n",
      "129/129 [==============================] - 11s 87ms/step - loss: 1.1200 - accuracy: 0.3205 - val_loss: 1.1086 - val_accuracy: 0.3469\n",
      "Epoch 5/100\n",
      "129/129 [==============================] - 11s 88ms/step - loss: 1.1182 - accuracy: 0.3444 - val_loss: 1.1156 - val_accuracy: 0.3447\n",
      "Epoch 6/100\n",
      "129/129 [==============================] - 11s 87ms/step - loss: 1.1153 - accuracy: 0.3356 - val_loss: 1.1083 - val_accuracy: 0.3469\n",
      "Epoch 7/100\n",
      "129/129 [==============================] - 11s 88ms/step - loss: 1.1157 - accuracy: 0.3293 - val_loss: 1.1108 - val_accuracy: 0.3447\n",
      "Epoch 8/100\n",
      "129/129 [==============================] - 11s 87ms/step - loss: 1.1142 - accuracy: 0.3410 - val_loss: 1.1089 - val_accuracy: 0.3469\n",
      "Epoch 9/100\n",
      "129/129 [==============================] - 11s 88ms/step - loss: 1.1178 - accuracy: 0.3288 - val_loss: 1.1111 - val_accuracy: 0.3084\n",
      "Epoch 10/100\n",
      "129/129 [==============================] - 11s 88ms/step - loss: 1.1123 - accuracy: 0.3268 - val_loss: 1.1187 - val_accuracy: 0.3084\n",
      "Epoch 11/100\n",
      "129/129 [==============================] - 11s 87ms/step - loss: 1.1088 - accuracy: 0.3517 - val_loss: 1.1350 - val_accuracy: 0.3469\n",
      "Epoch 12/100\n",
      "129/129 [==============================] - 11s 88ms/step - loss: 1.1208 - accuracy: 0.3166 - val_loss: 1.0992 - val_accuracy: 0.3447\n",
      "Epoch 13/100\n",
      "129/129 [==============================] - 11s 87ms/step - loss: 1.1109 - accuracy: 0.3288 - val_loss: 1.0986 - val_accuracy: 0.3469\n",
      "Epoch 14/100\n",
      "129/129 [==============================] - 11s 87ms/step - loss: 1.1087 - accuracy: 0.3366 - val_loss: 1.0987 - val_accuracy: 0.3447\n",
      "Epoch 15/100\n",
      "129/129 [==============================] - 11s 88ms/step - loss: 1.1063 - accuracy: 0.3453 - val_loss: 1.0947 - val_accuracy: 0.3492\n",
      "Epoch 16/100\n",
      "129/129 [==============================] - 11s 87ms/step - loss: 0.8841 - accuracy: 0.5261 - val_loss: 0.8877 - val_accuracy: 0.5669\n",
      "Epoch 17/100\n",
      "129/129 [==============================] - 11s 87ms/step - loss: 0.6627 - accuracy: 0.6931 - val_loss: 0.6440 - val_accuracy: 0.6961\n",
      "Epoch 18/100\n",
      "129/129 [==============================] - 11s 88ms/step - loss: 0.4953 - accuracy: 0.7930 - val_loss: 0.4453 - val_accuracy: 0.8141\n",
      "Epoch 19/100\n",
      "129/129 [==============================] - 11s 88ms/step - loss: 0.4062 - accuracy: 0.8281 - val_loss: 0.3617 - val_accuracy: 0.8458\n",
      "Epoch 20/100\n",
      "129/129 [==============================] - 11s 89ms/step - loss: 0.3300 - accuracy: 0.8724 - val_loss: 0.3813 - val_accuracy: 0.8390\n",
      "Epoch 21/100\n",
      "129/129 [==============================] - 11s 88ms/step - loss: 0.2688 - accuracy: 0.9006 - val_loss: 0.3242 - val_accuracy: 0.8639\n",
      "Epoch 22/100\n",
      "129/129 [==============================] - 11s 87ms/step - loss: 0.2489 - accuracy: 0.9036 - val_loss: 0.2298 - val_accuracy: 0.8980\n",
      "Epoch 23/100\n",
      "129/129 [==============================] - 11s 87ms/step - loss: 0.2051 - accuracy: 0.9264 - val_loss: 0.2281 - val_accuracy: 0.9048\n",
      "Epoch 24/100\n",
      "129/129 [==============================] - 11s 87ms/step - loss: 0.1687 - accuracy: 0.9362 - val_loss: 0.3737 - val_accuracy: 0.8639\n",
      "Epoch 25/100\n",
      "129/129 [==============================] - 11s 88ms/step - loss: 0.1472 - accuracy: 0.9450 - val_loss: 0.1731 - val_accuracy: 0.9433\n",
      "Epoch 26/100\n",
      "129/129 [==============================] - 11s 89ms/step - loss: 0.1177 - accuracy: 0.9591 - val_loss: 0.2170 - val_accuracy: 0.9252\n",
      "Epoch 27/100\n",
      "129/129 [==============================] - 11s 89ms/step - loss: 0.1070 - accuracy: 0.9625 - val_loss: 0.2075 - val_accuracy: 0.9342\n",
      "Epoch 28/100\n",
      "129/129 [==============================] - 11s 88ms/step - loss: 0.1431 - accuracy: 0.9450 - val_loss: 0.2139 - val_accuracy: 0.9184\n",
      "Epoch 29/100\n",
      "129/129 [==============================] - 11s 88ms/step - loss: 0.0690 - accuracy: 0.9776 - val_loss: 0.2969 - val_accuracy: 0.9025\n",
      "Epoch 30/100\n",
      "129/129 [==============================] - 11s 88ms/step - loss: 0.0656 - accuracy: 0.9781 - val_loss: 0.2178 - val_accuracy: 0.9365\n",
      "Epoch 31/100\n",
      "129/129 [==============================] - 11s 88ms/step - loss: 0.0781 - accuracy: 0.9737 - val_loss: 0.2252 - val_accuracy: 0.9184\n",
      "Epoch 32/100\n",
      "129/129 [==============================] - 11s 89ms/step - loss: 0.0343 - accuracy: 0.9917 - val_loss: 0.2566 - val_accuracy: 0.9274\n",
      "Epoch 33/100\n",
      "129/129 [==============================] - 11s 88ms/step - loss: 0.1129 - accuracy: 0.9649 - val_loss: 0.1994 - val_accuracy: 0.9410\n",
      "Epoch 34/100\n",
      "129/129 [==============================] - 11s 87ms/step - loss: 0.0510 - accuracy: 0.9839 - val_loss: 0.2358 - val_accuracy: 0.9342\n",
      "Epoch 35/100\n",
      "129/129 [==============================] - 11s 89ms/step - loss: 0.0371 - accuracy: 0.9888 - val_loss: 0.2662 - val_accuracy: 0.9252\n",
      "Epoch 36/100\n",
      "129/129 [==============================] - 11s 87ms/step - loss: 0.0376 - accuracy: 0.9912 - val_loss: 0.3996 - val_accuracy: 0.9025\n",
      "Epoch 37/100\n",
      "129/129 [==============================] - 11s 88ms/step - loss: 0.0862 - accuracy: 0.9742 - val_loss: 0.2493 - val_accuracy: 0.9365\n",
      "Epoch 38/100\n",
      "129/129 [==============================] - 11s 86ms/step - loss: 0.0156 - accuracy: 0.9956 - val_loss: 0.2747 - val_accuracy: 0.9365\n",
      "Epoch 39/100\n",
      "129/129 [==============================] - 11s 87ms/step - loss: 0.0073 - accuracy: 0.9990 - val_loss: 0.2911 - val_accuracy: 0.9365\n",
      "Epoch 40/100\n",
      "129/129 [==============================] - 11s 88ms/step - loss: 0.0038 - accuracy: 0.9995 - val_loss: 0.2973 - val_accuracy: 0.9342\n",
      "Epoch 41/100\n",
      "129/129 [==============================] - 12s 90ms/step - loss: 0.0031 - accuracy: 0.9995 - val_loss: 0.3200 - val_accuracy: 0.9388\n",
      "Epoch 42/100\n",
      "129/129 [==============================] - 11s 87ms/step - loss: 0.0030 - accuracy: 0.9990 - val_loss: 0.4273 - val_accuracy: 0.9184\n",
      "Epoch 43/100\n",
      "129/129 [==============================] - 11s 87ms/step - loss: 0.0030 - accuracy: 0.9995 - val_loss: 0.3395 - val_accuracy: 0.9297\n",
      "Epoch 44/100\n",
      "129/129 [==============================] - 11s 88ms/step - loss: 0.0015 - accuracy: 0.9995 - val_loss: 0.3572 - val_accuracy: 0.9342\n",
      "Epoch 45/100\n",
      "129/129 [==============================] - 11s 88ms/step - loss: 0.0015 - accuracy: 0.9995 - val_loss: 0.3649 - val_accuracy: 0.9388\n",
      "Epoch 46/100\n",
      "129/129 [==============================] - 11s 89ms/step - loss: 0.0019 - accuracy: 0.9990 - val_loss: 0.3802 - val_accuracy: 0.9365\n",
      "Epoch 47/100\n",
      "129/129 [==============================] - 11s 89ms/step - loss: 0.0029 - accuracy: 0.9990 - val_loss: 0.4185 - val_accuracy: 0.9297\n",
      "Epoch 48/100\n",
      "129/129 [==============================] - 11s 89ms/step - loss: 0.0016 - accuracy: 0.9995 - val_loss: 0.3848 - val_accuracy: 0.9410\n",
      "Epoch 49/100\n",
      "129/129 [==============================] - 11s 89ms/step - loss: 0.0014 - accuracy: 0.9985 - val_loss: 0.4114 - val_accuracy: 0.9342\n",
      "Epoch 50/100\n",
      "129/129 [==============================] - 11s 89ms/step - loss: 0.0021 - accuracy: 0.9990 - val_loss: 0.4409 - val_accuracy: 0.9388\n",
      "Epoch 51/100\n",
      "129/129 [==============================] - 12s 89ms/step - loss: 0.0020 - accuracy: 0.9990 - val_loss: 0.4005 - val_accuracy: 0.9388\n",
      "Epoch 52/100\n",
      "129/129 [==============================] - 11s 89ms/step - loss: 0.0014 - accuracy: 0.9995 - val_loss: 0.4301 - val_accuracy: 0.9388\n",
      "Epoch 53/100\n",
      "129/129 [==============================] - 11s 89ms/step - loss: 0.0013 - accuracy: 0.9995 - val_loss: 0.4474 - val_accuracy: 0.9342\n",
      "Epoch 54/100\n",
      "129/129 [==============================] - 11s 88ms/step - loss: 0.0026 - accuracy: 0.9990 - val_loss: 0.4301 - val_accuracy: 0.9388\n",
      "Epoch 55/100\n",
      "129/129 [==============================] - 11s 88ms/step - loss: 0.0020 - accuracy: 0.9995 - val_loss: 0.4488 - val_accuracy: 0.9365\n",
      "Epoch 56/100\n",
      "129/129 [==============================] - 11s 89ms/step - loss: 0.1832 - accuracy: 0.9459 - val_loss: 0.2824 - val_accuracy: 0.9070\n",
      "Epoch 57/100\n",
      "129/129 [==============================] - 11s 88ms/step - loss: 0.0650 - accuracy: 0.9771 - val_loss: 0.2406 - val_accuracy: 0.9297\n",
      "Epoch 58/100\n",
      "129/129 [==============================] - 11s 88ms/step - loss: 0.0329 - accuracy: 0.9883 - val_loss: 0.2919 - val_accuracy: 0.9478\n",
      "Epoch 59/100\n",
      "129/129 [==============================] - 11s 89ms/step - loss: 0.0530 - accuracy: 0.9820 - val_loss: 0.2629 - val_accuracy: 0.9365\n",
      "Epoch 60/100\n",
      "129/129 [==============================] - 11s 88ms/step - loss: 0.0371 - accuracy: 0.9873 - val_loss: 0.2240 - val_accuracy: 0.9524\n",
      "Epoch 61/100\n",
      "129/129 [==============================] - 11s 89ms/step - loss: 0.0267 - accuracy: 0.9927 - val_loss: 0.3145 - val_accuracy: 0.9297\n",
      "Epoch 62/100\n",
      "129/129 [==============================] - 11s 88ms/step - loss: 0.0437 - accuracy: 0.9864 - val_loss: 0.2479 - val_accuracy: 0.9297\n",
      "Epoch 63/100\n",
      "129/129 [==============================] - 11s 88ms/step - loss: 0.0084 - accuracy: 0.9976 - val_loss: 0.2277 - val_accuracy: 0.9569\n",
      "Epoch 64/100\n",
      "129/129 [==============================] - 11s 88ms/step - loss: 0.0028 - accuracy: 0.9990 - val_loss: 0.2565 - val_accuracy: 0.9569\n",
      "Epoch 65/100\n",
      "129/129 [==============================] - 11s 88ms/step - loss: 0.0023 - accuracy: 0.9985 - val_loss: 0.2742 - val_accuracy: 0.9569\n",
      "Epoch 66/100\n",
      "129/129 [==============================] - 11s 89ms/step - loss: 0.0017 - accuracy: 0.9990 - val_loss: 0.2847 - val_accuracy: 0.9501\n",
      "Epoch 67/100\n",
      "129/129 [==============================] - 12s 90ms/step - loss: 0.0014 - accuracy: 0.9990 - val_loss: 0.3032 - val_accuracy: 0.9524\n",
      "Epoch 68/100\n",
      "129/129 [==============================] - 11s 89ms/step - loss: 0.0013 - accuracy: 0.9995 - val_loss: 0.3118 - val_accuracy: 0.9524\n",
      "Epoch 69/100\n",
      "129/129 [==============================] - 11s 88ms/step - loss: 0.0021 - accuracy: 0.9990 - val_loss: 0.3027 - val_accuracy: 0.9592\n",
      "Epoch 70/100\n",
      "129/129 [==============================] - 11s 88ms/step - loss: 0.0018 - accuracy: 0.9990 - val_loss: 0.3089 - val_accuracy: 0.9524\n",
      "Epoch 71/100\n",
      "129/129 [==============================] - 11s 87ms/step - loss: 0.0017 - accuracy: 0.9995 - val_loss: 0.3071 - val_accuracy: 0.9524\n",
      "Epoch 72/100\n",
      "129/129 [==============================] - 11s 89ms/step - loss: 0.0018 - accuracy: 0.9985 - val_loss: 0.3066 - val_accuracy: 0.9546\n",
      "Epoch 73/100\n",
      "129/129 [==============================] - 12s 89ms/step - loss: 0.0012 - accuracy: 0.9995 - val_loss: 0.3220 - val_accuracy: 0.9569\n",
      "Epoch 74/100\n",
      "129/129 [==============================] - 11s 89ms/step - loss: 0.0020 - accuracy: 0.9990 - val_loss: 0.3166 - val_accuracy: 0.9569\n",
      "Epoch 75/100\n",
      "129/129 [==============================] - 11s 88ms/step - loss: 0.0020 - accuracy: 0.9995 - val_loss: 0.3266 - val_accuracy: 0.9592\n",
      "Epoch 76/100\n",
      "129/129 [==============================] - 11s 88ms/step - loss: 0.0022 - accuracy: 0.9990 - val_loss: 0.3503 - val_accuracy: 0.9524\n",
      "Epoch 77/100\n",
      "129/129 [==============================] - 11s 89ms/step - loss: 0.0017 - accuracy: 0.9990 - val_loss: 0.3403 - val_accuracy: 0.9546\n",
      "Epoch 78/100\n",
      "129/129 [==============================] - 11s 88ms/step - loss: 0.0017 - accuracy: 0.9990 - val_loss: 0.3427 - val_accuracy: 0.9569\n",
      "Epoch 79/100\n",
      "129/129 [==============================] - 11s 88ms/step - loss: 0.0126 - accuracy: 0.9976 - val_loss: 0.5603 - val_accuracy: 0.8798\n",
      "Epoch 80/100\n",
      "129/129 [==============================] - 11s 88ms/step - loss: 0.1950 - accuracy: 0.9415 - val_loss: 0.2061 - val_accuracy: 0.9252\n",
      "Epoch 81/100\n",
      "129/129 [==============================] - 11s 88ms/step - loss: 0.0612 - accuracy: 0.9786 - val_loss: 0.3531 - val_accuracy: 0.9093\n",
      "Epoch 82/100\n",
      "129/129 [==============================] - 11s 89ms/step - loss: 0.0343 - accuracy: 0.9888 - val_loss: 0.2588 - val_accuracy: 0.9365\n",
      "Epoch 83/100\n",
      "129/129 [==============================] - 11s 88ms/step - loss: 0.0043 - accuracy: 0.9990 - val_loss: 0.2594 - val_accuracy: 0.9456\n",
      "Epoch 84/100\n",
      "129/129 [==============================] - 12s 89ms/step - loss: 0.0029 - accuracy: 0.9995 - val_loss: 0.2695 - val_accuracy: 0.9592\n",
      "Epoch 85/100\n",
      "129/129 [==============================] - 11s 89ms/step - loss: 0.0020 - accuracy: 0.9990 - val_loss: 0.2983 - val_accuracy: 0.9569\n",
      "Epoch 86/100\n",
      "129/129 [==============================] - 11s 88ms/step - loss: 0.0015 - accuracy: 0.9990 - val_loss: 0.3149 - val_accuracy: 0.9569\n",
      "Epoch 87/100\n",
      "129/129 [==============================] - 11s 89ms/step - loss: 0.0015 - accuracy: 0.9995 - val_loss: 0.3069 - val_accuracy: 0.9546\n",
      "Epoch 88/100\n",
      "129/129 [==============================] - 11s 88ms/step - loss: 0.0015 - accuracy: 0.9995 - val_loss: 0.3017 - val_accuracy: 0.9501\n",
      "Epoch 89/100\n",
      "129/129 [==============================] - 11s 89ms/step - loss: 0.0015 - accuracy: 0.9995 - val_loss: 0.3146 - val_accuracy: 0.9456\n",
      "Epoch 90/100\n",
      "129/129 [==============================] - 11s 89ms/step - loss: 0.0016 - accuracy: 0.9985 - val_loss: 0.3287 - val_accuracy: 0.9546\n",
      "Epoch 91/100\n",
      "129/129 [==============================] - 11s 89ms/step - loss: 0.0012 - accuracy: 0.9995 - val_loss: 0.3231 - val_accuracy: 0.9501\n",
      "Epoch 92/100\n",
      "129/129 [==============================] - 11s 89ms/step - loss: 0.0019 - accuracy: 0.9990 - val_loss: 0.3218 - val_accuracy: 0.9501\n",
      "Epoch 93/100\n",
      "129/129 [==============================] - 11s 89ms/step - loss: 0.0018 - accuracy: 0.9995 - val_loss: 0.3392 - val_accuracy: 0.9569\n",
      "Epoch 94/100\n",
      "129/129 [==============================] - 11s 89ms/step - loss: 0.0016 - accuracy: 0.9990 - val_loss: 0.3152 - val_accuracy: 0.9478\n",
      "Epoch 95/100\n",
      "129/129 [==============================] - 11s 89ms/step - loss: 0.0012 - accuracy: 0.9995 - val_loss: 0.3358 - val_accuracy: 0.9546\n",
      "Epoch 96/100\n",
      "129/129 [==============================] - 11s 89ms/step - loss: 0.0014 - accuracy: 0.9995 - val_loss: 0.3383 - val_accuracy: 0.9410\n",
      "Epoch 97/100\n",
      "129/129 [==============================] - 11s 89ms/step - loss: 0.0014 - accuracy: 0.9995 - val_loss: 0.3839 - val_accuracy: 0.9546\n",
      "Epoch 98/100\n",
      "129/129 [==============================] - 11s 89ms/step - loss: 0.0018 - accuracy: 0.9995 - val_loss: 0.3375 - val_accuracy: 0.9546\n",
      "Epoch 99/100\n",
      "129/129 [==============================] - 12s 89ms/step - loss: 0.0017 - accuracy: 0.9990 - val_loss: 0.3548 - val_accuracy: 0.9478\n",
      "Epoch 100/100\n",
      "129/129 [==============================] - 11s 89ms/step - loss: 0.0016 - accuracy: 0.9985 - val_loss: 0.3704 - val_accuracy: 0.9546\n",
      "Elapsed time: 0:19:4.7\n"
     ]
    }
   ],
   "source": [
    "start_time = time.time()\n",
    "\n",
    "model.fit(x=X_train, y=y_train, batch_size=16, epochs=100, validation_data=(X_val, y_val))\n",
    "\n",
    "end_time = time.time()\n",
    "execution_time = (end_time - start_time)\n",
    "print(f\"Elapsed time: {hms_string(execution_time)}\")\n"
   ]
  },
  {
   "cell_type": "code",
   "execution_count": 21,
   "metadata": {
    "id": "8pbmQ1_kSbK5"
   },
   "outputs": [],
   "source": [
    "history = model.history.history"
   ]
  },
  {
   "cell_type": "code",
   "execution_count": 22,
   "metadata": {
    "id": "xUDk5950SbK5",
    "outputId": "a0481d8b-5803-4d64-b868-1a12b231136c"
   },
   "outputs": [
    {
     "name": "stdout",
     "output_type": "stream",
     "text": [
      "loss\n",
      "accuracy\n",
      "val_loss\n",
      "val_accuracy\n"
     ]
    }
   ],
   "source": [
    "for key in history.keys():\n",
    "    print(key)"
   ]
  },
  {
   "cell_type": "code",
   "execution_count": 24,
   "metadata": {
    "id": "7zQGlzFjSbK6"
   },
   "outputs": [],
   "source": [
    "def plot_metrics(history):\n",
    "    \n",
    "    train_loss = history['loss']\n",
    "    val_loss = history['val_loss']\n",
    "    train_acc = history['accuracy']\n",
    "    val_accuracy = history['val_accuracy']\n",
    "    \n",
    "    # Loss\n",
    "    plt.figure()\n",
    "    plt.plot(train_loss, label='Training Loss')\n",
    "    plt.plot(val_loss, label='Validation Loss')\n",
    "    plt.title('Loss')\n",
    "    plt.legend()\n",
    "    plt.show()\n",
    "    \n",
    "    # Accuracy\n",
    "    plt.figure()\n",
    "    plt.plot(train_acc, label='Training Accuracy')\n",
    "    plt.plot(val_accuracy, label='Validation Accuracy')\n",
    "    plt.title('Accuracy')\n",
    "    plt.legend()\n",
    "    plt.show()"
   ]
  },
  {
   "cell_type": "code",
   "execution_count": 25,
   "metadata": {},
   "outputs": [
    {
     "data": {
      "image/png": "[encoded data removed]",
      "text/plain": [
       "<Figure size 432x288 with 1 Axes>"
      ]
     },
     "metadata": {
      "needs_background": "light"
     },
     "output_type": "display_data"
    },
    {
     "data": {
      "image/png": "[encoded data removed]",
      "text/plain": [
       "<Figure size 432x288 with 1 Axes>"
      ]
     },
     "metadata": {
      "needs_background": "light"
     },
     "output_type": "display_data"
    }
   ],
   "source": [
    "plot_metrics(history)"
   ]
  },
  {
   "cell_type": "code",
   "execution_count": 26,
   "metadata": {
    "id": "jd_Pd_thSbK7",
    "outputId": "32735d82-2bd7-40df-914d-0aa57e709abd"
   },
   "outputs": [
    {
     "data": {
      "text/plain": [
       "['loss', 'accuracy']"
      ]
     },
     "execution_count": 26,
     "metadata": {},
     "output_type": "execute_result"
    }
   ],
   "source": [
    "model.metrics_names"
   ]
  },
  {
   "cell_type": "code",
   "execution_count": 27,
   "metadata": {
    "id": "stDYzqIuSbK8",
    "outputId": "a812f580-bcde-4f38-d958-cb813cb6896d"
   },
   "outputs": [
    {
     "name": "stdout",
     "output_type": "stream",
     "text": [
      "14/14 [==============================] - 1s 40ms/step - loss: 0.3929 - accuracy: 0.9318\n"
     ]
    }
   ],
   "source": [
    "loss, acc = model.evaluate(x=X_test, y=y_test)\n"
   ]
  },
  {
   "cell_type": "code",
   "execution_count": 28,
   "metadata": {
    "id": "TrzFa6k-SbK8",
    "outputId": "d5c086b4-c107-471b-dc49-169878df8c8a"
   },
   "outputs": [
    {
     "name": "stdout",
     "output_type": "stream",
     "text": [
      "Loss = 39.28627669811249\n",
      "Accuracy= 93.18181872367859\n"
     ]
    }
   ],
   "source": [
    "print (f\"Loss = {loss*100}\")\n",
    "print (f\"Accuracy= {acc*100}\")"
   ]
  },
  {
   "cell_type": "code",
   "execution_count": 29,
   "metadata": {
    "id": "azEvFUcnSbK_"
   },
   "outputs": [
    {
     "name": "stdout",
     "output_type": "stream",
     "text": [
      "14/14 [==============================] - 1s 41ms/step - loss: 0.3704 - accuracy: 0.9546\n",
      "Loss = 37.04332709312439\n",
      "Accuracy= 95.46485543251038\n"
     ]
    }
   ],
   "source": [
    "loss, acc = model.evaluate(x=X_val, y=y_val)\n",
    "print (f\"Loss = {loss*100}\")\n",
    "print (f\"Accuracy= {acc*100}\")"
   ]
  },
  {
   "cell_type": "code",
   "execution_count": null,
   "metadata": {},
   "outputs": [],
   "source": []
  }
 ],
 "metadata": {
  "colab": {
   "name": "ishsys2.ipynb",
   "provenance": []
  },
  "kernelspec": {
   "display_name": "Python 3 (ipykernel)",
   "language": "python",
   "name": "python3"
  },
  "language_info": {
   "codemirror_mode": {
    "name": "ipython",
    "version": 3
   },
   "file_extension": ".py",
   "mimetype": "text/x-python",
   "name": "python",
   "nbconvert_exporter": "python",
   "pygments_lexer": "ipython3",
   "version": "3.9.7"
  }
 },
 "nbformat": 4,
 "nbformat_minor": 1
}
